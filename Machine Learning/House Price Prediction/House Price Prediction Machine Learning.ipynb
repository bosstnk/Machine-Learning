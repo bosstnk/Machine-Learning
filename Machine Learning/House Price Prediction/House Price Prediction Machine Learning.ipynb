{
 "cells":[
  {
   "cell_type":"markdown",
   "source":[
    "## Importing libraries"
   ],
   "attachments":{},
   "metadata":{
    "datalore":{
     "node_id":"9cutcB4I3Rd1AvmFWu05Yd",
     "type":"MD",
     "hide_input_from_viewers":true,
     "hide_output_from_viewers":true
    }
   }
  },
  {
   "cell_type":"code",
   "source":[
    "import pandas as pd\n",
    "import numpy as np\n",
    "import matplotlib\n",
    "import seaborn as sns\n",
    "from matplotlib import pyplot as plt\n",
    "\n",
    "from sklearn.model_selection import train_test_split\n",
    "from sklearn.linear_model import LinearRegression\n",
    "\n",
    "from sklearn.model_selection import ShuffleSplit\n",
    "from sklearn.model_selection import cross_val_score\n",
    "\n",
    "from sklearn.model_selection import GridSearchCV\n",
    "from sklearn.tree import DecisionTreeRegressor\n",
    "from sklearn.linear_model import Lasso\n",
    "\n",
    "import warnings\n",
    "warnings.filterwarnings('ignore')"
   ],
   "execution_count":1,
   "outputs":[],
   "metadata":{
    "datalore":{
     "node_id":"ojGPM34cetO18mdm4iHSC6",
     "type":"CODE",
     "hide_input_from_viewers":true,
     "hide_output_from_viewers":true
    }
   }
  },
  {
   "cell_type":"markdown",
   "source":[
    "## Loading and checking the data set"
   ],
   "attachments":{},
   "metadata":{
    "datalore":{
     "node_id":"Rp7aRf8f9n1OpyEmcWCArl",
     "type":"MD",
     "hide_input_from_viewers":true,
     "hide_output_from_viewers":true
    }
   }
  },
  {
   "cell_type":"code",
   "source":[
    "df = pd.read_csv(\"Bengaluru_House_Data.csv\")\n",
    "df.head()"
   ],
   "execution_count":2,
   "outputs":[
    {
     "data":{
      "text\/html":[
       "<div>\n",
       "<style scoped>\n",
       "    .dataframe tbody tr th:only-of-type {\n",
       "        vertical-align: middle;\n",
       "    }\n",
       "\n",
       "    .dataframe tbody tr th {\n",
       "        vertical-align: top;\n",
       "    }\n",
       "\n",
       "    .dataframe thead th {\n",
       "        text-align: right;\n",
       "    }\n",
       "<\/style>\n",
       "<table border=\"1\" class=\"dataframe\">\n",
       "  <thead>\n",
       "    <tr style=\"text-align: right;\">\n",
       "      <th><\/th>\n",
       "      <th>area_type<\/th>\n",
       "      <th>availability<\/th>\n",
       "      <th>location<\/th>\n",
       "      <th>size<\/th>\n",
       "      <th>society<\/th>\n",
       "      <th>total_sqft<\/th>\n",
       "      <th>bath<\/th>\n",
       "      <th>balcony<\/th>\n",
       "      <th>price<\/th>\n",
       "    <\/tr>\n",
       "  <\/thead>\n",
       "  <tbody>\n",
       "    <tr>\n",
       "      <th>0<\/th>\n",
       "      <td>Super built-up  Area<\/td>\n",
       "      <td>19-Dec<\/td>\n",
       "      <td>Electronic City Phase II<\/td>\n",
       "      <td>2 BHK<\/td>\n",
       "      <td>Coomee<\/td>\n",
       "      <td>1056<\/td>\n",
       "      <td>2.0<\/td>\n",
       "      <td>1.0<\/td>\n",
       "      <td>39.07<\/td>\n",
       "    <\/tr>\n",
       "    <tr>\n",
       "      <th>1<\/th>\n",
       "      <td>Plot  Area<\/td>\n",
       "      <td>Ready To Move<\/td>\n",
       "      <td>Chikka Tirupathi<\/td>\n",
       "      <td>4 Bedroom<\/td>\n",
       "      <td>Theanmp<\/td>\n",
       "      <td>2600<\/td>\n",
       "      <td>5.0<\/td>\n",
       "      <td>3.0<\/td>\n",
       "      <td>120.00<\/td>\n",
       "    <\/tr>\n",
       "    <tr>\n",
       "      <th>2<\/th>\n",
       "      <td>Built-up  Area<\/td>\n",
       "      <td>Ready To Move<\/td>\n",
       "      <td>Uttarahalli<\/td>\n",
       "      <td>3 BHK<\/td>\n",
       "      <td>NaN<\/td>\n",
       "      <td>1440<\/td>\n",
       "      <td>2.0<\/td>\n",
       "      <td>3.0<\/td>\n",
       "      <td>62.00<\/td>\n",
       "    <\/tr>\n",
       "    <tr>\n",
       "      <th>3<\/th>\n",
       "      <td>Super built-up  Area<\/td>\n",
       "      <td>Ready To Move<\/td>\n",
       "      <td>Lingadheeranahalli<\/td>\n",
       "      <td>3 BHK<\/td>\n",
       "      <td>Soiewre<\/td>\n",
       "      <td>1521<\/td>\n",
       "      <td>3.0<\/td>\n",
       "      <td>1.0<\/td>\n",
       "      <td>95.00<\/td>\n",
       "    <\/tr>\n",
       "    <tr>\n",
       "      <th>4<\/th>\n",
       "      <td>Super built-up  Area<\/td>\n",
       "      <td>Ready To Move<\/td>\n",
       "      <td>Kothanur<\/td>\n",
       "      <td>2 BHK<\/td>\n",
       "      <td>NaN<\/td>\n",
       "      <td>1200<\/td>\n",
       "      <td>2.0<\/td>\n",
       "      <td>1.0<\/td>\n",
       "      <td>51.00<\/td>\n",
       "    <\/tr>\n",
       "  <\/tbody>\n",
       "<\/table>\n",
       "<\/div>"
      ]
     },
     "metadata":{},
     "output_type":"display_data"
    }
   ],
   "metadata":{
    "datalore":{
     "node_id":"66Ml8gfkYGyMjZIobonBdG",
     "type":"CODE",
     "hide_input_from_viewers":true,
     "hide_output_from_viewers":true
    }
   }
  },
  {
   "cell_type":"markdown",
   "source":[
    "## EDA (Exploratory Data Analysis)"
   ],
   "attachments":{},
   "metadata":{
    "datalore":{
     "node_id":"KQRc1Xos32cf3u8abfO36A",
     "type":"MD",
     "hide_input_from_viewers":true,
     "hide_output_from_viewers":true
    }
   }
  },
  {
   "cell_type":"markdown",
   "source":[
    "### Data exploration "
   ],
   "attachments":{},
   "metadata":{
    "datalore":{
     "node_id":"MQjAezi8o6EC9ZsL1zOJru",
     "type":"MD",
     "hide_input_from_viewers":true,
     "hide_output_from_viewers":true
    }
   }
  },
  {
   "cell_type":"code",
   "source":[
    "# checking the number of rows and Columns in the data frame\n",
    "df.shape"
   ],
   "execution_count":3,
   "outputs":[
    {
     "data":{
      "text\/plain":[
       "(13320, 9)"
      ]
     },
     "metadata":{},
     "output_type":"display_data"
    }
   ],
   "metadata":{
    "datalore":{
     "node_id":"fEhVIqe0Wur3oVtLLkJtYv",
     "type":"CODE",
     "hide_input_from_viewers":true,
     "hide_output_from_viewers":true
    }
   }
  },
  {
   "cell_type":"code",
   "source":[
    "#checking the name each columns\n",
    "df.columns"
   ],
   "execution_count":4,
   "outputs":[
    {
     "data":{
      "text\/plain":[
       "Index(['area_type', 'availability', 'location', 'size', 'society',\n",
       "       'total_sqft', 'bath', 'balcony', 'price'],\n",
       "      dtype='object')"
      ]
     },
     "metadata":{},
     "output_type":"display_data"
    }
   ],
   "metadata":{
    "datalore":{
     "node_id":"nees2GGD7NT8HkdkVJEUek",
     "type":"CODE",
     "hide_input_from_viewers":true,
     "hide_output_from_viewers":true
    }
   }
  },
  {
   "cell_type":"code",
   "source":[
    "# checking the info of the data frame\n",
    "df.info()"
   ],
   "execution_count":5,
   "outputs":[
    {
     "name":"stdout",
     "text":[
      "<class 'pandas.core.frame.DataFrame'>\n",
      "RangeIndex: 13320 entries, 0 to 13319\n",
      "Data columns (total 9 columns):\n",
      " #   Column        Non-Null Count  Dtype  \n",
      "---  ------        --------------  -----  \n",
      " 0   area_type     13320 non-null  object \n",
      " 1   availability  13320 non-null  object \n",
      " 2   location      13319 non-null  object \n",
      " 3   size          13304 non-null  object \n",
      " 4   society       7818 non-null   object \n",
      " 5   total_sqft    13320 non-null  object \n",
      " 6   bath          13247 non-null  float64\n",
      " 7   balcony       12711 non-null  float64\n",
      " 8   price         13320 non-null  float64\n",
      "dtypes: float64(3), object(6)\n",
      "memory usage: 936.7+ KB\n"
     ],
     "output_type":"stream"
    }
   ],
   "metadata":{
    "datalore":{
     "node_id":"bRfNb3sJlNZVsd4WvVP9JE",
     "type":"CODE",
     "hide_input_from_viewers":true,
     "hide_output_from_viewers":true
    }
   }
  },
  {
   "cell_type":"markdown",
   "source":[
    "We discovered an unexpected 'total sqft' column with a data type of 'object' in the dataset. We will investigate it further."
   ],
   "attachments":{},
   "metadata":{
    "datalore":{
     "node_id":"zNqLOXJKvuiSr1AJrRXcGW",
     "type":"MD",
     "hide_input_from_viewers":true,
     "hide_output_from_viewers":true
    }
   }
  },
  {
   "cell_type":"markdown",
   "source":[
    "1. Missing values"
   ],
   "attachments":{},
   "metadata":{
    "datalore":{
     "node_id":"sIdtxsDfMkMLl9TW24ELbG",
     "type":"MD",
     "hide_input_from_viewers":true,
     "hide_output_from_viewers":true
    }
   }
  },
  {
   "cell_type":"code",
   "source":[
    "# check for missing values\n",
    "df.isnull().sum()"
   ],
   "execution_count":6,
   "outputs":[
    {
     "data":{
      "text\/html":[
       "<pre>area_type          0\n",
       "availability       0\n",
       "location           1\n",
       "size              16\n",
       "society         5502\n",
       "total_sqft         0\n",
       "bath              73\n",
       "balcony          609\n",
       "price              0\n",
       "dtype: int64<\/pre>"
      ]
     },
     "metadata":{},
     "output_type":"display_data"
    }
   ],
   "metadata":{
    "datalore":{
     "node_id":"KXi4hILIVt0CPPv9VFBsLv",
     "type":"CODE",
     "hide_input_from_viewers":true,
     "hide_output_from_viewers":true
    }
   }
  },
  {
   "cell_type":"code",
   "source":[
    "print(f'There are {df.isnull().sum().sum()} null values in the dataset.')\n",
    "print(f'There are {df.duplicated().sum()} duplicate rows in the dataset.')"
   ],
   "execution_count":7,
   "outputs":[
    {
     "name":"stdout",
     "text":[
      "There are 6201 null values in the dataset.\n",
      "There are 529 duplicate rows in the dataset.\n"
     ],
     "output_type":"stream"
    }
   ],
   "metadata":{
    "datalore":{
     "node_id":"B2Xjdxh1wsGIRz4kuGUhDf",
     "type":"CODE",
     "hide_input_from_viewers":true,
     "hide_output_from_viewers":true
    }
   }
  },
  {
   "cell_type":"markdown",
   "source":[
    "2. Categorical variable"
   ],
   "attachments":{},
   "metadata":{
    "datalore":{
     "node_id":"9IF9rnSXipRaY9oaGPt4Iy",
     "type":"MD",
     "hide_input_from_viewers":true,
     "hide_output_from_viewers":true
    }
   }
  },
  {
   "cell_type":"code",
   "source":[
    "plt.figure(figsize=(10,6))\n",
    "sns.countplot(x='area_type', data=df, palette=\"hls\", hue='area_type', legend=False)"
   ],
   "execution_count":8,
   "outputs":[
    {
     "data":{
      "text\/plain":[
       "<Axes: xlabel='area_type', ylabel='count'>"
      ]
     },
     "metadata":{},
     "output_type":"display_data"
    },
    {
     "data":{
      "image\/png":"[encoded data removed]"
     },
     "metadata":{
      "image\/png":{}
     },
     "output_type":"display_data"
    }
   ],
   "metadata":{
    "datalore":{
     "node_id":"mhLQ3HLXlRjuLcE5VicP7G",
     "type":"CODE",
     "hide_input_from_viewers":true,
     "hide_output_from_viewers":true
    }
   }
  },
  {
   "cell_type":"code",
   "source":[
    "# Number of different locations\n",
    "len(df.location.unique())"
   ],
   "execution_count":9,
   "outputs":[
    {
     "data":{
      "text\/plain":[
       "1306"
      ]
     },
     "metadata":{},
     "output_type":"display_data"
    }
   ],
   "metadata":{
    "datalore":{
     "node_id":"O6ahFwAP5j07vBGnlNlp52",
     "type":"CODE",
     "hide_input_from_viewers":true,
     "hide_output_from_viewers":true
    }
   }
  },
  {
   "cell_type":"code",
   "source":[
    "# Locations with houses for sale that are less than or equal to 10.\n",
    "location_count = df['location'].value_counts()\n",
    "location_count_less_10 = location_count[location_count <= 10]\n",
    "len(location_count_less_10)"
   ],
   "execution_count":10,
   "outputs":[
    {
     "data":{
      "text\/plain":[
       "1064"
      ]
     },
     "metadata":{},
     "output_type":"display_data"
    }
   ],
   "metadata":{
    "datalore":{
     "node_id":"uSPA9Umxkw8DwBdWnUOgL9",
     "type":"CODE",
     "hide_input_from_viewers":true,
     "hide_output_from_viewers":true
    }
   }
  },
  {
   "cell_type":"markdown",
   "source":[
    "We will reduce the number of unique locations. By grouping rare locations into 'other', we can make the model simpler and more stable."
   ],
   "attachments":{},
   "metadata":{
    "datalore":{
     "node_id":"5dxfizdpzK4O2nZR8oe9MK",
     "type":"MD",
     "hide_input_from_viewers":true,
     "hide_output_from_viewers":true
    }
   }
  },
  {
   "cell_type":"code",
   "source":[
    "# exploration size column\n",
    "df[\"size\"].unique()"
   ],
   "execution_count":11,
   "outputs":[
    {
     "data":{
      "text\/html":[
       "<pre>array(['2 BHK', '4 Bedroom', '3 BHK', '4 BHK', '6 Bedroom', '3 Bedroom',\n",
       "       '1 BHK', '1 RK', '1 Bedroom', '8 Bedroom', '2 Bedroom',\n",
       "       '7 Bedroom', '5 BHK', '7 BHK', '6 BHK', '5 Bedroom', '11 BHK',\n",
       "       '9 BHK', nan, '9 Bedroom', '27 BHK', '10 Bedroom', '11 Bedroom',\n",
       "       '10 BHK', '19 BHK', '16 BHK', '43 Bedroom', '14 BHK', '8 BHK',\n",
       "       '12 Bedroom', '13 BHK', '18 Bedroom'], dtype=object)<\/pre>"
      ]
     },
     "metadata":{},
     "output_type":"display_data"
    }
   ],
   "metadata":{
    "datalore":{
     "node_id":"hOhmXXMp235X7GqXWo24HL",
     "type":"CODE",
     "hide_input_from_viewers":true,
     "hide_output_from_viewers":true
    }
   }
  },
  {
   "cell_type":"markdown",
   "source":[
    "From the above, we can see with clarity that 2 different methods represent Bedroom. One is BHK and the other one is Bedroom. So we are making a new column called BHK and we are discarding all the units (like BHK, Bedroom)."
   ],
   "attachments":{},
   "metadata":{
    "datalore":{
     "node_id":"uxIgoxDAbJJTKv3kz2W7lo",
     "type":"MD",
     "hide_input_from_viewers":true,
     "hide_output_from_viewers":true
    }
   }
  },
  {
   "cell_type":"markdown",
   "source":[
    "3. Numerical variable"
   ],
   "attachments":{},
   "metadata":{
    "datalore":{
     "node_id":"JfB4OWGdhOWvT3ZToNckkU",
     "type":"MD",
     "hide_input_from_viewers":true,
     "hide_output_from_viewers":true
    }
   }
  },
  {
   "cell_type":"code",
   "source":[
    "df.describe()"
   ],
   "execution_count":12,
   "outputs":[
    {
     "data":{
      "text\/html":[
       "<div>\n",
       "<style scoped>\n",
       "    .dataframe tbody tr th:only-of-type {\n",
       "        vertical-align: middle;\n",
       "    }\n",
       "\n",
       "    .dataframe tbody tr th {\n",
       "        vertical-align: top;\n",
       "    }\n",
       "\n",
       "    .dataframe thead th {\n",
       "        text-align: right;\n",
       "    }\n",
       "<\/style>\n",
       "<table border=\"1\" class=\"dataframe\">\n",
       "  <thead>\n",
       "    <tr style=\"text-align: right;\">\n",
       "      <th><\/th>\n",
       "      <th>bath<\/th>\n",
       "      <th>balcony<\/th>\n",
       "      <th>price<\/th>\n",
       "    <\/tr>\n",
       "  <\/thead>\n",
       "  <tbody>\n",
       "    <tr>\n",
       "      <th>count<\/th>\n",
       "      <td>13247.000000<\/td>\n",
       "      <td>12711.000000<\/td>\n",
       "      <td>13320.000000<\/td>\n",
       "    <\/tr>\n",
       "    <tr>\n",
       "      <th>mean<\/th>\n",
       "      <td>2.692610<\/td>\n",
       "      <td>1.584376<\/td>\n",
       "      <td>112.565627<\/td>\n",
       "    <\/tr>\n",
       "    <tr>\n",
       "      <th>std<\/th>\n",
       "      <td>1.341458<\/td>\n",
       "      <td>0.817263<\/td>\n",
       "      <td>148.971674<\/td>\n",
       "    <\/tr>\n",
       "    <tr>\n",
       "      <th>min<\/th>\n",
       "      <td>1.000000<\/td>\n",
       "      <td>0.000000<\/td>\n",
       "      <td>8.000000<\/td>\n",
       "    <\/tr>\n",
       "    <tr>\n",
       "      <th>25%<\/th>\n",
       "      <td>2.000000<\/td>\n",
       "      <td>1.000000<\/td>\n",
       "      <td>50.000000<\/td>\n",
       "    <\/tr>\n",
       "    <tr>\n",
       "      <th>50%<\/th>\n",
       "      <td>2.000000<\/td>\n",
       "      <td>2.000000<\/td>\n",
       "      <td>72.000000<\/td>\n",
       "    <\/tr>\n",
       "    <tr>\n",
       "      <th>75%<\/th>\n",
       "      <td>3.000000<\/td>\n",
       "      <td>2.000000<\/td>\n",
       "      <td>120.000000<\/td>\n",
       "    <\/tr>\n",
       "    <tr>\n",
       "      <th>max<\/th>\n",
       "      <td>40.000000<\/td>\n",
       "      <td>3.000000<\/td>\n",
       "      <td>3600.000000<\/td>\n",
       "    <\/tr>\n",
       "  <\/tbody>\n",
       "<\/table>\n",
       "<\/div>"
      ]
     },
     "metadata":{},
     "output_type":"display_data"
    }
   ],
   "metadata":{
    "datalore":{
     "node_id":"i4lnm6oPU64FzdNkbm7uuu",
     "type":"CODE",
     "hide_input_from_viewers":true,
     "hide_output_from_viewers":true
    }
   }
  },
  {
   "cell_type":"markdown",
   "source":[
    "The data is questionable.\n",
    "\n",
    "Min Bath 1 | Max bath 40\n",
    "\n",
    "ิMin Balcony 0 | Max Balcony 3\n",
    "\n",
    "ิMin price 8 | Max price 3600"
   ],
   "attachments":{},
   "metadata":{
    "datalore":{
     "node_id":"0JAWHUjaj2lx19EDinKP7o",
     "type":"MD",
     "hide_input_from_viewers":true,
     "hide_output_from_viewers":true
    }
   }
  },
  {
   "cell_type":"code",
   "source":[
    "# exploration total_sqft column\n",
    "df[\"total_sqft\"].unique()"
   ],
   "execution_count":13,
   "outputs":[
    {
     "data":{
      "text\/html":[
       "<pre>array(['1056', '2600', '1440', ..., '1133 - 1384', '774', '4689'],\n",
       "      dtype=object)<\/pre>"
      ]
     },
     "metadata":{},
     "output_type":"display_data"
    }
   ],
   "metadata":{
    "datalore":{
     "node_id":"vhUjeCw5CdQbLPGGs1gNk1",
     "type":"CODE",
     "hide_input_from_viewers":true,
     "hide_output_from_viewers":true
    }
   }
  },
  {
   "cell_type":"markdown",
   "source":[
    "From the above shows that total_sqft can be a range (e.g., 1133 - 1384). There may be other hidden patterns. We need to explore and fix them next."
   ],
   "attachments":{},
   "metadata":{
    "datalore":{
     "node_id":"uBta1gkorrVcUn63RYfYJM",
     "type":"MD",
     "hide_input_from_viewers":true,
     "hide_output_from_viewers":true
    }
   }
  },
  {
   "cell_type":"code",
   "source":[
    "feature = ['bath', 'balcony', 'price']\n",
    "fig, axes = plt.subplots(1, 3, figsize=(13, 5))\n",
    "\n",
    "for n, i in enumerate(feature):\n",
    "    sns.boxplot(data=df, y=i, ax=axes[n])\n",
    "    axes[n].set_title(f'Boxplot of {i}')\n",
    "\n",
    "fig.suptitle(\"Boxplots of the Numerical Variables\", fontsize=30)\n",
    "plt.tight_layout(rect=[0, 0, 1, 0.95])\n",
    "plt.show()"
   ],
   "execution_count":14,
   "outputs":[
    {
     "data":{
      "image\/png":"[encoded data removed]"
     },
     "metadata":{
      "image\/png":{}
     },
     "output_type":"display_data"
    }
   ],
   "metadata":{
    "datalore":{
     "node_id":"pFV7JlQrHfD81NgbjHmb8r",
     "type":"CODE",
     "hide_input_from_viewers":true,
     "hide_output_from_viewers":true
    }
   }
  },
  {
   "cell_type":"code",
   "source":[
    "# check outliers\n",
    "outliers_perc = []\n",
    "\n",
    "for col_name, col_data in df[feature].items():\n",
    "    # Column must be of numeric type (not object)\n",
    "    if df[col_name].dtype != 'O':  # 'O' object data type\n",
    "        q1 = col_data.quantile(0.25)  # quartile 1 (25%)\n",
    "        q3 = col_data.quantile(0.75)  # quartile 3 (75%)\n",
    "        iqr = q3 - q1  # IQR (Interquartile Range)\n",
    "        \n",
    "        outliers = col_data[(col_data <= q1 - 1.5 * iqr) | (col_data >= q3 + 1.5 * iqr)]\n",
    "        \n",
    "        perc = len(outliers) * 100.0 \/ len(df)\n",
    "        outliers_perc.append((col_name, int(perc)))\n",
    "        print(f\"Column {col_name} outliers = {perc:.2f}%\")"
   ],
   "execution_count":15,
   "outputs":[
    {
     "name":"stdout",
     "text":[
      "Column bath outliers = 7.80%\n",
      "Column balcony outliers = 0.00%\n",
      "Column price outliers = 9.89%\n"
     ],
     "output_type":"stream"
    }
   ],
   "metadata":{
    "datalore":{
     "node_id":"kqPSPLRKXbJlGneoZc4Klk",
     "type":"CODE",
     "hide_input_from_viewers":true,
     "hide_output_from_viewers":true
    }
   }
  },
  {
   "cell_type":"code",
   "source":[
    "plt.figure(figsize=(10,6))\n",
    "sns.countplot(x='bath', data=df, palette=\"hls\",hue='bath', legend=False)"
   ],
   "execution_count":16,
   "outputs":[
    {
     "data":{
      "text\/plain":[
       "<Axes: xlabel='bath', ylabel='count'>"
      ]
     },
     "metadata":{},
     "output_type":"display_data"
    },
    {
     "data":{
      "image\/png":"[encoded data removed]"
     },
     "metadata":{
      "image\/png":{}
     },
     "output_type":"display_data"
    }
   ],
   "metadata":{
    "datalore":{
     "node_id":"8EV3YL8tOTj3jfyfqiLLcS",
     "type":"CODE",
     "hide_input_from_viewers":true,
     "hide_output_from_viewers":true
    }
   }
  },
  {
   "cell_type":"code",
   "source":[
    "plt.figure(figsize=(10,6))\n",
    "sns.countplot(x='balcony', data=df, palette=\"hls\", hue='balcony', legend=False)"
   ],
   "execution_count":17,
   "outputs":[
    {
     "data":{
      "text\/plain":[
       "<Axes: xlabel='balcony', ylabel='count'>"
      ]
     },
     "metadata":{},
     "output_type":"display_data"
    },
    {
     "data":{
      "image\/png":"[encoded data removed]"
     },
     "metadata":{
      "image\/png":{}
     },
     "output_type":"display_data"
    }
   ],
   "metadata":{
    "datalore":{
     "node_id":"ewoFhd5xT7sOH7o7PcbYt2",
     "type":"CODE",
     "hide_input_from_viewers":true,
     "hide_output_from_viewers":true
    }
   }
  },
  {
   "cell_type":"markdown",
   "source":[
    "4. Other Exploration"
   ],
   "attachments":{},
   "metadata":{
    "datalore":{
     "node_id":"zVu8XfyOw0qBA1nNccGfmF",
     "type":"MD",
     "hide_input_from_viewers":true,
     "hide_output_from_viewers":true
    }
   }
  },
  {
   "cell_type":"code",
   "source":[
    "# scatter plot bath vs price\n",
    "df.plot(x='bath', y='price', style='o')  \n",
    "plt.title('Bath - Price')  \n",
    "plt.xlabel('Bath')\n",
    "plt.ylabel('Price')\n",
    "plt.show()"
   ],
   "execution_count":18,
   "outputs":[
    {
     "data":{
      "image\/png":"[encoded data removed]"
     },
     "metadata":{
      "image\/png":{}
     },
     "output_type":"display_data"
    }
   ],
   "metadata":{
    "datalore":{
     "node_id":"ujVxvfw654TnBpwZnLSZjC",
     "type":"CODE",
     "hide_input_from_viewers":true,
     "hide_output_from_viewers":true
    }
   }
  },
  {
   "cell_type":"code",
   "source":[
    "# Heatmap\n",
    "plt.figure(figsize=(10,7))\n",
    "sns.heatmap(df.corr(), annot=True, cmap='inferno');"
   ],
   "execution_count":19,
   "outputs":[
    {
     "data":{
      "image\/png":"[encoded data removed]"
     },
     "metadata":{
      "image\/png":{}
     },
     "output_type":"display_data"
    }
   ],
   "metadata":{
    "datalore":{
     "node_id":"P3GSroQkgApyK9PpUhirMf",
     "type":"CODE",
     "hide_input_from_viewers":true,
     "hide_output_from_viewers":true
    }
   }
  },
  {
   "cell_type":"markdown",
   "source":[
    "## Data Preprocessing"
   ],
   "attachments":{},
   "metadata":{
    "datalore":{
     "node_id":"ujKVcHvGMkl8Kui6y6o4wz",
     "type":"MD",
     "hide_input_from_viewers":true,
     "hide_output_from_viewers":true
    }
   }
  },
  {
   "cell_type":"markdown",
   "source":[
    "1. Drop unnecessary variables & Missing values"
   ],
   "attachments":{},
   "metadata":{
    "datalore":{
     "node_id":"mXLkjJknEnW1SdUedY8s4B",
     "type":"MD",
     "hide_input_from_viewers":true,
     "hide_output_from_viewers":true
    }
   }
  },
  {
   "cell_type":"code",
   "source":[
    "# Dropping less important features\n",
    "df = df.drop(['area_type', 'availability', 'society', 'balcony'],axis='columns')\n",
    "\n",
    "# dropping the missing values\n",
    "df = df.dropna()\n",
    "# dropping the duplicated values\n",
    "df = df.drop_duplicates()"
   ],
   "execution_count":20,
   "outputs":[],
   "metadata":{
    "datalore":{
     "node_id":"SmCWnJoFOZencmAaS9Roo9",
     "type":"CODE",
     "hide_input_from_viewers":true,
     "hide_output_from_viewers":true
    }
   }
  },
  {
   "cell_type":"code",
   "source":[
    "print(f'There are {df.isnull().sum().sum()} null values in the dataset.')\n",
    "print(f'There are {df.duplicated().sum()} duplicate rows in the dataset.')"
   ],
   "execution_count":21,
   "outputs":[
    {
     "name":"stdout",
     "text":[
      "There are 0 null values in the dataset.\n",
      "There are 0 duplicate rows in the dataset.\n"
     ],
     "output_type":"stream"
    }
   ],
   "metadata":{
    "datalore":{
     "node_id":"aGK4Dx2erIrvKFhw1GWYKb",
     "type":"CODE",
     "hide_input_from_viewers":true,
     "hide_output_from_viewers":true
    }
   }
  },
  {
   "cell_type":"markdown",
   "source":[
    "2. Adjust the data type to 'total sqft' to ensure consistency across the dataset."
   ],
   "attachments":{},
   "metadata":{
    "datalore":{
     "node_id":"3klqhnFcRSEUlHPX11CUg0",
     "type":"MD",
     "hide_input_from_viewers":true,
     "hide_output_from_viewers":true
    }
   }
  },
  {
   "cell_type":"code",
   "source":[
    "df[\"total_sqft\"].unique()"
   ],
   "execution_count":22,
   "outputs":[
    {
     "data":{
      "text\/html":[
       "<pre>array(['1056', '2600', '1440', ..., '1133 - 1384', '774', '4689'],\n",
       "      dtype=object)<\/pre>"
      ]
     },
     "metadata":{},
     "output_type":"display_data"
    }
   ],
   "metadata":{
    "datalore":{
     "node_id":"bwWQ8QuL7RuL11jmOSKIQZ",
     "type":"CODE",
     "hide_input_from_viewers":true,
     "hide_output_from_viewers":true
    }
   }
  },
  {
   "cell_type":"code",
   "source":[
    "# build a function to check float data\n",
    "def is_float(x):\n",
    "    try:\n",
    "        float(x)\n",
    "    except: \n",
    "        return False\n",
    "    return True"
   ],
   "execution_count":23,
   "outputs":[],
   "metadata":{
    "datalore":{
     "node_id":"DMP83EC3gHmBt03J2j528K",
     "type":"CODE",
     "hide_input_from_viewers":true,
     "hide_output_from_viewers":true
    }
   }
  },
  {
   "cell_type":"code",
   "source":[
    "df[~df[\"total_sqft\"].apply(is_float)].head(10)"
   ],
   "execution_count":24,
   "outputs":[
    {
     "data":{
      "text\/html":[
       "<div>\n",
       "<style scoped>\n",
       "    .dataframe tbody tr th:only-of-type {\n",
       "        vertical-align: middle;\n",
       "    }\n",
       "\n",
       "    .dataframe tbody tr th {\n",
       "        vertical-align: top;\n",
       "    }\n",
       "\n",
       "    .dataframe thead th {\n",
       "        text-align: right;\n",
       "    }\n",
       "<\/style>\n",
       "<table border=\"1\" class=\"dataframe\">\n",
       "  <thead>\n",
       "    <tr style=\"text-align: right;\">\n",
       "      <th><\/th>\n",
       "      <th>location<\/th>\n",
       "      <th>size<\/th>\n",
       "      <th>total_sqft<\/th>\n",
       "      <th>bath<\/th>\n",
       "      <th>price<\/th>\n",
       "    <\/tr>\n",
       "  <\/thead>\n",
       "  <tbody>\n",
       "    <tr>\n",
       "      <th>30<\/th>\n",
       "      <td>Yelahanka<\/td>\n",
       "      <td>4 BHK<\/td>\n",
       "      <td>2100 - 2850<\/td>\n",
       "      <td>4.0<\/td>\n",
       "      <td>186.000<\/td>\n",
       "    <\/tr>\n",
       "    <tr>\n",
       "      <th>122<\/th>\n",
       "      <td>Hebbal<\/td>\n",
       "      <td>4 BHK<\/td>\n",
       "      <td>3067 - 8156<\/td>\n",
       "      <td>4.0<\/td>\n",
       "      <td>477.000<\/td>\n",
       "    <\/tr>\n",
       "    <tr>\n",
       "      <th>137<\/th>\n",
       "      <td>8th Phase JP Nagar<\/td>\n",
       "      <td>2 BHK<\/td>\n",
       "      <td>1042 - 1105<\/td>\n",
       "      <td>2.0<\/td>\n",
       "      <td>54.005<\/td>\n",
       "    <\/tr>\n",
       "    <tr>\n",
       "      <th>165<\/th>\n",
       "      <td>Sarjapur<\/td>\n",
       "      <td>2 BHK<\/td>\n",
       "      <td>1145 - 1340<\/td>\n",
       "      <td>2.0<\/td>\n",
       "      <td>43.490<\/td>\n",
       "    <\/tr>\n",
       "    <tr>\n",
       "      <th>188<\/th>\n",
       "      <td>KR Puram<\/td>\n",
       "      <td>2 BHK<\/td>\n",
       "      <td>1015 - 1540<\/td>\n",
       "      <td>2.0<\/td>\n",
       "      <td>56.800<\/td>\n",
       "    <\/tr>\n",
       "    <tr>\n",
       "      <th>410<\/th>\n",
       "      <td>Kengeri<\/td>\n",
       "      <td>1 BHK<\/td>\n",
       "      <td>34.46Sq. Meter<\/td>\n",
       "      <td>1.0<\/td>\n",
       "      <td>18.500<\/td>\n",
       "    <\/tr>\n",
       "    <tr>\n",
       "      <th>549<\/th>\n",
       "      <td>Hennur Road<\/td>\n",
       "      <td>2 BHK<\/td>\n",
       "      <td>1195 - 1440<\/td>\n",
       "      <td>2.0<\/td>\n",
       "      <td>63.770<\/td>\n",
       "    <\/tr>\n",
       "    <tr>\n",
       "      <th>648<\/th>\n",
       "      <td>Arekere<\/td>\n",
       "      <td>9 Bedroom<\/td>\n",
       "      <td>4125Perch<\/td>\n",
       "      <td>9.0<\/td>\n",
       "      <td>265.000<\/td>\n",
       "    <\/tr>\n",
       "    <tr>\n",
       "      <th>661<\/th>\n",
       "      <td>Yelahanka<\/td>\n",
       "      <td>2 BHK<\/td>\n",
       "      <td>1120 - 1145<\/td>\n",
       "      <td>2.0<\/td>\n",
       "      <td>48.130<\/td>\n",
       "    <\/tr>\n",
       "    <tr>\n",
       "      <th>672<\/th>\n",
       "      <td>Bettahalsoor<\/td>\n",
       "      <td>4 Bedroom<\/td>\n",
       "      <td>3090 - 5002<\/td>\n",
       "      <td>4.0<\/td>\n",
       "      <td>445.000<\/td>\n",
       "    <\/tr>\n",
       "  <\/tbody>\n",
       "<\/table>\n",
       "<\/div>"
      ]
     },
     "metadata":{},
     "output_type":"display_data"
    }
   ],
   "metadata":{
    "datalore":{
     "node_id":"Eekhzykq1CHE5ogaGOGOga",
     "type":"CODE",
     "hide_input_from_viewers":true,
     "hide_output_from_viewers":true
    }
   }
  },
  {
   "cell_type":"markdown",
   "source":[
    "From the above, total_sqft might be a range like 3090-5002, and we can use the average of the minimum and maximum values. There are also cases like 34.46 Sq. Meter, which can be converted to square feet, but we will drop these specific cases to keep things simple."
   ],
   "attachments":{},
   "metadata":{
    "datalore":{
     "node_id":"1DgC2248kCLNoOjm8U8vJa",
     "type":"MD",
     "hide_input_from_viewers":true,
     "hide_output_from_viewers":true
    }
   }
  },
  {
   "cell_type":"code",
   "source":[
    "# build function to convert rang data to mean data\n",
    "def convert_sqft_to_num(x):\n",
    "    token = x.split(\"-\")\n",
    "    if len(token) == 2:\n",
    "        return (float(token[0])+float(token[1]))\/2\n",
    "    try:\n",
    "        return float(x)\n",
    "    except:\n",
    "        return None"
   ],
   "execution_count":25,
   "outputs":[],
   "metadata":{
    "datalore":{
     "node_id":"7qvryzOY07GwINbno8teCj",
     "type":"CODE",
     "hide_input_from_viewers":true,
     "hide_output_from_viewers":true
    }
   }
  },
  {
   "cell_type":"code",
   "source":[
    "df[\"total_sqft\"] = df[\"total_sqft\"].apply(convert_sqft_to_num)\n",
    "# drop none value from convert_sqft_to_num\n",
    "df = df.dropna()\n",
    "df.isnull().sum()"
   ],
   "execution_count":26,
   "outputs":[
    {
     "data":{
      "text\/html":[
       "<pre>location      0\n",
       "size          0\n",
       "total_sqft    0\n",
       "bath          0\n",
       "price         0\n",
       "dtype: int64<\/pre>"
      ]
     },
     "metadata":{},
     "output_type":"display_data"
    }
   ],
   "metadata":{
    "datalore":{
     "node_id":"OgfkBF06aV5VzrDpmQrYXC",
     "type":"CODE",
     "hide_input_from_viewers":true,
     "hide_output_from_viewers":true
    }
   }
  },
  {
   "cell_type":"markdown",
   "source":[
    "3. Reduce dimension"
   ],
   "attachments":{},
   "metadata":{
    "datalore":{
     "node_id":"hf9ZfQKhcKKSaXScffIs1S",
     "type":"MD",
     "hide_input_from_viewers":true,
     "hide_output_from_viewers":true
    }
   }
  },
  {
   "cell_type":"code",
   "source":[
    "len(df.location.unique())"
   ],
   "execution_count":27,
   "outputs":[
    {
     "data":{
      "text\/plain":[
       "1298"
      ]
     },
     "metadata":{},
     "output_type":"display_data"
    }
   ],
   "metadata":{
    "datalore":{
     "node_id":"meRZYQXKKMdxHiGNAZh2wB",
     "type":"CODE",
     "hide_input_from_viewers":true,
     "hide_output_from_viewers":true
    }
   }
  },
  {
   "cell_type":"code",
   "source":[
    "df.location = df.location.apply(lambda x: x.strip())\n",
    "len(df.location.unique())"
   ],
   "execution_count":28,
   "outputs":[
    {
     "data":{
      "text\/plain":[
       "1287"
      ]
     },
     "metadata":{},
     "output_type":"display_data"
    }
   ],
   "metadata":{
    "datalore":{
     "node_id":"ncQ1nIMyUFiWnJ6WQm3JnP",
     "type":"CODE",
     "hide_input_from_viewers":true,
     "hide_output_from_viewers":true
    }
   }
  },
  {
   "cell_type":"code",
   "source":[
    "location_count = df.groupby(\"location\")[\"location\"].agg(\"count\").sort_values(ascending = False)\n",
    "location_count"
   ],
   "execution_count":29,
   "outputs":[
    {
     "data":{
      "text\/html":[
       "<pre>location\n",
       "Whitefield               500\n",
       "Sarjapur  Road           357\n",
       "Electronic City          275\n",
       "Thanisandra              224\n",
       "Kanakpura Road           215\n",
       "                        ... \n",
       "1 Giri Nagar               1\n",
       "Kanakapura Road,           1\n",
       "Kanakapura main  Road      1\n",
       "Kannur                     1\n",
       "whitefiled                 1\n",
       "Name: location, Length: 1287, dtype: int64<\/pre>"
      ]
     },
     "metadata":{},
     "output_type":"display_data"
    }
   ],
   "metadata":{
    "datalore":{
     "node_id":"NsDADrIj1FzzM2kp7Be4ig",
     "type":"CODE",
     "hide_input_from_viewers":true,
     "hide_output_from_viewers":true
    }
   }
  },
  {
   "cell_type":"code",
   "source":[
    "len(location_count[location_count <= 10])"
   ],
   "execution_count":30,
   "outputs":[
    {
     "data":{
      "text\/plain":[
       "1057"
      ]
     },
     "metadata":{},
     "output_type":"display_data"
    }
   ],
   "metadata":{
    "datalore":{
     "node_id":"rYNYzNiKMRB4Gu4i8CXUAJ",
     "type":"CODE",
     "hide_input_from_viewers":true,
     "hide_output_from_viewers":true
    }
   }
  },
  {
   "cell_type":"code",
   "source":[
    "location_count_less_10 = location_count[location_count <= 10]\n",
    "location_count_less_10"
   ],
   "execution_count":31,
   "outputs":[
    {
     "data":{
      "text\/html":[
       "<pre>location\n",
       "Kalkere                  10\n",
       "Thyagaraja Nagar         10\n",
       "BTM 1st Stage            10\n",
       "BEML Layout              10\n",
       "Vasanthapura             10\n",
       "                         ..\n",
       "1 Giri Nagar              1\n",
       "Kanakapura Road,          1\n",
       "Kanakapura main  Road     1\n",
       "Kannur                    1\n",
       "whitefiled                1\n",
       "Name: location, Length: 1057, dtype: int64<\/pre>"
      ]
     },
     "metadata":{},
     "output_type":"display_data"
    }
   ],
   "metadata":{
    "datalore":{
     "node_id":"0cz9iVkTO9U7lSSfgf0SRG",
     "type":"CODE",
     "hide_input_from_viewers":true,
     "hide_output_from_viewers":true
    }
   }
  },
  {
   "cell_type":"code",
   "source":[
    "df.location = df.location.apply(lambda x : \"other\" if x in location_count_less_10 else x)\n",
    "len(df.location.unique())"
   ],
   "execution_count":32,
   "outputs":[
    {
     "data":{
      "text\/plain":[
       "231"
      ]
     },
     "metadata":{},
     "output_type":"display_data"
    }
   ],
   "metadata":{
    "datalore":{
     "node_id":"irjLdbN5mfbr0en3wpPmLS",
     "type":"CODE",
     "hide_input_from_viewers":true,
     "hide_output_from_viewers":true
    }
   }
  },
  {
   "cell_type":"markdown",
   "source":[
    "## Feature Engineering"
   ],
   "attachments":{},
   "metadata":{
    "datalore":{
     "node_id":"I70UT9FntXHS9wpq02ptAL",
     "type":"MD",
     "hide_input_from_viewers":true,
     "hide_output_from_viewers":true
    }
   }
  },
  {
   "cell_type":"markdown",
   "source":[
    "1. Create a BHK column extracted from the size column"
   ],
   "attachments":{},
   "metadata":{
    "datalore":{
     "node_id":"bEnSFJ8jRXjsb6NOiEmnmA",
     "type":"MD",
     "hide_input_from_viewers":true,
     "hide_output_from_viewers":true
    }
   }
  },
  {
   "cell_type":"code",
   "source":[
    "df[\"size\"].unique()"
   ],
   "execution_count":33,
   "outputs":[
    {
     "data":{
      "text\/html":[
       "<pre>array(['2 BHK', '4 Bedroom', '3 BHK', '4 BHK', '6 Bedroom', '3 Bedroom',\n",
       "       '1 BHK', '1 RK', '1 Bedroom', '8 Bedroom', '2 Bedroom',\n",
       "       '7 Bedroom', '5 BHK', '7 BHK', '6 BHK', '5 Bedroom', '11 BHK',\n",
       "       '9 BHK', '9 Bedroom', '27 BHK', '10 Bedroom', '11 Bedroom',\n",
       "       '10 BHK', '19 BHK', '16 BHK', '43 Bedroom', '14 BHK', '8 BHK',\n",
       "       '12 Bedroom', '13 BHK', '18 Bedroom'], dtype=object)<\/pre>"
      ]
     },
     "metadata":{},
     "output_type":"display_data"
    }
   ],
   "metadata":{
    "datalore":{
     "node_id":"Hh7Tjt8lmFCBqhnmr6cP7f",
     "type":"CODE",
     "hide_input_from_viewers":true,
     "hide_output_from_viewers":true
    }
   }
  },
  {
   "cell_type":"code",
   "source":[
    "# extract number from string\n",
    "df[\"bhk\"] = df[\"size\"].apply(lambda x: int(x.split(\" \")[0]))"
   ],
   "execution_count":34,
   "outputs":[],
   "metadata":{
    "datalore":{
     "node_id":"DK0GnkEJczC1uHoIeS3RJZ",
     "type":"CODE",
     "hide_input_from_viewers":true,
     "hide_output_from_viewers":true
    }
   }
  },
  {
   "cell_type":"code",
   "source":[
    "df.head()"
   ],
   "execution_count":35,
   "outputs":[
    {
     "data":{
      "text\/html":[
       "<div>\n",
       "<style scoped>\n",
       "    .dataframe tbody tr th:only-of-type {\n",
       "        vertical-align: middle;\n",
       "    }\n",
       "\n",
       "    .dataframe tbody tr th {\n",
       "        vertical-align: top;\n",
       "    }\n",
       "\n",
       "    .dataframe thead th {\n",
       "        text-align: right;\n",
       "    }\n",
       "<\/style>\n",
       "<table border=\"1\" class=\"dataframe\">\n",
       "  <thead>\n",
       "    <tr style=\"text-align: right;\">\n",
       "      <th><\/th>\n",
       "      <th>location<\/th>\n",
       "      <th>size<\/th>\n",
       "      <th>total_sqft<\/th>\n",
       "      <th>bath<\/th>\n",
       "      <th>price<\/th>\n",
       "      <th>bhk<\/th>\n",
       "    <\/tr>\n",
       "  <\/thead>\n",
       "  <tbody>\n",
       "    <tr>\n",
       "      <th>0<\/th>\n",
       "      <td>Electronic City Phase II<\/td>\n",
       "      <td>2 BHK<\/td>\n",
       "      <td>1056.0<\/td>\n",
       "      <td>2.0<\/td>\n",
       "      <td>39.07<\/td>\n",
       "      <td>2<\/td>\n",
       "    <\/tr>\n",
       "    <tr>\n",
       "      <th>1<\/th>\n",
       "      <td>Chikka Tirupathi<\/td>\n",
       "      <td>4 Bedroom<\/td>\n",
       "      <td>2600.0<\/td>\n",
       "      <td>5.0<\/td>\n",
       "      <td>120.00<\/td>\n",
       "      <td>4<\/td>\n",
       "    <\/tr>\n",
       "    <tr>\n",
       "      <th>2<\/th>\n",
       "      <td>Uttarahalli<\/td>\n",
       "      <td>3 BHK<\/td>\n",
       "      <td>1440.0<\/td>\n",
       "      <td>2.0<\/td>\n",
       "      <td>62.00<\/td>\n",
       "      <td>3<\/td>\n",
       "    <\/tr>\n",
       "    <tr>\n",
       "      <th>3<\/th>\n",
       "      <td>Lingadheeranahalli<\/td>\n",
       "      <td>3 BHK<\/td>\n",
       "      <td>1521.0<\/td>\n",
       "      <td>3.0<\/td>\n",
       "      <td>95.00<\/td>\n",
       "      <td>3<\/td>\n",
       "    <\/tr>\n",
       "    <tr>\n",
       "      <th>4<\/th>\n",
       "      <td>Kothanur<\/td>\n",
       "      <td>2 BHK<\/td>\n",
       "      <td>1200.0<\/td>\n",
       "      <td>2.0<\/td>\n",
       "      <td>51.00<\/td>\n",
       "      <td>2<\/td>\n",
       "    <\/tr>\n",
       "  <\/tbody>\n",
       "<\/table>\n",
       "<\/div>"
      ]
     },
     "metadata":{},
     "output_type":"display_data"
    }
   ],
   "metadata":{
    "datalore":{
     "node_id":"Znwx4Vw64RwZs1uchodV81",
     "type":"CODE",
     "hide_input_from_viewers":true,
     "hide_output_from_viewers":true
    }
   }
  },
  {
   "cell_type":"code",
   "source":[
    "plt.figure(figsize=(20, 8))\n",
    "ax = sns.countplot(x='bhk', data=df, palette=\"hls\")\n",
    "# Add annotations on top of each bar\n",
    "for p in ax.patches:\n",
    "    ax.annotate(f'{int(p.get_height())}', \n",
    "                (p.get_x() + p.get_width() \/ 2., p.get_height()), \n",
    "                ha='center', va='bottom', \n",
    "                color='black')\n",
    "plt.show()"
   ],
   "execution_count":36,
   "outputs":[
    {
     "data":{
      "image\/png":"[encoded data removed]"
     },
     "metadata":{
      "image\/png":{}
     },
     "output_type":"display_data"
    }
   ],
   "metadata":{
    "datalore":{
     "node_id":"9RYUqRcvgtsgffAvJnFXk9",
     "type":"CODE",
     "hide_input_from_viewers":true,
     "hide_output_from_viewers":true
    }
   }
  },
  {
   "cell_type":"code",
   "source":[
    "plt.figure(figsize=(20, 8))\n",
    "sns.boxplot(x = 'bhk', y = 'price', palette=\"hls\", data = df)\n",
    "plt.show()"
   ],
   "execution_count":37,
   "outputs":[
    {
     "data":{
      "image\/png":"[encoded data removed]"
     },
     "metadata":{
      "image\/png":{}
     },
     "output_type":"display_data"
    }
   ],
   "metadata":{
    "datalore":{
     "node_id":"BcepEBk6U0J4q1ELofdaZc",
     "type":"CODE",
     "hide_input_from_viewers":true,
     "hide_output_from_viewers":true
    }
   }
  },
  {
   "cell_type":"code",
   "source":[
    "plt.figure(figsize=(20, 8))\n",
    "sns.boxplot(x = 'bhk', y = 'total_sqft', palette=\"hls\", data = df)\n",
    "plt.show()"
   ],
   "execution_count":38,
   "outputs":[
    {
     "data":{
      "image\/png":"[encoded data removed]"
     },
     "metadata":{
      "image\/png":{}
     },
     "output_type":"display_data"
    }
   ],
   "metadata":{
    "datalore":{
     "node_id":"uXlc8YaeGSPQlXDRh3EHQp",
     "type":"CODE",
     "hide_input_from_viewers":true,
     "hide_output_from_viewers":true
    }
   }
  },
  {
   "cell_type":"code",
   "source":[
    "sns.scatterplot(x='bhk', y='bath', data=df)\n",
    "plt.title(\"BHK vs Bath\")\n",
    "plt.yticks(ticks=range(int(df['bath'].min()), int(df['bath'].max()) + 1, 2)) \n",
    "plt.xticks(ticks=range(df['bhk'].min(), df['bhk'].max() + 1, 2))\n",
    "plt.show()"
   ],
   "execution_count":39,
   "outputs":[
    {
     "data":{
      "image\/png":"[encoded data removed]"
     },
     "metadata":{
      "image\/png":{}
     },
     "output_type":"display_data"
    }
   ],
   "metadata":{
    "datalore":{
     "node_id":"BnFRa2DAmeq9qFxtjinsGM",
     "type":"CODE",
     "hide_input_from_viewers":true,
     "hide_output_from_viewers":true
    }
   }
  },
  {
   "cell_type":"markdown",
   "source":[
    "2. Adding a new feature (Price per Square Feet)"
   ],
   "attachments":{},
   "metadata":{
    "datalore":{
     "node_id":"BuzmQzhq3AfYGijEOcmzz9",
     "type":"MD",
     "hide_input_from_viewers":true,
     "hide_output_from_viewers":true
    }
   }
  },
  {
   "cell_type":"code",
   "source":[
    "df[\"price_per_sqft\"] = df[\"price\"]*100000\/df[\"total_sqft\"] # lakhs (Indian Rupee - ₹) *100000\n",
    "df.head()"
   ],
   "execution_count":40,
   "outputs":[
    {
     "data":{
      "text\/html":[
       "<div>\n",
       "<style scoped>\n",
       "    .dataframe tbody tr th:only-of-type {\n",
       "        vertical-align: middle;\n",
       "    }\n",
       "\n",
       "    .dataframe tbody tr th {\n",
       "        vertical-align: top;\n",
       "    }\n",
       "\n",
       "    .dataframe thead th {\n",
       "        text-align: right;\n",
       "    }\n",
       "<\/style>\n",
       "<table border=\"1\" class=\"dataframe\">\n",
       "  <thead>\n",
       "    <tr style=\"text-align: right;\">\n",
       "      <th><\/th>\n",
       "      <th>location<\/th>\n",
       "      <th>size<\/th>\n",
       "      <th>total_sqft<\/th>\n",
       "      <th>bath<\/th>\n",
       "      <th>price<\/th>\n",
       "      <th>bhk<\/th>\n",
       "      <th>price_per_sqft<\/th>\n",
       "    <\/tr>\n",
       "  <\/thead>\n",
       "  <tbody>\n",
       "    <tr>\n",
       "      <th>0<\/th>\n",
       "      <td>Electronic City Phase II<\/td>\n",
       "      <td>2 BHK<\/td>\n",
       "      <td>1056.0<\/td>\n",
       "      <td>2.0<\/td>\n",
       "      <td>39.07<\/td>\n",
       "      <td>2<\/td>\n",
       "      <td>3699.810606<\/td>\n",
       "    <\/tr>\n",
       "    <tr>\n",
       "      <th>1<\/th>\n",
       "      <td>Chikka Tirupathi<\/td>\n",
       "      <td>4 Bedroom<\/td>\n",
       "      <td>2600.0<\/td>\n",
       "      <td>5.0<\/td>\n",
       "      <td>120.00<\/td>\n",
       "      <td>4<\/td>\n",
       "      <td>4615.384615<\/td>\n",
       "    <\/tr>\n",
       "    <tr>\n",
       "      <th>2<\/th>\n",
       "      <td>Uttarahalli<\/td>\n",
       "      <td>3 BHK<\/td>\n",
       "      <td>1440.0<\/td>\n",
       "      <td>2.0<\/td>\n",
       "      <td>62.00<\/td>\n",
       "      <td>3<\/td>\n",
       "      <td>4305.555556<\/td>\n",
       "    <\/tr>\n",
       "    <tr>\n",
       "      <th>3<\/th>\n",
       "      <td>Lingadheeranahalli<\/td>\n",
       "      <td>3 BHK<\/td>\n",
       "      <td>1521.0<\/td>\n",
       "      <td>3.0<\/td>\n",
       "      <td>95.00<\/td>\n",
       "      <td>3<\/td>\n",
       "      <td>6245.890861<\/td>\n",
       "    <\/tr>\n",
       "    <tr>\n",
       "      <th>4<\/th>\n",
       "      <td>Kothanur<\/td>\n",
       "      <td>2 BHK<\/td>\n",
       "      <td>1200.0<\/td>\n",
       "      <td>2.0<\/td>\n",
       "      <td>51.00<\/td>\n",
       "      <td>2<\/td>\n",
       "      <td>4250.000000<\/td>\n",
       "    <\/tr>\n",
       "  <\/tbody>\n",
       "<\/table>\n",
       "<\/div>"
      ]
     },
     "metadata":{},
     "output_type":"display_data"
    }
   ],
   "metadata":{
    "datalore":{
     "node_id":"kEJpCOMVgUZseNmhOG5N6C",
     "type":"CODE",
     "hide_input_from_viewers":true,
     "hide_output_from_viewers":true
    }
   }
  },
  {
   "cell_type":"code",
   "source":[
    "df.price_per_sqft.describe()"
   ],
   "execution_count":41,
   "outputs":[
    {
     "data":{
      "text\/html":[
       "<pre>count    1.231900e+04\n",
       "mean     8.115050e+03\n",
       "std      1.104734e+05\n",
       "min      2.678298e+02\n",
       "25%      4.307692e+03\n",
       "50%      5.500000e+03\n",
       "75%      7.452904e+03\n",
       "max      1.200000e+07\n",
       "Name: price_per_sqft, dtype: float64<\/pre>"
      ]
     },
     "metadata":{},
     "output_type":"display_data"
    }
   ],
   "metadata":{
    "datalore":{
     "node_id":"uSCfhm4o6Ht0AxQwQhHfme",
     "type":"CODE",
     "hide_input_from_viewers":true,
     "hide_output_from_viewers":true
    }
   }
  },
  {
   "cell_type":"markdown",
   "source":[
    "## Data Preprocessing"
   ],
   "attachments":{},
   "metadata":{
    "datalore":{
     "node_id":"neIYcCM5zkMLkZLf0RqYV9",
     "type":"MD",
     "hide_input_from_viewers":true,
     "hide_output_from_viewers":true
    }
   }
  },
  {
   "cell_type":"markdown",
   "source":[
    "1. Outlier Removal Based on Space Efficiency"
   ],
   "attachments":{},
   "metadata":{
    "datalore":{
     "node_id":"M2vH7BC0iojDGwJsvpKcSy",
     "type":"MD",
     "hide_input_from_viewers":true,
     "hide_output_from_viewers":true
    }
   }
  },
  {
   "cell_type":"code",
   "source":[
    "df[(df.total_sqft\/df.bhk<300)].head()\n",
    "\n",
    "df = df[~(df.total_sqft\/df.bhk<300)]\n",
    "df.shape"
   ],
   "execution_count":42,
   "outputs":[
    {
     "data":{
      "text\/plain":[
       "(11590, 7)"
      ]
     },
     "metadata":{},
     "output_type":"display_data"
    }
   ],
   "metadata":{
    "datalore":{
     "node_id":"IabYnOInSyNFEadHheaqCs",
     "type":"CODE",
     "hide_input_from_viewers":true,
     "hide_output_from_viewers":true
    }
   }
  },
  {
   "cell_type":"markdown",
   "source":[
    "Remove Price Per Square Foot (PPS) Outliers Using IQR"
   ],
   "attachments":{},
   "metadata":{
    "datalore":{
     "node_id":"UxVzHlH2TccJL2qOYY2WeH",
     "type":"MD",
     "hide_input_from_viewers":true,
     "hide_output_from_viewers":true
    }
   }
  },
  {
   "cell_type":"code",
   "source":[
    "def remove_pps_outlier_iqr(df):\n",
    "    df_out = pd.DataFrame()\n",
    "    for key, subdf in df.groupby(\"location\"):\n",
    "        # find Q1 (25th percentile) and Q3 (75th percentile)\n",
    "        Q1 = subdf.price_per_sqft.quantile(0.25)\n",
    "        Q3 = subdf.price_per_sqft.quantile(0.75)\n",
    "        # IQR\n",
    "        IQR = Q3 - Q1\n",
    "        # whisker\n",
    "        lower_bound = Q1 - 0.5 * IQR\n",
    "        upper_bound = Q3 + 0.5 * IQR\n",
    "        # filter data\n",
    "        reduced_df = subdf[(subdf.price_per_sqft >= lower_bound) & (subdf.price_per_sqft <= upper_bound)]\n",
    "        df_out = pd.concat([df_out, reduced_df], ignore_index=True)\n",
    "    return df_out\n",
    "\n",
    "df = remove_pps_outlier_iqr(df)\n",
    "df.shape"
   ],
   "execution_count":43,
   "outputs":[
    {
     "data":{
      "text\/plain":[
       "(9479, 7)"
      ]
     },
     "metadata":{},
     "output_type":"display_data"
    }
   ],
   "metadata":{
    "datalore":{
     "node_id":"2aRZ4tQhcfXlGbS5riZrTn",
     "type":"CODE",
     "hide_input_from_viewers":true,
     "hide_output_from_viewers":true
    }
   }
  },
  {
   "cell_type":"markdown",
   "source":[
    "3. Filtering Unreasonable Bath-to-BHK Ratios"
   ],
   "attachments":{},
   "metadata":{
    "datalore":{
     "node_id":"NErWuOaJrPkqIU6fdz1Pdp",
     "type":"MD",
     "hide_input_from_viewers":true,
     "hide_output_from_viewers":true
    }
   }
  },
  {
   "cell_type":"code",
   "source":[
    "df[df.bath>df.bhk+2]"
   ],
   "execution_count":44,
   "outputs":[
    {
     "data":{
      "text\/html":[
       "<div>\n",
       "<style scoped>\n",
       "    .dataframe tbody tr th:only-of-type {\n",
       "        vertical-align: middle;\n",
       "    }\n",
       "\n",
       "    .dataframe tbody tr th {\n",
       "        vertical-align: top;\n",
       "    }\n",
       "\n",
       "    .dataframe thead th {\n",
       "        text-align: right;\n",
       "    }\n",
       "<\/style>\n",
       "<table border=\"1\" class=\"dataframe\">\n",
       "  <thead>\n",
       "    <tr style=\"text-align: right;\">\n",
       "      <th><\/th>\n",
       "      <th>location<\/th>\n",
       "      <th>size<\/th>\n",
       "      <th>total_sqft<\/th>\n",
       "      <th>bath<\/th>\n",
       "      <th>price<\/th>\n",
       "      <th>bhk<\/th>\n",
       "      <th>price_per_sqft<\/th>\n",
       "    <\/tr>\n",
       "  <\/thead>\n",
       "  <tbody>\n",
       "    <tr>\n",
       "      <th>1466<\/th>\n",
       "      <td>Chikkabanavar<\/td>\n",
       "      <td>4 Bedroom<\/td>\n",
       "      <td>2460.0<\/td>\n",
       "      <td>7.0<\/td>\n",
       "      <td>80.0<\/td>\n",
       "      <td>4<\/td>\n",
       "      <td>3252.032520<\/td>\n",
       "    <\/tr>\n",
       "    <tr>\n",
       "      <th>4839<\/th>\n",
       "      <td>Nagasandra<\/td>\n",
       "      <td>4 Bedroom<\/td>\n",
       "      <td>7000.0<\/td>\n",
       "      <td>8.0<\/td>\n",
       "      <td>450.0<\/td>\n",
       "      <td>4<\/td>\n",
       "      <td>6428.571429<\/td>\n",
       "    <\/tr>\n",
       "    <tr>\n",
       "      <th>6321<\/th>\n",
       "      <td>Thanisandra<\/td>\n",
       "      <td>3 BHK<\/td>\n",
       "      <td>1806.0<\/td>\n",
       "      <td>6.0<\/td>\n",
       "      <td>116.0<\/td>\n",
       "      <td>3<\/td>\n",
       "      <td>6423.034330<\/td>\n",
       "    <\/tr>\n",
       "    <tr>\n",
       "      <th>7807<\/th>\n",
       "      <td>other<\/td>\n",
       "      <td>6 BHK<\/td>\n",
       "      <td>11338.0<\/td>\n",
       "      <td>9.0<\/td>\n",
       "      <td>1000.0<\/td>\n",
       "      <td>6<\/td>\n",
       "      <td>8819.897689<\/td>\n",
       "    <\/tr>\n",
       "  <\/tbody>\n",
       "<\/table>\n",
       "<\/div>"
      ]
     },
     "metadata":{},
     "output_type":"display_data"
    }
   ],
   "metadata":{
    "datalore":{
     "node_id":"wennR4KLNxr4dgp9GGYYN9",
     "type":"CODE",
     "hide_input_from_viewers":true,
     "hide_output_from_viewers":true
    }
   }
  },
  {
   "cell_type":"code",
   "source":[
    "df = df[df.bath<df.bhk+2]\n",
    "df.shape"
   ],
   "execution_count":45,
   "outputs":[
    {
     "data":{
      "text\/plain":[
       "(9397, 7)"
      ]
     },
     "metadata":{},
     "output_type":"display_data"
    }
   ],
   "metadata":{
    "datalore":{
     "node_id":"LmekqJxB1DjW7PQzY8421R",
     "type":"CODE",
     "hide_input_from_viewers":true,
     "hide_output_from_viewers":true
    }
   }
  },
  {
   "cell_type":"markdown",
   "source":[
    "4. Drop unnecessary feature"
   ],
   "attachments":{},
   "metadata":{
    "datalore":{
     "node_id":"nI7jWDVHgrfkZwCZY4zCvp",
     "type":"MD",
     "hide_input_from_viewers":true,
     "hide_output_from_viewers":true
    }
   }
  },
  {
   "cell_type":"code",
   "source":[
    "df = df.drop([\"size\",\"price_per_sqft\"],axis=\"columns\")\n",
    "df.head(3)"
   ],
   "execution_count":46,
   "outputs":[
    {
     "data":{
      "text\/html":[
       "<div>\n",
       "<style scoped>\n",
       "    .dataframe tbody tr th:only-of-type {\n",
       "        vertical-align: middle;\n",
       "    }\n",
       "\n",
       "    .dataframe tbody tr th {\n",
       "        vertical-align: top;\n",
       "    }\n",
       "\n",
       "    .dataframe thead th {\n",
       "        text-align: right;\n",
       "    }\n",
       "<\/style>\n",
       "<table border=\"1\" class=\"dataframe\">\n",
       "  <thead>\n",
       "    <tr style=\"text-align: right;\">\n",
       "      <th><\/th>\n",
       "      <th>location<\/th>\n",
       "      <th>total_sqft<\/th>\n",
       "      <th>bath<\/th>\n",
       "      <th>price<\/th>\n",
       "      <th>bhk<\/th>\n",
       "    <\/tr>\n",
       "  <\/thead>\n",
       "  <tbody>\n",
       "    <tr>\n",
       "      <th>0<\/th>\n",
       "      <td>1st Block Jayanagar<\/td>\n",
       "      <td>2850.0<\/td>\n",
       "      <td>4.0<\/td>\n",
       "      <td>428.0<\/td>\n",
       "      <td>4<\/td>\n",
       "    <\/tr>\n",
       "    <tr>\n",
       "      <th>1<\/th>\n",
       "      <td>1st Block Jayanagar<\/td>\n",
       "      <td>1630.0<\/td>\n",
       "      <td>3.0<\/td>\n",
       "      <td>194.0<\/td>\n",
       "      <td>3<\/td>\n",
       "    <\/tr>\n",
       "    <tr>\n",
       "      <th>2<\/th>\n",
       "      <td>1st Block Jayanagar<\/td>\n",
       "      <td>1875.0<\/td>\n",
       "      <td>2.0<\/td>\n",
       "      <td>235.0<\/td>\n",
       "      <td>3<\/td>\n",
       "    <\/tr>\n",
       "  <\/tbody>\n",
       "<\/table>\n",
       "<\/div>"
      ]
     },
     "metadata":{},
     "output_type":"display_data"
    }
   ],
   "metadata":{
    "datalore":{
     "node_id":"jLxIyOPnJPjIpFoUnLBgKA",
     "type":"CODE",
     "hide_input_from_viewers":true,
     "hide_output_from_viewers":true
    }
   }
  },
  {
   "cell_type":"markdown",
   "source":[
    "5. One-Hot Encoding for Location"
   ],
   "attachments":{},
   "metadata":{
    "datalore":{
     "node_id":"XhlaBx9LwheXldSNgP55CG",
     "type":"MD",
     "hide_input_from_viewers":true,
     "hide_output_from_viewers":true
    }
   }
  },
  {
   "cell_type":"code",
   "source":[
    "dummies = pd.get_dummies(df.location)\n",
    "dummies.head(3)"
   ],
   "execution_count":47,
   "outputs":[
    {
     "data":{
      "text\/html":[
       "<div>\n",
       "<style scoped>\n",
       "    .dataframe tbody tr th:only-of-type {\n",
       "        vertical-align: middle;\n",
       "    }\n",
       "\n",
       "    .dataframe tbody tr th {\n",
       "        vertical-align: top;\n",
       "    }\n",
       "\n",
       "    .dataframe thead th {\n",
       "        text-align: right;\n",
       "    }\n",
       "<\/style>\n",
       "<table border=\"1\" class=\"dataframe\">\n",
       "  <thead>\n",
       "    <tr style=\"text-align: right;\">\n",
       "      <th><\/th>\n",
       "      <th>1st Block Jayanagar<\/th>\n",
       "      <th>1st Phase JP Nagar<\/th>\n",
       "      <th>2nd Stage Nagarbhavi<\/th>\n",
       "      <th>5th Block Hbr Layout<\/th>\n",
       "      <th>5th Phase JP Nagar<\/th>\n",
       "      <th>6th Phase JP Nagar<\/th>\n",
       "      <th>7th Phase JP Nagar<\/th>\n",
       "      <th>8th Phase JP Nagar<\/th>\n",
       "      <th>9th Phase JP Nagar<\/th>\n",
       "      <th>AECS Layout<\/th>\n",
       "      <th>...<\/th>\n",
       "      <th>Vishveshwarya Layout<\/th>\n",
       "      <th>Vishwapriya Layout<\/th>\n",
       "      <th>Vittasandra<\/th>\n",
       "      <th>Whitefield<\/th>\n",
       "      <th>Yelachenahalli<\/th>\n",
       "      <th>Yelahanka<\/th>\n",
       "      <th>Yelahanka New Town<\/th>\n",
       "      <th>Yelenahalli<\/th>\n",
       "      <th>Yeshwanthpur<\/th>\n",
       "      <th>other<\/th>\n",
       "    <\/tr>\n",
       "  <\/thead>\n",
       "  <tbody>\n",
       "    <tr>\n",
       "      <th>0<\/th>\n",
       "      <td>1<\/td>\n",
       "      <td>0<\/td>\n",
       "      <td>0<\/td>\n",
       "      <td>0<\/td>\n",
       "      <td>0<\/td>\n",
       "      <td>0<\/td>\n",
       "      <td>0<\/td>\n",
       "      <td>0<\/td>\n",
       "      <td>0<\/td>\n",
       "      <td>0<\/td>\n",
       "      <td>...<\/td>\n",
       "      <td>0<\/td>\n",
       "      <td>0<\/td>\n",
       "      <td>0<\/td>\n",
       "      <td>0<\/td>\n",
       "      <td>0<\/td>\n",
       "      <td>0<\/td>\n",
       "      <td>0<\/td>\n",
       "      <td>0<\/td>\n",
       "      <td>0<\/td>\n",
       "      <td>0<\/td>\n",
       "    <\/tr>\n",
       "    <tr>\n",
       "      <th>1<\/th>\n",
       "      <td>1<\/td>\n",
       "      <td>0<\/td>\n",
       "      <td>0<\/td>\n",
       "      <td>0<\/td>\n",
       "      <td>0<\/td>\n",
       "      <td>0<\/td>\n",
       "      <td>0<\/td>\n",
       "      <td>0<\/td>\n",
       "      <td>0<\/td>\n",
       "      <td>0<\/td>\n",
       "      <td>...<\/td>\n",
       "      <td>0<\/td>\n",
       "      <td>0<\/td>\n",
       "      <td>0<\/td>\n",
       "      <td>0<\/td>\n",
       "      <td>0<\/td>\n",
       "      <td>0<\/td>\n",
       "      <td>0<\/td>\n",
       "      <td>0<\/td>\n",
       "      <td>0<\/td>\n",
       "      <td>0<\/td>\n",
       "    <\/tr>\n",
       "    <tr>\n",
       "      <th>2<\/th>\n",
       "      <td>1<\/td>\n",
       "      <td>0<\/td>\n",
       "      <td>0<\/td>\n",
       "      <td>0<\/td>\n",
       "      <td>0<\/td>\n",
       "      <td>0<\/td>\n",
       "      <td>0<\/td>\n",
       "      <td>0<\/td>\n",
       "      <td>0<\/td>\n",
       "      <td>0<\/td>\n",
       "      <td>...<\/td>\n",
       "      <td>0<\/td>\n",
       "      <td>0<\/td>\n",
       "      <td>0<\/td>\n",
       "      <td>0<\/td>\n",
       "      <td>0<\/td>\n",
       "      <td>0<\/td>\n",
       "      <td>0<\/td>\n",
       "      <td>0<\/td>\n",
       "      <td>0<\/td>\n",
       "      <td>0<\/td>\n",
       "    <\/tr>\n",
       "  <\/tbody>\n",
       "<\/table>\n",
       "<p>3 rows × 231 columns<\/p>\n",
       "<\/div>"
      ]
     },
     "metadata":{},
     "output_type":"display_data"
    }
   ],
   "metadata":{
    "datalore":{
     "node_id":"fHLtHZbNTzN17BuclnEGvn",
     "type":"CODE",
     "hide_input_from_viewers":true,
     "hide_output_from_viewers":true
    }
   }
  },
  {
   "cell_type":"code",
   "source":[
    "df = pd.concat([df,dummies.drop('other',axis='columns')],axis='columns')\n",
    "df.head()"
   ],
   "execution_count":48,
   "outputs":[
    {
     "data":{
      "text\/html":[
       "<div>\n",
       "<style scoped>\n",
       "    .dataframe tbody tr th:only-of-type {\n",
       "        vertical-align: middle;\n",
       "    }\n",
       "\n",
       "    .dataframe tbody tr th {\n",
       "        vertical-align: top;\n",
       "    }\n",
       "\n",
       "    .dataframe thead th {\n",
       "        text-align: right;\n",
       "    }\n",
       "<\/style>\n",
       "<table border=\"1\" class=\"dataframe\">\n",
       "  <thead>\n",
       "    <tr style=\"text-align: right;\">\n",
       "      <th><\/th>\n",
       "      <th>location<\/th>\n",
       "      <th>total_sqft<\/th>\n",
       "      <th>bath<\/th>\n",
       "      <th>price<\/th>\n",
       "      <th>bhk<\/th>\n",
       "      <th>1st Block Jayanagar<\/th>\n",
       "      <th>1st Phase JP Nagar<\/th>\n",
       "      <th>2nd Stage Nagarbhavi<\/th>\n",
       "      <th>5th Block Hbr Layout<\/th>\n",
       "      <th>5th Phase JP Nagar<\/th>\n",
       "      <th>...<\/th>\n",
       "      <th>Vijayanagar<\/th>\n",
       "      <th>Vishveshwarya Layout<\/th>\n",
       "      <th>Vishwapriya Layout<\/th>\n",
       "      <th>Vittasandra<\/th>\n",
       "      <th>Whitefield<\/th>\n",
       "      <th>Yelachenahalli<\/th>\n",
       "      <th>Yelahanka<\/th>\n",
       "      <th>Yelahanka New Town<\/th>\n",
       "      <th>Yelenahalli<\/th>\n",
       "      <th>Yeshwanthpur<\/th>\n",
       "    <\/tr>\n",
       "  <\/thead>\n",
       "  <tbody>\n",
       "    <tr>\n",
       "      <th>0<\/th>\n",
       "      <td>1st Block Jayanagar<\/td>\n",
       "      <td>2850.0<\/td>\n",
       "      <td>4.0<\/td>\n",
       "      <td>428.0<\/td>\n",
       "      <td>4<\/td>\n",
       "      <td>1<\/td>\n",
       "      <td>0<\/td>\n",
       "      <td>0<\/td>\n",
       "      <td>0<\/td>\n",
       "      <td>0<\/td>\n",
       "      <td>...<\/td>\n",
       "      <td>0<\/td>\n",
       "      <td>0<\/td>\n",
       "      <td>0<\/td>\n",
       "      <td>0<\/td>\n",
       "      <td>0<\/td>\n",
       "      <td>0<\/td>\n",
       "      <td>0<\/td>\n",
       "      <td>0<\/td>\n",
       "      <td>0<\/td>\n",
       "      <td>0<\/td>\n",
       "    <\/tr>\n",
       "    <tr>\n",
       "      <th>1<\/th>\n",
       "      <td>1st Block Jayanagar<\/td>\n",
       "      <td>1630.0<\/td>\n",
       "      <td>3.0<\/td>\n",
       "      <td>194.0<\/td>\n",
       "      <td>3<\/td>\n",
       "      <td>1<\/td>\n",
       "      <td>0<\/td>\n",
       "      <td>0<\/td>\n",
       "      <td>0<\/td>\n",
       "      <td>0<\/td>\n",
       "      <td>...<\/td>\n",
       "      <td>0<\/td>\n",
       "      <td>0<\/td>\n",
       "      <td>0<\/td>\n",
       "      <td>0<\/td>\n",
       "      <td>0<\/td>\n",
       "      <td>0<\/td>\n",
       "      <td>0<\/td>\n",
       "      <td>0<\/td>\n",
       "      <td>0<\/td>\n",
       "      <td>0<\/td>\n",
       "    <\/tr>\n",
       "    <tr>\n",
       "      <th>2<\/th>\n",
       "      <td>1st Block Jayanagar<\/td>\n",
       "      <td>1875.0<\/td>\n",
       "      <td>2.0<\/td>\n",
       "      <td>235.0<\/td>\n",
       "      <td>3<\/td>\n",
       "      <td>1<\/td>\n",
       "      <td>0<\/td>\n",
       "      <td>0<\/td>\n",
       "      <td>0<\/td>\n",
       "      <td>0<\/td>\n",
       "      <td>...<\/td>\n",
       "      <td>0<\/td>\n",
       "      <td>0<\/td>\n",
       "      <td>0<\/td>\n",
       "      <td>0<\/td>\n",
       "      <td>0<\/td>\n",
       "      <td>0<\/td>\n",
       "      <td>0<\/td>\n",
       "      <td>0<\/td>\n",
       "      <td>0<\/td>\n",
       "      <td>0<\/td>\n",
       "    <\/tr>\n",
       "    <tr>\n",
       "      <th>3<\/th>\n",
       "      <td>1st Block Jayanagar<\/td>\n",
       "      <td>1200.0<\/td>\n",
       "      <td>2.0<\/td>\n",
       "      <td>130.0<\/td>\n",
       "      <td>3<\/td>\n",
       "      <td>1<\/td>\n",
       "      <td>0<\/td>\n",
       "      <td>0<\/td>\n",
       "      <td>0<\/td>\n",
       "      <td>0<\/td>\n",
       "      <td>...<\/td>\n",
       "      <td>0<\/td>\n",
       "      <td>0<\/td>\n",
       "      <td>0<\/td>\n",
       "      <td>0<\/td>\n",
       "      <td>0<\/td>\n",
       "      <td>0<\/td>\n",
       "      <td>0<\/td>\n",
       "      <td>0<\/td>\n",
       "      <td>0<\/td>\n",
       "      <td>0<\/td>\n",
       "    <\/tr>\n",
       "    <tr>\n",
       "      <th>4<\/th>\n",
       "      <td>1st Block Jayanagar<\/td>\n",
       "      <td>1235.0<\/td>\n",
       "      <td>2.0<\/td>\n",
       "      <td>148.0<\/td>\n",
       "      <td>2<\/td>\n",
       "      <td>1<\/td>\n",
       "      <td>0<\/td>\n",
       "      <td>0<\/td>\n",
       "      <td>0<\/td>\n",
       "      <td>0<\/td>\n",
       "      <td>...<\/td>\n",
       "      <td>0<\/td>\n",
       "      <td>0<\/td>\n",
       "      <td>0<\/td>\n",
       "      <td>0<\/td>\n",
       "      <td>0<\/td>\n",
       "      <td>0<\/td>\n",
       "      <td>0<\/td>\n",
       "      <td>0<\/td>\n",
       "      <td>0<\/td>\n",
       "      <td>0<\/td>\n",
       "    <\/tr>\n",
       "  <\/tbody>\n",
       "<\/table>\n",
       "<p>5 rows × 235 columns<\/p>\n",
       "<\/div>"
      ]
     },
     "metadata":{},
     "output_type":"display_data"
    }
   ],
   "metadata":{
    "datalore":{
     "node_id":"NRb7KaDy2hI0qAsofSEQ0D",
     "type":"CODE",
     "hide_input_from_viewers":true,
     "hide_output_from_viewers":true
    }
   }
  },
  {
   "cell_type":"code",
   "source":[
    "df = df.drop(\"location\" ,axis=\"columns\")\n",
    "df.head(2)"
   ],
   "execution_count":49,
   "outputs":[
    {
     "data":{
      "text\/html":[
       "<div>\n",
       "<style scoped>\n",
       "    .dataframe tbody tr th:only-of-type {\n",
       "        vertical-align: middle;\n",
       "    }\n",
       "\n",
       "    .dataframe tbody tr th {\n",
       "        vertical-align: top;\n",
       "    }\n",
       "\n",
       "    .dataframe thead th {\n",
       "        text-align: right;\n",
       "    }\n",
       "<\/style>\n",
       "<table border=\"1\" class=\"dataframe\">\n",
       "  <thead>\n",
       "    <tr style=\"text-align: right;\">\n",
       "      <th><\/th>\n",
       "      <th>total_sqft<\/th>\n",
       "      <th>bath<\/th>\n",
       "      <th>price<\/th>\n",
       "      <th>bhk<\/th>\n",
       "      <th>1st Block Jayanagar<\/th>\n",
       "      <th>1st Phase JP Nagar<\/th>\n",
       "      <th>2nd Stage Nagarbhavi<\/th>\n",
       "      <th>5th Block Hbr Layout<\/th>\n",
       "      <th>5th Phase JP Nagar<\/th>\n",
       "      <th>6th Phase JP Nagar<\/th>\n",
       "      <th>...<\/th>\n",
       "      <th>Vijayanagar<\/th>\n",
       "      <th>Vishveshwarya Layout<\/th>\n",
       "      <th>Vishwapriya Layout<\/th>\n",
       "      <th>Vittasandra<\/th>\n",
       "      <th>Whitefield<\/th>\n",
       "      <th>Yelachenahalli<\/th>\n",
       "      <th>Yelahanka<\/th>\n",
       "      <th>Yelahanka New Town<\/th>\n",
       "      <th>Yelenahalli<\/th>\n",
       "      <th>Yeshwanthpur<\/th>\n",
       "    <\/tr>\n",
       "  <\/thead>\n",
       "  <tbody>\n",
       "    <tr>\n",
       "      <th>0<\/th>\n",
       "      <td>2850.0<\/td>\n",
       "      <td>4.0<\/td>\n",
       "      <td>428.0<\/td>\n",
       "      <td>4<\/td>\n",
       "      <td>1<\/td>\n",
       "      <td>0<\/td>\n",
       "      <td>0<\/td>\n",
       "      <td>0<\/td>\n",
       "      <td>0<\/td>\n",
       "      <td>0<\/td>\n",
       "      <td>...<\/td>\n",
       "      <td>0<\/td>\n",
       "      <td>0<\/td>\n",
       "      <td>0<\/td>\n",
       "      <td>0<\/td>\n",
       "      <td>0<\/td>\n",
       "      <td>0<\/td>\n",
       "      <td>0<\/td>\n",
       "      <td>0<\/td>\n",
       "      <td>0<\/td>\n",
       "      <td>0<\/td>\n",
       "    <\/tr>\n",
       "    <tr>\n",
       "      <th>1<\/th>\n",
       "      <td>1630.0<\/td>\n",
       "      <td>3.0<\/td>\n",
       "      <td>194.0<\/td>\n",
       "      <td>3<\/td>\n",
       "      <td>1<\/td>\n",
       "      <td>0<\/td>\n",
       "      <td>0<\/td>\n",
       "      <td>0<\/td>\n",
       "      <td>0<\/td>\n",
       "      <td>0<\/td>\n",
       "      <td>...<\/td>\n",
       "      <td>0<\/td>\n",
       "      <td>0<\/td>\n",
       "      <td>0<\/td>\n",
       "      <td>0<\/td>\n",
       "      <td>0<\/td>\n",
       "      <td>0<\/td>\n",
       "      <td>0<\/td>\n",
       "      <td>0<\/td>\n",
       "      <td>0<\/td>\n",
       "      <td>0<\/td>\n",
       "    <\/tr>\n",
       "  <\/tbody>\n",
       "<\/table>\n",
       "<p>2 rows × 234 columns<\/p>\n",
       "<\/div>"
      ]
     },
     "metadata":{},
     "output_type":"display_data"
    }
   ],
   "metadata":{
    "datalore":{
     "node_id":"Xu7zHuE3FPUI7y3yI0mxMG",
     "type":"CODE",
     "hide_input_from_viewers":true,
     "hide_output_from_viewers":true
    }
   }
  },
  {
   "cell_type":"code",
   "source":[
    "df.shape"
   ],
   "execution_count":50,
   "outputs":[
    {
     "data":{
      "text\/plain":[
       "(9397, 234)"
      ]
     },
     "metadata":{},
     "output_type":"display_data"
    }
   ],
   "metadata":{
    "datalore":{
     "node_id":"7mIGRT7mVBOhAOEfjggGYa",
     "type":"CODE",
     "hide_input_from_viewers":true,
     "hide_output_from_viewers":true
    }
   }
  },
  {
   "cell_type":"code",
   "source":[
    "X = df.drop(columns=[\"price\"],axis=1)\n",
    "X.head()"
   ],
   "execution_count":51,
   "outputs":[
    {
     "data":{
      "text\/html":[
       "<div>\n",
       "<style scoped>\n",
       "    .dataframe tbody tr th:only-of-type {\n",
       "        vertical-align: middle;\n",
       "    }\n",
       "\n",
       "    .dataframe tbody tr th {\n",
       "        vertical-align: top;\n",
       "    }\n",
       "\n",
       "    .dataframe thead th {\n",
       "        text-align: right;\n",
       "    }\n",
       "<\/style>\n",
       "<table border=\"1\" class=\"dataframe\">\n",
       "  <thead>\n",
       "    <tr style=\"text-align: right;\">\n",
       "      <th><\/th>\n",
       "      <th>total_sqft<\/th>\n",
       "      <th>bath<\/th>\n",
       "      <th>bhk<\/th>\n",
       "      <th>1st Block Jayanagar<\/th>\n",
       "      <th>1st Phase JP Nagar<\/th>\n",
       "      <th>2nd Stage Nagarbhavi<\/th>\n",
       "      <th>5th Block Hbr Layout<\/th>\n",
       "      <th>5th Phase JP Nagar<\/th>\n",
       "      <th>6th Phase JP Nagar<\/th>\n",
       "      <th>7th Phase JP Nagar<\/th>\n",
       "      <th>...<\/th>\n",
       "      <th>Vijayanagar<\/th>\n",
       "      <th>Vishveshwarya Layout<\/th>\n",
       "      <th>Vishwapriya Layout<\/th>\n",
       "      <th>Vittasandra<\/th>\n",
       "      <th>Whitefield<\/th>\n",
       "      <th>Yelachenahalli<\/th>\n",
       "      <th>Yelahanka<\/th>\n",
       "      <th>Yelahanka New Town<\/th>\n",
       "      <th>Yelenahalli<\/th>\n",
       "      <th>Yeshwanthpur<\/th>\n",
       "    <\/tr>\n",
       "  <\/thead>\n",
       "  <tbody>\n",
       "    <tr>\n",
       "      <th>0<\/th>\n",
       "      <td>2850.0<\/td>\n",
       "      <td>4.0<\/td>\n",
       "      <td>4<\/td>\n",
       "      <td>1<\/td>\n",
       "      <td>0<\/td>\n",
       "      <td>0<\/td>\n",
       "      <td>0<\/td>\n",
       "      <td>0<\/td>\n",
       "      <td>0<\/td>\n",
       "      <td>0<\/td>\n",
       "      <td>...<\/td>\n",
       "      <td>0<\/td>\n",
       "      <td>0<\/td>\n",
       "      <td>0<\/td>\n",
       "      <td>0<\/td>\n",
       "      <td>0<\/td>\n",
       "      <td>0<\/td>\n",
       "      <td>0<\/td>\n",
       "      <td>0<\/td>\n",
       "      <td>0<\/td>\n",
       "      <td>0<\/td>\n",
       "    <\/tr>\n",
       "    <tr>\n",
       "      <th>1<\/th>\n",
       "      <td>1630.0<\/td>\n",
       "      <td>3.0<\/td>\n",
       "      <td>3<\/td>\n",
       "      <td>1<\/td>\n",
       "      <td>0<\/td>\n",
       "      <td>0<\/td>\n",
       "      <td>0<\/td>\n",
       "      <td>0<\/td>\n",
       "      <td>0<\/td>\n",
       "      <td>0<\/td>\n",
       "      <td>...<\/td>\n",
       "      <td>0<\/td>\n",
       "      <td>0<\/td>\n",
       "      <td>0<\/td>\n",
       "      <td>0<\/td>\n",
       "      <td>0<\/td>\n",
       "      <td>0<\/td>\n",
       "      <td>0<\/td>\n",
       "      <td>0<\/td>\n",
       "      <td>0<\/td>\n",
       "      <td>0<\/td>\n",
       "    <\/tr>\n",
       "    <tr>\n",
       "      <th>2<\/th>\n",
       "      <td>1875.0<\/td>\n",
       "      <td>2.0<\/td>\n",
       "      <td>3<\/td>\n",
       "      <td>1<\/td>\n",
       "      <td>0<\/td>\n",
       "      <td>0<\/td>\n",
       "      <td>0<\/td>\n",
       "      <td>0<\/td>\n",
       "      <td>0<\/td>\n",
       "      <td>0<\/td>\n",
       "      <td>...<\/td>\n",
       "      <td>0<\/td>\n",
       "      <td>0<\/td>\n",
       "      <td>0<\/td>\n",
       "      <td>0<\/td>\n",
       "      <td>0<\/td>\n",
       "      <td>0<\/td>\n",
       "      <td>0<\/td>\n",
       "      <td>0<\/td>\n",
       "      <td>0<\/td>\n",
       "      <td>0<\/td>\n",
       "    <\/tr>\n",
       "    <tr>\n",
       "      <th>3<\/th>\n",
       "      <td>1200.0<\/td>\n",
       "      <td>2.0<\/td>\n",
       "      <td>3<\/td>\n",
       "      <td>1<\/td>\n",
       "      <td>0<\/td>\n",
       "      <td>0<\/td>\n",
       "      <td>0<\/td>\n",
       "      <td>0<\/td>\n",
       "      <td>0<\/td>\n",
       "      <td>0<\/td>\n",
       "      <td>...<\/td>\n",
       "      <td>0<\/td>\n",
       "      <td>0<\/td>\n",
       "      <td>0<\/td>\n",
       "      <td>0<\/td>\n",
       "      <td>0<\/td>\n",
       "      <td>0<\/td>\n",
       "      <td>0<\/td>\n",
       "      <td>0<\/td>\n",
       "      <td>0<\/td>\n",
       "      <td>0<\/td>\n",
       "    <\/tr>\n",
       "    <tr>\n",
       "      <th>4<\/th>\n",
       "      <td>1235.0<\/td>\n",
       "      <td>2.0<\/td>\n",
       "      <td>2<\/td>\n",
       "      <td>1<\/td>\n",
       "      <td>0<\/td>\n",
       "      <td>0<\/td>\n",
       "      <td>0<\/td>\n",
       "      <td>0<\/td>\n",
       "      <td>0<\/td>\n",
       "      <td>0<\/td>\n",
       "      <td>...<\/td>\n",
       "      <td>0<\/td>\n",
       "      <td>0<\/td>\n",
       "      <td>0<\/td>\n",
       "      <td>0<\/td>\n",
       "      <td>0<\/td>\n",
       "      <td>0<\/td>\n",
       "      <td>0<\/td>\n",
       "      <td>0<\/td>\n",
       "      <td>0<\/td>\n",
       "      <td>0<\/td>\n",
       "    <\/tr>\n",
       "  <\/tbody>\n",
       "<\/table>\n",
       "<p>5 rows × 233 columns<\/p>\n",
       "<\/div>"
      ]
     },
     "metadata":{},
     "output_type":"display_data"
    }
   ],
   "metadata":{
    "datalore":{
     "node_id":"Y8aUt61PHinR18Aq9q3qIM",
     "type":"CODE",
     "hide_input_from_viewers":true,
     "hide_output_from_viewers":true
    }
   }
  },
  {
   "cell_type":"code",
   "source":[
    "y = df[\"price\"]\n",
    "y.head()"
   ],
   "execution_count":52,
   "outputs":[
    {
     "data":{
      "text\/html":[
       "<pre>0    428.0\n",
       "1    194.0\n",
       "2    235.0\n",
       "3    130.0\n",
       "4    148.0\n",
       "Name: price, dtype: float64<\/pre>"
      ]
     },
     "metadata":{},
     "output_type":"display_data"
    }
   ],
   "metadata":{
    "datalore":{
     "node_id":"IW7OMRVnFXzQLCcLeLFX7B",
     "type":"CODE",
     "hide_input_from_viewers":true,
     "hide_output_from_viewers":true
    }
   }
  },
  {
   "cell_type":"code",
   "source":[
    "X_train, X_test, y_trian, y_test = train_test_split(X,y,test_size=0.2,random_state=10)"
   ],
   "execution_count":53,
   "outputs":[],
   "metadata":{
    "datalore":{
     "node_id":"VWIZWr5BzXH2zqk4cerKJ1",
     "type":"CODE",
     "hide_input_from_viewers":true,
     "hide_output_from_viewers":true
    }
   }
  },
  {
   "cell_type":"code",
   "source":[
    "lr_clf = LinearRegression()\n",
    "lr_clf.fit(X_train,y_trian)\n",
    "lr_clf.score(X_test,y_test)"
   ],
   "execution_count":54,
   "outputs":[
    {
     "data":{
      "text\/plain":[
       "0.7999043304588038"
      ]
     },
     "metadata":{},
     "output_type":"display_data"
    }
   ],
   "metadata":{
    "datalore":{
     "node_id":"Z8a0EoOcYZcMn6gWq3wMpj",
     "type":"CODE",
     "hide_input_from_viewers":true,
     "hide_output_from_viewers":true
    }
   }
  },
  {
   "cell_type":"code",
   "source":[
    "cv = ShuffleSplit(n_splits=5, test_size=0.2, random_state=0)\n",
    "cross_val_score(LinearRegression(), X, y, cv=cv)"
   ],
   "execution_count":55,
   "outputs":[
    {
     "data":{
      "text\/html":[
       "<pre>array([0.84042415, 0.82862747, 0.81036611, 0.81155229, 0.82482939])<\/pre>"
      ]
     },
     "metadata":{},
     "output_type":"display_data"
    }
   ],
   "metadata":{
    "datalore":{
     "node_id":"bam1A8pDZzmAEJ25qkNaJc",
     "type":"CODE",
     "hide_input_from_viewers":true,
     "hide_output_from_viewers":true
    }
   }
  },
  {
   "cell_type":"code",
   "source":[
    "def find_best_model_using_gridsearchcv(X,y):\n",
    "    algos = {\n",
    "        \"linear_regression\" : {\n",
    "            \"model\" : LinearRegression(),\n",
    "            \"params\" : {}\n",
    "        },\n",
    "        \"lasso\" : {\n",
    "            \"model\" : Lasso(),\n",
    "            \"params\" : {\n",
    "                \"alpha\" : [1,2],\n",
    "                \"selection\" : [\"random\",\"cyclic\"]\n",
    "            }\n",
    "        },\n",
    "        \"decision_tree\" : {\n",
    "            \"model\" : DecisionTreeRegressor(),\n",
    "            \"params\" : {\n",
    "                \"criterion\" : [\"squared_error\",\"friedman_mse\"],\n",
    "                \"splitter\" : [\"best\",\"random\"]\n",
    "            }\n",
    "        }\n",
    "    }\n",
    "\n",
    "    scores = []\n",
    "    cv = ShuffleSplit(n_splits=5, test_size=0.2, random_state=0)\n",
    "    for algo_name, config in algos.items():\n",
    "        gs = GridSearchCV(config[\"model\"], config[\"params\"], cv=cv, return_train_score=False)\n",
    "        gs.fit(X,y)\n",
    "        scores.append({\n",
    "            \"model\" : algo_name,\n",
    "            \"best_score\" : gs.best_score_,\n",
    "            \"best_params\" : gs.best_params_\n",
    "        })\n",
    "    return pd.DataFrame(scores,columns=[\"model\",\"best_score\",\"best_params\"])\n",
    "\n",
    "find_best_model_using_gridsearchcv(X,y)"
   ],
   "execution_count":56,
   "outputs":[
    {
     "data":{
      "text\/html":[
       "<div>\n",
       "<style scoped>\n",
       "    .dataframe tbody tr th:only-of-type {\n",
       "        vertical-align: middle;\n",
       "    }\n",
       "\n",
       "    .dataframe tbody tr th {\n",
       "        vertical-align: top;\n",
       "    }\n",
       "\n",
       "    .dataframe thead th {\n",
       "        text-align: right;\n",
       "    }\n",
       "<\/style>\n",
       "<table border=\"1\" class=\"dataframe\">\n",
       "  <thead>\n",
       "    <tr style=\"text-align: right;\">\n",
       "      <th><\/th>\n",
       "      <th>model<\/th>\n",
       "      <th>best_score<\/th>\n",
       "      <th>best_params<\/th>\n",
       "    <\/tr>\n",
       "  <\/thead>\n",
       "  <tbody>\n",
       "    <tr>\n",
       "      <th>0<\/th>\n",
       "      <td>linear_regression<\/td>\n",
       "      <td>0.823160<\/td>\n",
       "      <td>{}<\/td>\n",
       "    <\/tr>\n",
       "    <tr>\n",
       "      <th>1<\/th>\n",
       "      <td>lasso<\/td>\n",
       "      <td>0.674740<\/td>\n",
       "      <td>{'alpha': 1, 'selection': 'cyclic'}<\/td>\n",
       "    <\/tr>\n",
       "    <tr>\n",
       "      <th>2<\/th>\n",
       "      <td>decision_tree<\/td>\n",
       "      <td>0.745068<\/td>\n",
       "      <td>{'criterion': 'squared_error', 'splitter': 'ra...<\/td>\n",
       "    <\/tr>\n",
       "  <\/tbody>\n",
       "<\/table>\n",
       "<\/div>"
      ]
     },
     "metadata":{},
     "output_type":"display_data"
    }
   ],
   "metadata":{
    "datalore":{
     "node_id":"8CnUCauXbfHyLbYnDceoJJ",
     "type":"CODE",
     "hide_input_from_viewers":true,
     "hide_output_from_viewers":true
    }
   }
  },
  {
   "cell_type":"code",
   "source":[
    "X.columns"
   ],
   "execution_count":57,
   "outputs":[
    {
     "data":{
      "text\/plain":[
       "Index(['total_sqft', 'bath', 'bhk', '1st Block Jayanagar',\n",
       "       '1st Phase JP Nagar', '2nd Stage Nagarbhavi', '5th Block Hbr Layout',\n",
       "       '5th Phase JP Nagar', '6th Phase JP Nagar', '7th Phase JP Nagar',\n",
       "       ...\n",
       "       'Vijayanagar', 'Vishveshwarya Layout', 'Vishwapriya Layout',\n",
       "       'Vittasandra', 'Whitefield', 'Yelachenahalli', 'Yelahanka',\n",
       "       'Yelahanka New Town', 'Yelenahalli', 'Yeshwanthpur'],\n",
       "      dtype='object', length=233)"
      ]
     },
     "metadata":{},
     "output_type":"display_data"
    }
   ],
   "metadata":{
    "datalore":{
     "node_id":"cFT7aQirI6Gw7LpxhhuLQW",
     "type":"CODE",
     "hide_input_from_viewers":true,
     "hide_output_from_viewers":true
    }
   }
  },
  {
   "cell_type":"code",
   "source":[
    "def predict_price(location,sqft,bath,bhk):\n",
    "    loc_index = np.where(X.columns==location)[0][0]\n",
    "    \n",
    "    x = np.zeros(len(X.columns))\n",
    "    x[0] = sqft\n",
    "    x[1] = bath\n",
    "    x[2] = bhk\n",
    "    if loc_index >= 0:\n",
    "        x[loc_index] = 1\n",
    "    \n",
    "    return lr_clf.predict([x])[0]"
   ],
   "execution_count":58,
   "outputs":[],
   "metadata":{
    "datalore":{
     "node_id":"iEAwdkMlxyojBcsmRFTZIA",
     "type":"CODE",
     "hide_input_from_viewers":true,
     "hide_output_from_viewers":true
    }
   }
  },
  {
   "cell_type":"code",
   "source":[
    "predict_price('Whitefield',1000, 2, 2)"
   ],
   "execution_count":59,
   "outputs":[
    {
     "data":{
      "text\/plain":[
       "47.60947789483873"
      ]
     },
     "metadata":{},
     "output_type":"display_data"
    }
   ],
   "metadata":{
    "datalore":{
     "node_id":"STHOONCdwQ7SZt5I9WX7bZ",
     "type":"CODE",
     "hide_input_from_viewers":true,
     "hide_output_from_viewers":true
    }
   }
  }
 ],
 "metadata":{
  "kernelspec":{
   "display_name":"Python",
   "language":"python",
   "name":"python"
  },
  "datalore":{
   "computation_mode":"JUPYTER",
   "package_manager":"pip",
   "base_environment":"default",
   "packages":[],
   "report_row_ids":[],
   "version":3
  }
 },
 "nbformat":4,
 "nbformat_minor":4
}