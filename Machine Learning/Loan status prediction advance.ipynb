{
 "cells":[
  {
   "cell_type":"markdown",
   "source":[
    "## Importing libraries"
   ],
   "attachments":{},
   "metadata":{
    "datalore":{
     "node_id":"yKKUP44qQ3WwoNb8xWnwlw",
     "type":"MD",
     "hide_input_from_viewers":true,
     "hide_output_from_viewers":true
    }
   }
  },
  {
   "cell_type":"code",
   "source":[
    "!pip install missingno\n",
    "!pip install imbalanced-learn\n",
    "\n",
    "import numpy as np\n",
    "import pandas as pd\n",
    "import matplotlib.pyplot as plt\n",
    "import missingno as mso\n",
    "import seaborn as sns\n",
    "import warnings\n",
    "import os\n",
    "import scipy\n",
    "\n",
    "from scipy import stats\n",
    "from scipy.stats import pearsonr\n",
    "from scipy.stats import ttest_ind\n",
    "from sklearn.metrics import classification_report\n",
    "from sklearn.metrics import confusion_matrix\n",
    "from sklearn.preprocessing import MinMaxScaler\n",
    "from sklearn.model_selection import train_test_split\n",
    "from imblearn.over_sampling import SMOTE\n",
    "\n",
    "from sklearn.linear_model import LogisticRegression\n",
    "from sklearn.neighbors import KNeighborsClassifier\n",
    "from sklearn.svm import SVC\n",
    "from sklearn.naive_bayes import CategoricalNB\n",
    "from sklearn.naive_bayes import GaussianNB\n",
    "from sklearn.tree import DecisionTreeClassifier\n",
    "from sklearn.ensemble import RandomForestClassifier\n",
    "from sklearn.ensemble import GradientBoostingClassifier\n",
    "from xgboost import XGBClassifier\n",
    "from sklearn.model_selection import GridSearchCV, RandomizedSearchCV"
   ],
   "execution_count":815,
   "outputs":[
    {
     "name":"stdout",
     "text":[
      "Requirement already satisfied: missingno in \/opt\/python\/envs\/default\/lib\/python3.8\/site-packages (0.5.2)\r\n",
      "Requirement already satisfied: numpy in \/opt\/python\/envs\/default\/lib\/python3.8\/site-packages (from missingno) (1.24.4)\r\n",
      "Requirement already satisfied: matplotlib in \/opt\/python\/envs\/default\/lib\/python3.8\/site-packages (from missingno) (3.7.5)\r\n",
      "Requirement already satisfied: scipy in \/opt\/python\/envs\/default\/lib\/python3.8\/site-packages (from missingno) (1.10.1)\r\n",
      "Requirement already satisfied: seaborn in \/opt\/python\/envs\/default\/lib\/python3.8\/site-packages (from missingno) (0.13.2)\r\n",
      "Requirement already satisfied: contourpy>=1.0.1 in \/opt\/python\/envs\/default\/lib\/python3.8\/site-packages (from matplotlib->missingno) (1.1.1)\r\n",
      "Requirement already satisfied: cycler>=0.10 in \/opt\/python\/envs\/default\/lib\/python3.8\/site-packages (from matplotlib->missingno) (0.12.1)\r\n",
      "Requirement already satisfied: fonttools>=4.22.0 in \/opt\/python\/envs\/default\/lib\/python3.8\/site-packages (from matplotlib->missingno) (4.54.1)\r\n",
      "Requirement already satisfied: kiwisolver>=1.0.1 in \/opt\/python\/envs\/default\/lib\/python3.8\/site-packages (from matplotlib->missingno) (1.4.7)\r\n",
      "Requirement already satisfied: packaging>=20.0 in \/opt\/python\/envs\/default\/lib\/python3.8\/site-packages (from matplotlib->missingno) (24.1)\r\n",
      "Requirement already satisfied: pillow>=6.2.0 in \/opt\/python\/envs\/default\/lib\/python3.8\/site-packages (from matplotlib->missingno) (10.4.0)\r\n",
      "Requirement already satisfied: pyparsing>=2.3.1 in \/opt\/python\/envs\/default\/lib\/python3.8\/site-packages (from matplotlib->missingno) (3.1.4)\r\n",
      "Requirement already satisfied: python-dateutil>=2.7 in \/opt\/python\/envs\/default\/lib\/python3.8\/site-packages (from matplotlib->missingno) (2.9.0.post0)\r\n",
      "Requirement already satisfied: importlib-resources>=3.2.0 in \/opt\/python\/envs\/default\/lib\/python3.8\/site-packages (from matplotlib->missingno) (6.4.5)\r\n",
      "Requirement already satisfied: pandas>=1.2 in \/opt\/python\/envs\/default\/lib\/python3.8\/site-packages (from seaborn->missingno) (1.5.3)\r\n",
      "Requirement already satisfied: zipp>=3.1.0 in \/opt\/python\/envs\/default\/lib\/python3.8\/site-packages (from importlib-resources>=3.2.0->matplotlib->missingno) (3.20.2)\r\n",
      "Requirement already satisfied: pytz>=2020.1 in \/opt\/python\/envs\/default\/lib\/python3.8\/site-packages (from pandas>=1.2->seaborn->missingno) (2024.2)\r\n",
      "Requirement already satisfied: six>=1.5 in \/opt\/python\/envs\/default\/lib\/python3.8\/site-packages (from python-dateutil>=2.7->matplotlib->missingno) (1.16.0)\r\n",
      "Requirement already satisfied: imbalanced-learn in \/opt\/python\/envs\/default\/lib\/python3.8\/site-packages (0.12.4)\r\n",
      "Requirement already satisfied: numpy>=1.17.3 in \/opt\/python\/envs\/default\/lib\/python3.8\/site-packages (from imbalanced-learn) (1.24.4)\r\n",
      "Requirement already satisfied: scipy>=1.5.0 in \/opt\/python\/envs\/default\/lib\/python3.8\/site-packages (from imbalanced-learn) (1.10.1)\r\n",
      "Requirement already satisfied: scikit-learn>=1.0.2 in \/opt\/python\/envs\/default\/lib\/python3.8\/site-packages (from imbalanced-learn) (1.3.2)\r\n",
      "Requirement already satisfied: joblib>=1.1.1 in \/opt\/python\/envs\/default\/lib\/python3.8\/site-packages (from imbalanced-learn) (1.4.2)\r\n",
      "Requirement already satisfied: threadpoolctl>=2.0.0 in \/opt\/python\/envs\/default\/lib\/python3.8\/site-packages (from imbalanced-learn) (3.5.0)\r\n"
     ],
     "output_type":"stream"
    }
   ],
   "metadata":{
    "datalore":{
     "node_id":"BrEQ0FA0FfAKNSZ29vy390",
     "type":"CODE",
     "hide_input_from_viewers":true,
     "hide_output_from_viewers":true
    }
   }
  },
  {
   "cell_type":"markdown",
   "source":[
    "## Loading and checking the data set"
   ],
   "attachments":{},
   "metadata":{
    "datalore":{
     "node_id":"yLmyODqbDaptnLkZJ1Fwsb",
     "type":"MD",
     "hide_input_from_viewers":true,
     "hide_output_from_viewers":true
    }
   }
  },
  {
   "cell_type":"code",
   "source":[
    "# Loading the dataset to a Pandas DataFrame\n",
    "df = pd.read_csv(\"profile_and_loan_details_data.csv\")\n",
    "\n",
    "# Print First 5 rows of our DataFrame\n",
    "df.head()"
   ],
   "execution_count":816,
   "outputs":[
    {
     "data":{
      "text\/html":[
       "<div>\n",
       "<style scoped>\n",
       "    .dataframe tbody tr th:only-of-type {\n",
       "        vertical-align: middle;\n",
       "    }\n",
       "\n",
       "    .dataframe tbody tr th {\n",
       "        vertical-align: top;\n",
       "    }\n",
       "\n",
       "    .dataframe thead th {\n",
       "        text-align: right;\n",
       "    }\n",
       "<\/style>\n",
       "<table border=\"1\" class=\"dataframe\">\n",
       "  <thead>\n",
       "    <tr style=\"text-align: right;\">\n",
       "      <th><\/th>\n",
       "      <th>Loan_ID<\/th>\n",
       "      <th>Gender<\/th>\n",
       "      <th>Married<\/th>\n",
       "      <th>Dependents<\/th>\n",
       "      <th>Education<\/th>\n",
       "      <th>Self_Employed<\/th>\n",
       "      <th>ApplicantIncome<\/th>\n",
       "      <th>CoapplicantIncome<\/th>\n",
       "      <th>LoanAmount<\/th>\n",
       "      <th>Loan_Amount_Term<\/th>\n",
       "      <th>Credit_History<\/th>\n",
       "      <th>Property_Area<\/th>\n",
       "      <th>Loan_Status<\/th>\n",
       "    <\/tr>\n",
       "  <\/thead>\n",
       "  <tbody>\n",
       "    <tr>\n",
       "      <th>0<\/th>\n",
       "      <td>LP001002<\/td>\n",
       "      <td>Male<\/td>\n",
       "      <td>No<\/td>\n",
       "      <td>0<\/td>\n",
       "      <td>Graduate<\/td>\n",
       "      <td>No<\/td>\n",
       "      <td>5849<\/td>\n",
       "      <td>0.0<\/td>\n",
       "      <td>NaN<\/td>\n",
       "      <td>360.0<\/td>\n",
       "      <td>1.0<\/td>\n",
       "      <td>Urban<\/td>\n",
       "      <td>Y<\/td>\n",
       "    <\/tr>\n",
       "    <tr>\n",
       "      <th>1<\/th>\n",
       "      <td>LP001003<\/td>\n",
       "      <td>Male<\/td>\n",
       "      <td>Yes<\/td>\n",
       "      <td>1<\/td>\n",
       "      <td>Graduate<\/td>\n",
       "      <td>No<\/td>\n",
       "      <td>4583<\/td>\n",
       "      <td>1508.0<\/td>\n",
       "      <td>128.0<\/td>\n",
       "      <td>360.0<\/td>\n",
       "      <td>1.0<\/td>\n",
       "      <td>Rural<\/td>\n",
       "      <td>N<\/td>\n",
       "    <\/tr>\n",
       "    <tr>\n",
       "      <th>2<\/th>\n",
       "      <td>LP001005<\/td>\n",
       "      <td>Male<\/td>\n",
       "      <td>Yes<\/td>\n",
       "      <td>0<\/td>\n",
       "      <td>Graduate<\/td>\n",
       "      <td>Yes<\/td>\n",
       "      <td>3000<\/td>\n",
       "      <td>0.0<\/td>\n",
       "      <td>66.0<\/td>\n",
       "      <td>360.0<\/td>\n",
       "      <td>1.0<\/td>\n",
       "      <td>Urban<\/td>\n",
       "      <td>Y<\/td>\n",
       "    <\/tr>\n",
       "    <tr>\n",
       "      <th>3<\/th>\n",
       "      <td>LP001006<\/td>\n",
       "      <td>Male<\/td>\n",
       "      <td>Yes<\/td>\n",
       "      <td>0<\/td>\n",
       "      <td>Not Graduate<\/td>\n",
       "      <td>No<\/td>\n",
       "      <td>2583<\/td>\n",
       "      <td>2358.0<\/td>\n",
       "      <td>120.0<\/td>\n",
       "      <td>360.0<\/td>\n",
       "      <td>1.0<\/td>\n",
       "      <td>Urban<\/td>\n",
       "      <td>Y<\/td>\n",
       "    <\/tr>\n",
       "    <tr>\n",
       "      <th>4<\/th>\n",
       "      <td>LP001008<\/td>\n",
       "      <td>Male<\/td>\n",
       "      <td>No<\/td>\n",
       "      <td>0<\/td>\n",
       "      <td>Graduate<\/td>\n",
       "      <td>No<\/td>\n",
       "      <td>6000<\/td>\n",
       "      <td>0.0<\/td>\n",
       "      <td>141.0<\/td>\n",
       "      <td>360.0<\/td>\n",
       "      <td>1.0<\/td>\n",
       "      <td>Urban<\/td>\n",
       "      <td>Y<\/td>\n",
       "    <\/tr>\n",
       "  <\/tbody>\n",
       "<\/table>\n",
       "<\/div>"
      ]
     },
     "metadata":{},
     "output_type":"display_data"
    }
   ],
   "metadata":{
    "datalore":{
     "node_id":"7x0tLJ1s5ypa0q7zcAYyri",
     "type":"CODE",
     "hide_input_from_viewers":true,
     "hide_output_from_viewers":true
    }
   }
  },
  {
   "cell_type":"markdown",
   "source":[
    "## EDA (Exploratory Data Analysis)"
   ],
   "attachments":{},
   "metadata":{
    "datalore":{
     "node_id":"t3AHnan0gm4qK50napKtyM",
     "type":"MD",
     "hide_input_from_viewers":true,
     "hide_output_from_viewers":true
    }
   }
  },
  {
   "cell_type":"markdown",
   "source":[
    "### data exploration"
   ],
   "attachments":{},
   "metadata":{
    "datalore":{
     "node_id":"9lyCOTDjeSeCPg2BGZQCXL",
     "type":"MD",
     "hide_input_from_viewers":true,
     "hide_output_from_viewers":true
    }
   }
  },
  {
   "cell_type":"code",
   "source":[
    "# checking the number of rows and Columns in the data frame\n",
    "df.shape"
   ],
   "execution_count":817,
   "outputs":[
    {
     "data":{
      "text\/plain":[
       "(614, 13)"
      ]
     },
     "metadata":{},
     "output_type":"display_data"
    }
   ],
   "metadata":{
    "datalore":{
     "node_id":"lRWv096Ezwl4dg0USWLrjf",
     "type":"CODE",
     "hide_input_from_viewers":true,
     "hide_output_from_viewers":true
    }
   }
  },
  {
   "cell_type":"code",
   "source":[
    "#checking the name each columns\n",
    "df.columns"
   ],
   "execution_count":818,
   "outputs":[
    {
     "data":{
      "text\/plain":[
       "Index(['Loan_ID', 'Gender', 'Married', 'Dependents', 'Education',\n",
       "       'Self_Employed', 'ApplicantIncome', 'CoapplicantIncome', 'LoanAmount',\n",
       "       'Loan_Amount_Term', 'Credit_History', 'Property_Area', 'Loan_Status'],\n",
       "      dtype='object')"
      ]
     },
     "metadata":{},
     "output_type":"display_data"
    }
   ],
   "metadata":{
    "datalore":{
     "node_id":"bCGLUMHB89ml3GqZCBTd2D",
     "type":"CODE",
     "hide_input_from_viewers":true,
     "hide_output_from_viewers":true
    }
   }
  },
  {
   "cell_type":"code",
   "source":[
    "# checking the info of the data frame\n",
    "df.info()"
   ],
   "execution_count":819,
   "outputs":[
    {
     "name":"stdout",
     "text":[
      "<class 'pandas.core.frame.DataFrame'>\n",
      "RangeIndex: 614 entries, 0 to 613\n",
      "Data columns (total 13 columns):\n",
      " #   Column             Non-Null Count  Dtype  \n",
      "---  ------             --------------  -----  \n",
      " 0   Loan_ID            614 non-null    object \n",
      " 1   Gender             601 non-null    object \n",
      " 2   Married            611 non-null    object \n",
      " 3   Dependents         599 non-null    object \n",
      " 4   Education          614 non-null    object \n",
      " 5   Self_Employed      582 non-null    object \n",
      " 6   ApplicantIncome    614 non-null    int64  \n",
      " 7   CoapplicantIncome  614 non-null    float64\n",
      " 8   LoanAmount         592 non-null    float64\n",
      " 9   Loan_Amount_Term   600 non-null    float64\n",
      " 10  Credit_History     564 non-null    float64\n",
      " 11  Property_Area      614 non-null    object \n",
      " 12  Loan_Status        614 non-null    object \n",
      "dtypes: float64(4), int64(1), object(8)\n",
      "memory usage: 62.5+ KB\n"
     ],
     "output_type":"stream"
    }
   ],
   "metadata":{
    "datalore":{
     "node_id":"vPS4lOnvcwnKGnfNOwVIrd",
     "type":"CODE",
     "hide_input_from_viewers":true,
     "hide_output_from_viewers":true
    }
   }
  },
  {
   "cell_type":"markdown",
   "source":[
    "  1. Categorical variable"
   ],
   "attachments":{},
   "metadata":{
    "datalore":{
     "node_id":"v2Cnkyu2tDGNTu6roCZIvZ",
     "type":"MD",
     "hide_input_from_viewers":true,
     "hide_output_from_viewers":true
    }
   }
  },
  {
   "cell_type":"code",
   "source":[
    "# Loan ID\n",
    "df.Loan_ID.value_counts(dropna=False)"
   ],
   "execution_count":820,
   "outputs":[
    {
     "data":{
      "text\/html":[
       "<pre>LP001002    1\n",
       "LP002328    1\n",
       "LP002305    1\n",
       "LP002308    1\n",
       "LP002314    1\n",
       "           ..\n",
       "LP001692    1\n",
       "LP001693    1\n",
       "LP001698    1\n",
       "LP001699    1\n",
       "LP002990    1\n",
       "Name: Loan_ID, Length: 614, dtype: int64<\/pre>"
      ]
     },
     "metadata":{},
     "output_type":"display_data"
    }
   ],
   "metadata":{
    "datalore":{
     "node_id":"o3z9718uxZgYVKOIMDQqnP",
     "type":"CODE",
     "hide_input_from_viewers":true,
     "hide_output_from_viewers":true
    }
   }
  },
  {
   "cell_type":"markdown",
   "source":[
    "It can be seen that there are 614 unique ID in the dataset."
   ],
   "attachments":{},
   "metadata":{
    "datalore":{
     "node_id":"lxdc6XxxbG9VzE6oHn0TYQ",
     "type":"MD",
     "hide_input_from_viewers":true,
     "hide_output_from_viewers":true
    }
   }
  },
  {
   "cell_type":"code",
   "source":[
    "def calculate_percentage_and_plot(column):\n",
    "    count_values = df[column].value_counts(dropna=False)\n",
    "    print(count_values)\n",
    "    sns.countplot(x=column, data=df, palette=\"hls\", hue=column, legend=False)\n",
    "    plt.show()\n",
    "    \n",
    "    for value in count_values.index:\n",
    "        if pd.isna(value):\n",
    "            count_null = len(df[df[column].isnull()])\n",
    "            percentage_null = (count_null \/ len(df[column])) * 100\n",
    "            print(f\"Percentage of nan: {percentage_null:.2f}%\")\n",
    "        else:\n",
    "            count = len(df[df[column] == value])\n",
    "            percentage = (count \/ len(df[column])) * 100\n",
    "            print(f\"Percentage of {value}: {percentage:.2f}%\")"
   ],
   "execution_count":821,
   "outputs":[],
   "metadata":{
    "datalore":{
     "node_id":"qj4v5cDg0OI3Ut6mmVuCUD",
     "type":"CODE",
     "hide_input_from_viewers":true,
     "hide_output_from_viewers":true
    }
   }
  },
  {
   "cell_type":"code",
   "source":[
    "calculate_percentage_and_plot('Gender')"
   ],
   "execution_count":822,
   "outputs":[
    {
     "name":"stdout",
     "text":[
      "Male      489\n",
      "Female    112\n",
      "NaN        13\n",
      "Name: Gender, dtype: int64\n",
      "Percentage of Male: 79.64%\n",
      "Percentage of Female: 18.24%\n",
      "Percentage of nan: 2.12%\n"
     ],
     "output_type":"stream"
    },
    {
     "data":{
      "image\/png":"[encoded data removed]"
     },
     "metadata":{
      "image\/png":{}
     },
     "output_type":"display_data"
    }
   ],
   "metadata":{
    "datalore":{
     "node_id":"JdaUlhquPqG6iWrsA0nfuC",
     "type":"CODE",
     "hide_input_from_viewers":true,
     "hide_output_from_viewers":true
    }
   }
  },
  {
   "cell_type":"markdown",
   "source":[
    "The number of male applicants is higher compared to female applicants. It also can be seen there are missing values in this column."
   ],
   "attachments":{},
   "metadata":{
    "datalore":{
     "node_id":"DAmzWVNzbW9zeknZ3pQdzX",
     "type":"MD",
     "hide_input_from_viewers":true,
     "hide_output_from_viewers":true
    }
   }
  },
  {
   "cell_type":"code",
   "source":[
    "calculate_percentage_and_plot('Married')"
   ],
   "execution_count":823,
   "outputs":[
    {
     "name":"stdout",
     "text":[
      "Yes    398\n",
      "No     213\n",
      "NaN      3\n",
      "Name: Married, dtype: int64\n",
      "Percentage of Yes: 64.82%\n",
      "Percentage of No: 34.69%\n",
      "Percentage of nan: 0.49%\n"
     ],
     "output_type":"stream"
    },
    {
     "data":{
      "image\/png":"[encoded data removed]"
     },
     "metadata":{
      "image\/png":{}
     },
     "output_type":"display_data"
    }
   ],
   "metadata":{
    "datalore":{
     "node_id":"4WqvXMyqkiP4gLML6qURPt",
     "type":"CODE",
     "hide_input_from_viewers":true,
     "hide_output_from_viewers":true
    }
   }
  },
  {
   "cell_type":"markdown",
   "source":[
    "The number of applicants that has been married is higher compared to applicants that hasn't married. It also can be seen there are small number of missing values in this column."
   ],
   "attachments":{},
   "metadata":{
    "datalore":{
     "node_id":"nzf7KnryClUnvIIs3u4LHm",
     "type":"MD",
     "hide_input_from_viewers":true,
     "hide_output_from_viewers":true
    }
   }
  },
  {
   "cell_type":"code",
   "source":[
    "calculate_percentage_and_plot('Dependents')"
   ],
   "execution_count":824,
   "outputs":[
    {
     "name":"stdout",
     "text":[
      "0      345\n",
      "1      102\n",
      "2      101\n",
      "3+      51\n",
      "NaN     15\n",
      "Name: Dependents, dtype: int64\n",
      "Percentage of 0: 56.19%\n",
      "Percentage of 1: 16.61%\n",
      "Percentage of 2: 16.45%\n",
      "Percentage of 3+: 8.31%\n",
      "Percentage of nan: 2.44%\n"
     ],
     "output_type":"stream"
    },
    {
     "data":{
      "image\/png":"[encoded data removed]"
     },
     "metadata":{
      "image\/png":{}
     },
     "output_type":"display_data"
    }
   ],
   "metadata":{
    "datalore":{
     "node_id":"V1c7bxrV7235sgEfE5J3zT",
     "type":"CODE",
     "hide_input_from_viewers":true,
     "hide_output_from_viewers":true
    }
   }
  },
  {
   "cell_type":"markdown",
   "source":[
    "The number of applicants without dependents is the highest. It can also be seen that there are missing values in this column."
   ],
   "attachments":{},
   "metadata":{
    "datalore":{
     "node_id":"pLI5cCuHtbW552WoDLTqkH",
     "type":"MD",
     "hide_input_from_viewers":true,
     "hide_output_from_viewers":true
    }
   }
  },
  {
   "cell_type":"code",
   "source":[
    "calculate_percentage_and_plot('Education')"
   ],
   "execution_count":825,
   "outputs":[
    {
     "name":"stdout",
     "text":[
      "Graduate        480\n",
      "Not Graduate    134\n",
      "Name: Education, dtype: int64\n",
      "Percentage of Graduate: 78.18%\n",
      "Percentage of Not Graduate: 21.82%\n"
     ],
     "output_type":"stream"
    },
    {
     "data":{
      "image\/png":"[encoded data removed]"
     },
     "metadata":{
      "image\/png":{}
     },
     "output_type":"display_data"
    }
   ],
   "metadata":{
    "datalore":{
     "node_id":"Ysl9CUHGCxi7Ls2ukCHSPp",
     "type":"CODE",
     "hide_input_from_viewers":true,
     "hide_output_from_viewers":true
    }
   }
  },
  {
   "cell_type":"markdown",
   "source":[
    "The number of applicants that has been graduated is higher compared to applicants that hasn't graduated."
   ],
   "attachments":{},
   "metadata":{
    "datalore":{
     "node_id":"ZuSA64VDfMDnFQ5OLxgdrf",
     "type":"MD",
     "hide_input_from_viewers":true,
     "hide_output_from_viewers":true
    }
   }
  },
  {
   "cell_type":"code",
   "source":[
    "calculate_percentage_and_plot('Self_Employed')"
   ],
   "execution_count":826,
   "outputs":[
    {
     "name":"stdout",
     "text":[
      "No     500\n",
      "Yes     82\n",
      "NaN     32\n",
      "Name: Self_Employed, dtype: int64\n",
      "Percentage of No: 81.43%\n",
      "Percentage of Yes: 13.36%\n",
      "Percentage of nan: 5.21%\n"
     ],
     "output_type":"stream"
    },
    {
     "data":{
      "image\/png":"[encoded data removed]"
     },
     "metadata":{
      "image\/png":{}
     },
     "output_type":"display_data"
    }
   ],
   "metadata":{
    "datalore":{
     "node_id":"vRP17poehdRkwfghmRSllc",
     "type":"CODE",
     "hide_input_from_viewers":true,
     "hide_output_from_viewers":true
    }
   }
  },
  {
   "cell_type":"markdown",
   "source":[
    "The number of applicants that are not self employed is higher compared to applicants that are self employed. It also can be seen there are missing values in this column."
   ],
   "attachments":{},
   "metadata":{
    "datalore":{
     "node_id":"RvG7abMHVYfpYKhRxomn6S",
     "type":"MD",
     "hide_input_from_viewers":true,
     "hide_output_from_viewers":true
    }
   }
  },
  {
   "cell_type":"code",
   "source":[
    "calculate_percentage_and_plot('Loan_Amount_Term')"
   ],
   "execution_count":827,
   "outputs":[
    {
     "name":"stdout",
     "text":[
      "360.0    512\n",
      "180.0     44\n",
      "480.0     15\n",
      "NaN       14\n",
      "300.0     13\n",
      "240.0      4\n",
      "84.0       4\n",
      "120.0      3\n",
      "60.0       2\n",
      "36.0       2\n",
      "12.0       1\n",
      "Name: Loan_Amount_Term, dtype: int64\n",
      "Percentage of 360.0: 83.39%\n",
      "Percentage of 180.0: 7.17%\n",
      "Percentage of 480.0: 2.44%\n",
      "Percentage of nan: 2.28%\n",
      "Percentage of 300.0: 2.12%\n",
      "Percentage of 240.0: 0.65%\n",
      "Percentage of 84.0: 0.65%\n",
      "Percentage of 120.0: 0.49%\n",
      "Percentage of 60.0: 0.33%\n",
      "Percentage of 36.0: 0.33%\n",
      "Percentage of 12.0: 0.16%\n"
     ],
     "output_type":"stream"
    },
    {
     "data":{
      "image\/png":"[encoded data removed]"
     },
     "metadata":{
      "image\/png":{}
     },
     "output_type":"display_data"
    }
   ],
   "metadata":{
    "datalore":{
     "node_id":"HpnK5No2UIT50iulqGFwch",
     "type":"CODE",
     "hide_input_from_viewers":true,
     "hide_output_from_viewers":true
    }
   }
  },
  {
   "cell_type":"markdown",
   "source":[
    "As can be seen from the results, the 360 days loan duration is the most popular compared to others."
   ],
   "attachments":{},
   "metadata":{
    "datalore":{
     "node_id":"5XJGtRqwXPhGTEUiFvf2jB",
     "type":"MD",
     "hide_input_from_viewers":true,
     "hide_output_from_viewers":true
    }
   }
  },
  {
   "cell_type":"code",
   "source":[
    "calculate_percentage_and_plot('Credit_History')"
   ],
   "execution_count":828,
   "outputs":[
    {
     "name":"stdout",
     "text":[
      "1.0    475\n",
      "0.0     89\n",
      "NaN     50\n",
      "Name: Credit_History, dtype: int64\n",
      "Percentage of 1.0: 77.36%\n",
      "Percentage of 0.0: 14.50%\n",
      "Percentage of nan: 8.14%\n"
     ],
     "output_type":"stream"
    },
    {
     "data":{
      "image\/png":"[encoded data removed]"
     },
     "metadata":{
      "image\/png":{}
     },
     "output_type":"display_data"
    }
   ],
   "metadata":{
    "datalore":{
     "node_id":"K9A73lUPqytY2IL2YDxqS4",
     "type":"CODE",
     "hide_input_from_viewers":true,
     "hide_output_from_viewers":true
    }
   }
  },
  {
   "cell_type":"markdown",
   "source":[
    "The number of applicants that have good credit history is higher compared to applicants that have bad credit history. It also can be seen there are missing values in this column."
   ],
   "attachments":{},
   "metadata":{
    "datalore":{
     "node_id":"UWINDqr8jBMcrdlWPhxcgP",
     "type":"MD",
     "hide_input_from_viewers":true,
     "hide_output_from_viewers":true
    }
   }
  },
  {
   "cell_type":"code",
   "source":[
    "calculate_percentage_and_plot('Property_Area')"
   ],
   "execution_count":829,
   "outputs":[
    {
     "name":"stdout",
     "text":[
      "Semiurban    233\n",
      "Urban        202\n",
      "Rural        179\n",
      "Name: Property_Area, dtype: int64\n",
      "Percentage of Semiurban: 37.95%\n",
      "Percentage of Urban: 32.90%\n",
      "Percentage of Rural: 29.15%\n"
     ],
     "output_type":"stream"
    },
    {
     "data":{
      "image\/png":"[encoded data removed]"
     },
     "metadata":{
      "image\/png":{}
     },
     "output_type":"display_data"
    }
   ],
   "metadata":{
    "datalore":{
     "node_id":"6pjHBLLIHR2VCOMvpumGmg",
     "type":"CODE",
     "hide_input_from_viewers":true,
     "hide_output_from_viewers":true
    }
   }
  },
  {
   "cell_type":"markdown",
   "source":[
    "This column has a balanced distribution between Urban, Rural, and Semiurban property area."
   ],
   "attachments":{},
   "metadata":{
    "datalore":{
     "node_id":"mXIueNoU32qRZOwgP0B0YY",
     "type":"MD",
     "hide_input_from_viewers":true,
     "hide_output_from_viewers":true
    }
   }
  },
  {
   "cell_type":"code",
   "source":[
    "calculate_percentage_and_plot('Loan_Status')"
   ],
   "execution_count":830,
   "outputs":[
    {
     "name":"stdout",
     "text":[
      "Y    422\n",
      "N    192\n",
      "Name: Loan_Status, dtype: int64\n",
      "Percentage of Y: 68.73%\n",
      "Percentage of N: 31.27%\n"
     ],
     "output_type":"stream"
    },
    {
     "data":{
      "image\/png":"[encoded data removed]"
     },
     "metadata":{
      "image\/png":{}
     },
     "output_type":"display_data"
    }
   ],
   "metadata":{
    "datalore":{
     "node_id":"O5GXNCe3QBmWM8McHcSTFe",
     "type":"CODE",
     "hide_input_from_viewers":true,
     "hide_output_from_viewers":true
    }
   }
  },
  {
   "cell_type":"markdown",
   "source":[
    "The number of approved loans is higher compared to rejected loans . It also can be seen, there is no missing values in this column."
   ],
   "attachments":{},
   "metadata":{
    "datalore":{
     "node_id":"adgRGf51mvAARwDgKZgh0W",
     "type":"MD",
     "hide_input_from_viewers":true,
     "hide_output_from_viewers":true
    }
   }
  },
  {
   "cell_type":"markdown",
   "source":[
    "2. Numerical Variable"
   ],
   "attachments":{},
   "metadata":{
    "datalore":{
     "node_id":"cpZOwMmgjrf1a1NqDraOse",
     "type":"MD",
     "hide_input_from_viewers":true,
     "hide_output_from_viewers":true
    }
   }
  },
  {
   "cell_type":"code",
   "source":[
    "# describe numerical variable\n",
    "df[['ApplicantIncome','CoapplicantIncome','LoanAmount']].describe()"
   ],
   "execution_count":831,
   "outputs":[
    {
     "data":{
      "text\/html":[
       "<div>\n",
       "<style scoped>\n",
       "    .dataframe tbody tr th:only-of-type {\n",
       "        vertical-align: middle;\n",
       "    }\n",
       "\n",
       "    .dataframe tbody tr th {\n",
       "        vertical-align: top;\n",
       "    }\n",
       "\n",
       "    .dataframe thead th {\n",
       "        text-align: right;\n",
       "    }\n",
       "<\/style>\n",
       "<table border=\"1\" class=\"dataframe\">\n",
       "  <thead>\n",
       "    <tr style=\"text-align: right;\">\n",
       "      <th><\/th>\n",
       "      <th>ApplicantIncome<\/th>\n",
       "      <th>CoapplicantIncome<\/th>\n",
       "      <th>LoanAmount<\/th>\n",
       "    <\/tr>\n",
       "  <\/thead>\n",
       "  <tbody>\n",
       "    <tr>\n",
       "      <th>count<\/th>\n",
       "      <td>614.000000<\/td>\n",
       "      <td>614.000000<\/td>\n",
       "      <td>592.000000<\/td>\n",
       "    <\/tr>\n",
       "    <tr>\n",
       "      <th>mean<\/th>\n",
       "      <td>5403.459283<\/td>\n",
       "      <td>1621.245798<\/td>\n",
       "      <td>146.412162<\/td>\n",
       "    <\/tr>\n",
       "    <tr>\n",
       "      <th>std<\/th>\n",
       "      <td>6109.041673<\/td>\n",
       "      <td>2926.248369<\/td>\n",
       "      <td>85.587325<\/td>\n",
       "    <\/tr>\n",
       "    <tr>\n",
       "      <th>min<\/th>\n",
       "      <td>150.000000<\/td>\n",
       "      <td>0.000000<\/td>\n",
       "      <td>9.000000<\/td>\n",
       "    <\/tr>\n",
       "    <tr>\n",
       "      <th>25%<\/th>\n",
       "      <td>2877.500000<\/td>\n",
       "      <td>0.000000<\/td>\n",
       "      <td>100.000000<\/td>\n",
       "    <\/tr>\n",
       "    <tr>\n",
       "      <th>50%<\/th>\n",
       "      <td>3812.500000<\/td>\n",
       "      <td>1188.500000<\/td>\n",
       "      <td>128.000000<\/td>\n",
       "    <\/tr>\n",
       "    <tr>\n",
       "      <th>75%<\/th>\n",
       "      <td>5795.000000<\/td>\n",
       "      <td>2297.250000<\/td>\n",
       "      <td>168.000000<\/td>\n",
       "    <\/tr>\n",
       "    <tr>\n",
       "      <th>max<\/th>\n",
       "      <td>81000.000000<\/td>\n",
       "      <td>41667.000000<\/td>\n",
       "      <td>700.000000<\/td>\n",
       "    <\/tr>\n",
       "  <\/tbody>\n",
       "<\/table>\n",
       "<\/div>"
      ]
     },
     "metadata":{},
     "output_type":"display_data"
    }
   ],
   "metadata":{
    "datalore":{
     "node_id":"UMQfS5tq3XLfvvWuU0Hflj",
     "type":"CODE",
     "hide_input_from_viewers":true,
     "hide_output_from_viewers":true
    }
   }
  },
  {
   "cell_type":"code",
   "source":[
    "# Distribution of Numerical Variable\n",
    "# Histogram Distribution\n",
    "sns.set(style=\"darkgrid\")\n",
    "fig, axs = plt.subplots(2, 2, figsize=(10, 8))\n",
    "\n",
    "sns.histplot(data=df, x=\"ApplicantIncome\", kde=True, ax=axs[0, 0], color='green')\n",
    "sns.histplot(data=df, x=\"CoapplicantIncome\", kde=True, ax=axs[0, 1], color='skyblue')\n",
    "sns.histplot(data=df, x=\"LoanAmount\", kde=True, ax=axs[1, 0], color='orange');"
   ],
   "execution_count":832,
   "outputs":[
    {
     "data":{
      "image\/png":"[encoded data removed]"
     },
     "metadata":{
      "image\/png":{}
     },
     "output_type":"display_data"
    }
   ],
   "metadata":{
    "datalore":{
     "node_id":"ujo8ILuy5PXg4S2EKTSBum",
     "type":"CODE",
     "hide_input_from_viewers":true,
     "hide_output_from_viewers":true
    }
   }
  },
  {
   "cell_type":"code",
   "source":[
    "# Violin Plot\n",
    "sns.set(style=\"darkgrid\")\n",
    "fig, axs1 = plt.subplots(2, 2, figsize=(10, 10))\n",
    "\n",
    "sns.violinplot(data=df, y=\"ApplicantIncome\", ax=axs1[0, 0], color='green')\n",
    "sns.violinplot(data=df, y=\"CoapplicantIncome\", ax=axs1[0, 1], color='skyblue')\n",
    "sns.violinplot(data=df, y=\"LoanAmount\", ax=axs1[1, 0], color='orange');"
   ],
   "execution_count":833,
   "outputs":[
    {
     "data":{
      "image\/png":"[encoded data removed]"
     },
     "metadata":{
      "image\/png":{}
     },
     "output_type":"display_data"
    }
   ],
   "metadata":{
    "datalore":{
     "node_id":"Dwb0lmY68HHlN5bSTFhr2B",
     "type":"CODE",
     "hide_input_from_viewers":true,
     "hide_output_from_viewers":true
    }
   }
  },
  {
   "cell_type":"markdown",
   "source":[
    "The distribution of Applicant income, Co Applicant Income, and Loan Amount are positively skewed and it has outliers (can be seen from both histogram and violin plot)."
   ],
   "attachments":{},
   "metadata":{
    "datalore":{
     "node_id":"Lzo268mLnlEBWiDUs3iKgD",
     "type":"MD",
     "hide_input_from_viewers":true,
     "hide_output_from_viewers":true
    }
   }
  },
  {
   "cell_type":"markdown",
   "source":[
    "3. other exploration"
   ],
   "attachments":{},
   "metadata":{
    "datalore":{
     "node_id":"1FT61sIYmt4cLQtAhyOpHM",
     "type":"MD",
     "hide_input_from_viewers":true,
     "hide_output_from_viewers":true
    }
   }
  },
  {
   "cell_type":"code",
   "source":[
    "# Heatmap\n",
    "plt.figure(figsize=(10,7))\n",
    "sns.heatmap(df.corr(), annot=True, cmap='inferno');"
   ],
   "execution_count":834,
   "outputs":[
    {
     "name":"stderr",
     "text":[
      "<ipython-input-834-a8abfa322ab9>:3: FutureWarning: The default value of numeric_only in DataFrame.corr is deprecated. In a future version, it will default to False. Select only valid columns or specify the value of numeric_only to silence this warning.\n",
      "  sns.heatmap(df.corr(), annot=True, cmap='inferno');\n"
     ],
     "output_type":"stream"
    },
    {
     "data":{
      "image\/png":"[encoded data removed]"
     },
     "metadata":{
      "image\/png":{}
     },
     "output_type":"display_data"
    }
   ],
   "metadata":{
    "datalore":{
     "node_id":"qdQiQHvaGmFgsSYmTEZW70",
     "type":"CODE",
     "hide_input_from_viewers":true,
     "hide_output_from_viewers":true
    }
   }
  },
  {
   "cell_type":"markdown",
   "source":[
    "There is positive correlation between Loan Amount and Applicant Income"
   ],
   "attachments":{},
   "metadata":{
    "datalore":{
     "node_id":"uYdkvk5x19O5W0Lw0kLFAc",
     "type":"MD",
     "hide_input_from_viewers":true,
     "hide_output_from_viewers":true
    }
   }
  },
  {
   "cell_type":"code",
   "source":[
    "# Categorical 📊 - Categorical 📊\n",
    "pd.crosstab(df.Gender,df.Married).plot(kind=\"bar\", stacked=True, figsize=(5,5), color=['#f64f59','#12c2e9'])\n",
    "plt.title('Gender vs Married')\n",
    "plt.xlabel('Gender')\n",
    "plt.ylabel('Frequency')\n",
    "plt.xticks(rotation=0)\n",
    "plt.show()"
   ],
   "execution_count":835,
   "outputs":[
    {
     "data":{
      "image\/png":"[encoded data removed]"
     },
     "metadata":{
      "image\/png":{}
     },
     "output_type":"display_data"
    }
   ],
   "metadata":{
    "datalore":{
     "node_id":"m1tMvp09UE5NBMlPU9uA0X",
     "type":"CODE",
     "hide_input_from_viewers":true,
     "hide_output_from_viewers":true
    }
   }
  },
  {
   "cell_type":"markdown",
   "source":[
    "Most male applicants are already married compared to female applicants. Also, the number of not married male applicants are higher compare to female applicants that had not married."
   ],
   "attachments":{},
   "metadata":{
    "datalore":{
     "node_id":"G6EO2LxbBvQ2c7buwztSeG",
     "type":"MD",
     "hide_input_from_viewers":true,
     "hide_output_from_viewers":true
    }
   }
  },
  {
   "cell_type":"code",
   "source":[
    "pd.crosstab(df.Self_Employed,df.Credit_History).plot(kind=\"bar\", stacked=True, figsize=(5,5), color=['#544a7d','#ffd452'])\n",
    "plt.title('Self Employed vs Credit History')\n",
    "plt.xlabel('Self Employed')\n",
    "plt.ylabel('Frequency')\n",
    "plt.legend([\"Bad Credit\", \"Good Credit\"])\n",
    "plt.xticks(rotation=0)\n",
    "plt.show()"
   ],
   "execution_count":836,
   "outputs":[
    {
     "data":{
      "image\/png":"[encoded data removed]"
     },
     "metadata":{
      "image\/png":{}
     },
     "output_type":"display_data"
    }
   ],
   "metadata":{
    "datalore":{
     "node_id":"ofPAPYLEkbpvFlw5IuN2yE",
     "type":"CODE",
     "hide_input_from_viewers":true,
     "hide_output_from_viewers":true
    }
   }
  },
  {
   "cell_type":"markdown",
   "source":[
    "Most applicants who are not self-employed have good credit, while self-employed applicants usually have lower credit."
   ],
   "attachments":{},
   "metadata":{
    "datalore":{
     "node_id":"quH0Bt1ggl4alOLxyBgK41",
     "type":"MD",
     "hide_input_from_viewers":true,
     "hide_output_from_viewers":true
    }
   }
  },
  {
   "cell_type":"code",
   "source":[
    "pd.crosstab(df.Property_Area,df.Loan_Status).plot(kind=\"bar\", stacked=True, figsize=(5,5), color=['#333333','#dd1818'])\n",
    "plt.title('Property Area vs Loan Status')\n",
    "plt.xlabel('Property Area')\n",
    "plt.ylabel('Frequency')\n",
    "plt.xticks(rotation=0)\n",
    "plt.show()"
   ],
   "execution_count":837,
   "outputs":[
    {
     "data":{
      "image\/png":"[encoded data removed]"
     },
     "metadata":{
      "image\/png":{}
     },
     "output_type":"display_data"
    }
   ],
   "metadata":{
    "datalore":{
     "node_id":"0lFFbAw532PwZIy9HCfYqA",
     "type":"CODE",
     "hide_input_from_viewers":true,
     "hide_output_from_viewers":true
    }
   }
  },
  {
   "cell_type":"markdown",
   "source":[
    "Most approved loans are for properties in semiurban areas, compared to urban and rural areas."
   ],
   "attachments":{},
   "metadata":{
    "datalore":{
     "node_id":"HZvFL8OCkx7Gm5FDc8VAkJ",
     "type":"MD",
     "hide_input_from_viewers":true,
     "hide_output_from_viewers":true
    }
   }
  },
  {
   "cell_type":"code",
   "source":[
    "# Categorical 📊- Numerical 📈\n",
    "sns.boxplot(x=\"Loan_Status\", y=\"ApplicantIncome\", data=df, hue=\"Loan_Status\", palette=\"mako\")"
   ],
   "execution_count":838,
   "outputs":[
    {
     "data":{
      "text\/plain":[
       "<Axes: xlabel='Loan_Status', ylabel='ApplicantIncome'>"
      ]
     },
     "metadata":{},
     "output_type":"display_data"
    },
    {
     "data":{
      "image\/png":"[encoded data removed]"
     },
     "metadata":{
      "image\/png":{}
     },
     "output_type":"display_data"
    }
   ],
   "metadata":{
    "datalore":{
     "node_id":"a6EoykLRdShM3sJuYuY1Kf",
     "type":"CODE",
     "hide_input_from_viewers":true,
     "hide_output_from_viewers":true
    }
   }
  },
  {
   "cell_type":"markdown",
   "source":[
    "There are many outliers in Applicant Income, and the distribution is also positively skewed."
   ],
   "attachments":{},
   "metadata":{
    "datalore":{
     "node_id":"wL9xtiEkPe2lpEKnXAJInw",
     "type":"MD",
     "hide_input_from_viewers":true,
     "hide_output_from_viewers":true
    }
   }
  },
  {
   "cell_type":"code",
   "source":[
    "sns.boxplot(x=\"CoapplicantIncome\", y=\"Loan_Status\", data=df, hue=\"Loan_Status\", palette=\"rocket\")"
   ],
   "execution_count":839,
   "outputs":[
    {
     "data":{
      "text\/plain":[
       "<Axes: xlabel='CoapplicantIncome', ylabel='Loan_Status'>"
      ]
     },
     "metadata":{},
     "output_type":"display_data"
    },
    {
     "data":{
      "image\/png":"[encoded data removed]"
     },
     "metadata":{
      "image\/png":{}
     },
     "output_type":"display_data"
    }
   ],
   "metadata":{
    "datalore":{
     "node_id":"6zwuvjnGMqz9Y2BP7W0b2x",
     "type":"CODE",
     "hide_input_from_viewers":true,
     "hide_output_from_viewers":true
    }
   }
  },
  {
   "cell_type":"markdown",
   "source":[
    "There are many outliers in Co Applicant Income, and the distribution is also positively skewed."
   ],
   "attachments":{},
   "metadata":{
    "datalore":{
     "node_id":"7eqW986z9f2Rd1CFH0mP5S",
     "type":"MD",
     "hide_input_from_viewers":true,
     "hide_output_from_viewers":true
    }
   }
  },
  {
   "cell_type":"code",
   "source":[
    "sns.boxplot(x=\"Loan_Status\", y=\"LoanAmount\", data=df, hue=\"Loan_Status\", palette=\"YlOrBr\")"
   ],
   "execution_count":840,
   "outputs":[
    {
     "data":{
      "text\/plain":[
       "<Axes: xlabel='Loan_Status', ylabel='LoanAmount'>"
      ]
     },
     "metadata":{},
     "output_type":"display_data"
    },
    {
     "data":{
      "image\/png":"[encoded data removed]"
     },
     "metadata":{
      "image\/png":{}
     },
     "output_type":"display_data"
    }
   ],
   "metadata":{
    "datalore":{
     "node_id":"fcHn9FxArBh15wNn853eh7",
     "type":"CODE",
     "hide_input_from_viewers":true,
     "hide_output_from_viewers":true
    }
   }
  },
  {
   "cell_type":"markdown",
   "source":[
    "Loan Amount is similar to Applicant Income and Co-applicant Income, as it also has outliers and is positively skewed."
   ],
   "attachments":{},
   "metadata":{
    "datalore":{
     "node_id":"Y16Xm7UgaJSMeWwW1WpNWM",
     "type":"MD",
     "hide_input_from_viewers":true,
     "hide_output_from_viewers":true
    }
   }
  },
  {
   "cell_type":"code",
   "source":[
    "# Numerical 📈 - Numerical 📈\n",
    "df.plot(x='ApplicantIncome', y='CoapplicantIncome', style='o')  \n",
    "plt.title('Applicant Income - Co Applicant Income')  \n",
    "plt.xlabel('ApplicantIncome')\n",
    "plt.ylabel('CoapplicantIncome')  \n",
    "plt.show()\n",
    "print('Pearson correlation:', df['ApplicantIncome'].corr(df['CoapplicantIncome']))\n",
    "print('T Test and P value: \\n', stats.ttest_ind(df['ApplicantIncome'], df['CoapplicantIncome']))"
   ],
   "execution_count":841,
   "outputs":[
    {
     "name":"stdout",
     "text":[
      "Pearson correlation: -0.11660458122889966\n",
      "T Test and P value: \n",
      " Ttest_indResult(statistic=13.835753259915665, pvalue=1.460983948423972e-40)\n"
     ],
     "output_type":"stream"
    },
    {
     "data":{
      "image\/png":"[encoded data removed]"
     },
     "metadata":{
      "image\/png":{}
     },
     "output_type":"display_data"
    }
   ],
   "metadata":{
    "datalore":{
     "node_id":"1GLb7HDlHO46sATIvB1P8w",
     "type":"CODE",
     "hide_input_from_viewers":true,
     "hide_output_from_viewers":true
    }
   }
  },
  {
   "cell_type":"markdown",
   "source":[
    "There is **negative correlation** between Applicant income and Co Applicant Income.\n",
    "\n",
    "The correlation coefficient is **significant** at the 95 per cent confidence interval, as it has a **p-value of 1.46**"
   ],
   "attachments":{},
   "metadata":{
    "datalore":{
     "node_id":"FBRio7vo3y16rTW43yyWPS",
     "type":"MD",
     "hide_input_from_viewers":true,
     "hide_output_from_viewers":true
    }
   }
  },
  {
   "cell_type":"markdown",
   "source":[
    "4. Null Values"
   ],
   "attachments":{},
   "metadata":{
    "datalore":{
     "node_id":"8BybkRuWfbp0XRjKFuULAM",
     "type":"MD",
     "hide_input_from_viewers":true,
     "hide_output_from_viewers":true
    }
   }
  },
  {
   "cell_type":"code",
   "source":[
    "# check for missing values\n",
    "df.isnull().sum()"
   ],
   "execution_count":842,
   "outputs":[
    {
     "data":{
      "text\/html":[
       "<pre>Loan_ID               0\n",
       "Gender               13\n",
       "Married               3\n",
       "Dependents           15\n",
       "Education             0\n",
       "Self_Employed        32\n",
       "ApplicantIncome       0\n",
       "CoapplicantIncome     0\n",
       "LoanAmount           22\n",
       "Loan_Amount_Term     14\n",
       "Credit_History       50\n",
       "Property_Area         0\n",
       "Loan_Status           0\n",
       "dtype: int64<\/pre>"
      ]
     },
     "metadata":{},
     "output_type":"display_data"
    }
   ],
   "metadata":{
    "datalore":{
     "node_id":"G4ou2wXIaXcrbsvyPlJkwm",
     "type":"CODE",
     "hide_input_from_viewers":true,
     "hide_output_from_viewers":true
    }
   }
  },
  {
   "cell_type":"code",
   "source":[
    "plt.figure(figsize = (24, 5))\n",
    "axz = plt.subplot(1,2,2)\n",
    "mso.bar(df, ax = axz, fontsize = 12);"
   ],
   "execution_count":843,
   "outputs":[
    {
     "data":{
      "image\/png":"[encoded data removed]"
     },
     "metadata":{
      "image\/png":{}
     },
     "output_type":"display_data"
    }
   ],
   "metadata":{
    "datalore":{
     "node_id":"mplDdP7DduXyDneAq5z1Vd",
     "type":"CODE",
     "hide_input_from_viewers":true,
     "hide_output_from_viewers":true
    }
   }
  },
  {
   "cell_type":"markdown",
   "source":[
    "### - Data preprocessing "
   ],
   "attachments":{},
   "metadata":{
    "datalore":{
     "node_id":"REJfv50LTxkL6nnVNMAaCQ",
     "type":"MD",
     "hide_input_from_viewers":true,
     "hide_output_from_viewers":true
    }
   }
  },
  {
   "cell_type":"markdown",
   "source":[
    "1. Drop Unnecessary Variables"
   ],
   "attachments":{},
   "metadata":{
    "datalore":{
     "node_id":"c8SQvTNim3V0MniahELtzS",
     "type":"MD",
     "hide_input_from_viewers":true,
     "hide_output_from_viewers":true
    }
   }
  },
  {
   "cell_type":"code",
   "source":[
    "df = df.drop(['Loan_ID'], axis = 1)"
   ],
   "execution_count":844,
   "outputs":[],
   "metadata":{
    "datalore":{
     "node_id":"sxpfbijCEZepl5ghGHi7Pc",
     "type":"CODE",
     "hide_input_from_viewers":true,
     "hide_output_from_viewers":true
    }
   }
  },
  {
   "cell_type":"markdown",
   "source":[
    "2. Data Imputation"
   ],
   "attachments":{},
   "metadata":{
    "datalore":{
     "node_id":"xYybeeLGqcsM9hRnd1NbT7",
     "type":"MD",
     "hide_input_from_viewers":true,
     "hide_output_from_viewers":true
    }
   }
  },
  {
   "cell_type":"code",
   "source":[
    "# Relationship between 'Credit_History' and 'Loan_Status'\n",
    "loan_status_relationship = df.groupby('Credit_History')['Loan_Status'].value_counts(normalize=True).unstack()\n",
    "print(\"\\nRelationship between Credit_History and Loan_Status:\")\n",
    "print(loan_status_relationship)"
   ],
   "execution_count":845,
   "outputs":[
    {
     "name":"stdout",
     "text":[
      "\n",
      "Relationship between Credit_History and Loan_Status:\n",
      "Loan_Status            N         Y\n",
      "Credit_History                    \n",
      "0.0             0.921348  0.078652\n",
      "1.0             0.204211  0.795789\n"
     ],
     "output_type":"stream"
    }
   ],
   "metadata":{
    "datalore":{
     "node_id":"YxhI4NDzPct3cZC3F2Xb19",
     "type":"CODE",
     "hide_input_from_viewers":true,
     "hide_output_from_viewers":true
    }
   }
  },
  {
   "cell_type":"code",
   "source":[
    "# Categorical Variables\n",
    "df['Gender'].fillna(df['Gender'].mode()[0],inplace=True)\n",
    "df['Married'].fillna(df['Married'].mode()[0],inplace=True)\n",
    "df['Dependents'].fillna(df['Dependents'].mode()[0],inplace=True)\n",
    "df['Self_Employed'].fillna(df['Self_Employed'].mode()[0],inplace=True)\n",
    "df['Loan_Amount_Term'].fillna(df['Loan_Amount_Term'].mode()[0],inplace=True)\n",
    "df.loc[(df['Loan_Status'] == 'N') & (df['Credit_History'].isna()), 'Credit_History'] = 0.0\n",
    "df.loc[(df['Loan_Status'] == 'Y') & (df['Credit_History'].isna()), 'Credit_History'] = 1.0"
   ],
   "execution_count":846,
   "outputs":[],
   "metadata":{
    "datalore":{
     "node_id":"ANJrkzVfIPcYBlyd2lqnRv",
     "type":"CODE",
     "hide_input_from_viewers":true,
     "hide_output_from_viewers":true
    }
   }
  },
  {
   "cell_type":"code",
   "source":[
    "# Numerical Variables\n",
    "df['LoanAmount'].fillna(df['LoanAmount'].mean(),inplace=True)"
   ],
   "execution_count":847,
   "outputs":[],
   "metadata":{
    "datalore":{
     "node_id":"WIRD8edlMicyMKvylCHZ5F",
     "type":"CODE",
     "hide_input_from_viewers":true,
     "hide_output_from_viewers":true
    }
   }
  },
  {
   "cell_type":"markdown",
   "source":[
    "3. One-hot Encoding"
   ],
   "attachments":{},
   "metadata":{
    "datalore":{
     "node_id":"rN5U8wdwof06N9UJpm1FV1",
     "type":"MD",
     "hide_input_from_viewers":true,
     "hide_output_from_viewers":true
    }
   }
  },
  {
   "cell_type":"code",
   "source":[
    "df = pd.get_dummies(df)\n",
    "df"
   ],
   "execution_count":848,
   "outputs":[
    {
     "data":{
      "text\/html":[
       "<div>\n",
       "<style scoped>\n",
       "    .dataframe tbody tr th:only-of-type {\n",
       "        vertical-align: middle;\n",
       "    }\n",
       "\n",
       "    .dataframe tbody tr th {\n",
       "        vertical-align: top;\n",
       "    }\n",
       "\n",
       "    .dataframe thead th {\n",
       "        text-align: right;\n",
       "    }\n",
       "<\/style>\n",
       "<table border=\"1\" class=\"dataframe\">\n",
       "  <thead>\n",
       "    <tr style=\"text-align: right;\">\n",
       "      <th><\/th>\n",
       "      <th>ApplicantIncome<\/th>\n",
       "      <th>CoapplicantIncome<\/th>\n",
       "      <th>LoanAmount<\/th>\n",
       "      <th>Loan_Amount_Term<\/th>\n",
       "      <th>Credit_History<\/th>\n",
       "      <th>Gender_Female<\/th>\n",
       "      <th>Gender_Male<\/th>\n",
       "      <th>Married_No<\/th>\n",
       "      <th>Married_Yes<\/th>\n",
       "      <th>Dependents_0<\/th>\n",
       "      <th>...<\/th>\n",
       "      <th>Dependents_3+<\/th>\n",
       "      <th>Education_Graduate<\/th>\n",
       "      <th>Education_Not Graduate<\/th>\n",
       "      <th>Self_Employed_No<\/th>\n",
       "      <th>Self_Employed_Yes<\/th>\n",
       "      <th>Property_Area_Rural<\/th>\n",
       "      <th>Property_Area_Semiurban<\/th>\n",
       "      <th>Property_Area_Urban<\/th>\n",
       "      <th>Loan_Status_N<\/th>\n",
       "      <th>Loan_Status_Y<\/th>\n",
       "    <\/tr>\n",
       "  <\/thead>\n",
       "  <tbody>\n",
       "    <tr>\n",
       "      <th>0<\/th>\n",
       "      <td>5849<\/td>\n",
       "      <td>0.0<\/td>\n",
       "      <td>146.412162<\/td>\n",
       "      <td>360.0<\/td>\n",
       "      <td>1.0<\/td>\n",
       "      <td>0<\/td>\n",
       "      <td>1<\/td>\n",
       "      <td>1<\/td>\n",
       "      <td>0<\/td>\n",
       "      <td>1<\/td>\n",
       "      <td>...<\/td>\n",
       "      <td>0<\/td>\n",
       "      <td>1<\/td>\n",
       "      <td>0<\/td>\n",
       "      <td>1<\/td>\n",
       "      <td>0<\/td>\n",
       "      <td>0<\/td>\n",
       "      <td>0<\/td>\n",
       "      <td>1<\/td>\n",
       "      <td>0<\/td>\n",
       "      <td>1<\/td>\n",
       "    <\/tr>\n",
       "    <tr>\n",
       "      <th>1<\/th>\n",
       "      <td>4583<\/td>\n",
       "      <td>1508.0<\/td>\n",
       "      <td>128.000000<\/td>\n",
       "      <td>360.0<\/td>\n",
       "      <td>1.0<\/td>\n",
       "      <td>0<\/td>\n",
       "      <td>1<\/td>\n",
       "      <td>0<\/td>\n",
       "      <td>1<\/td>\n",
       "      <td>0<\/td>\n",
       "      <td>...<\/td>\n",
       "      <td>0<\/td>\n",
       "      <td>1<\/td>\n",
       "      <td>0<\/td>\n",
       "      <td>1<\/td>\n",
       "      <td>0<\/td>\n",
       "      <td>1<\/td>\n",
       "      <td>0<\/td>\n",
       "      <td>0<\/td>\n",
       "      <td>1<\/td>\n",
       "      <td>0<\/td>\n",
       "    <\/tr>\n",
       "    <tr>\n",
       "      <th>2<\/th>\n",
       "      <td>3000<\/td>\n",
       "      <td>0.0<\/td>\n",
       "      <td>66.000000<\/td>\n",
       "      <td>360.0<\/td>\n",
       "      <td>1.0<\/td>\n",
       "      <td>0<\/td>\n",
       "      <td>1<\/td>\n",
       "      <td>0<\/td>\n",
       "      <td>1<\/td>\n",
       "      <td>1<\/td>\n",
       "      <td>...<\/td>\n",
       "      <td>0<\/td>\n",
       "      <td>1<\/td>\n",
       "      <td>0<\/td>\n",
       "      <td>0<\/td>\n",
       "      <td>1<\/td>\n",
       "      <td>0<\/td>\n",
       "      <td>0<\/td>\n",
       "      <td>1<\/td>\n",
       "      <td>0<\/td>\n",
       "      <td>1<\/td>\n",
       "    <\/tr>\n",
       "    <tr>\n",
       "      <th>3<\/th>\n",
       "      <td>2583<\/td>\n",
       "      <td>2358.0<\/td>\n",
       "      <td>120.000000<\/td>\n",
       "      <td>360.0<\/td>\n",
       "      <td>1.0<\/td>\n",
       "      <td>0<\/td>\n",
       "      <td>1<\/td>\n",
       "      <td>0<\/td>\n",
       "      <td>1<\/td>\n",
       "      <td>1<\/td>\n",
       "      <td>...<\/td>\n",
       "      <td>0<\/td>\n",
       "      <td>0<\/td>\n",
       "      <td>1<\/td>\n",
       "      <td>1<\/td>\n",
       "      <td>0<\/td>\n",
       "      <td>0<\/td>\n",
       "      <td>0<\/td>\n",
       "      <td>1<\/td>\n",
       "      <td>0<\/td>\n",
       "      <td>1<\/td>\n",
       "    <\/tr>\n",
       "    <tr>\n",
       "      <th>4<\/th>\n",
       "      <td>6000<\/td>\n",
       "      <td>0.0<\/td>\n",
       "      <td>141.000000<\/td>\n",
       "      <td>360.0<\/td>\n",
       "      <td>1.0<\/td>\n",
       "      <td>0<\/td>\n",
       "      <td>1<\/td>\n",
       "      <td>1<\/td>\n",
       "      <td>0<\/td>\n",
       "      <td>1<\/td>\n",
       "      <td>...<\/td>\n",
       "      <td>0<\/td>\n",
       "      <td>1<\/td>\n",
       "      <td>0<\/td>\n",
       "      <td>1<\/td>\n",
       "      <td>0<\/td>\n",
       "      <td>0<\/td>\n",
       "      <td>0<\/td>\n",
       "      <td>1<\/td>\n",
       "      <td>0<\/td>\n",
       "      <td>1<\/td>\n",
       "    <\/tr>\n",
       "    <tr>\n",
       "      <th>...<\/th>\n",
       "      <td>...<\/td>\n",
       "      <td>...<\/td>\n",
       "      <td>...<\/td>\n",
       "      <td>...<\/td>\n",
       "      <td>...<\/td>\n",
       "      <td>...<\/td>\n",
       "      <td>...<\/td>\n",
       "      <td>...<\/td>\n",
       "      <td>...<\/td>\n",
       "      <td>...<\/td>\n",
       "      <td>...<\/td>\n",
       "      <td>...<\/td>\n",
       "      <td>...<\/td>\n",
       "      <td>...<\/td>\n",
       "      <td>...<\/td>\n",
       "      <td>...<\/td>\n",
       "      <td>...<\/td>\n",
       "      <td>...<\/td>\n",
       "      <td>...<\/td>\n",
       "      <td>...<\/td>\n",
       "      <td>...<\/td>\n",
       "    <\/tr>\n",
       "    <tr>\n",
       "      <th>609<\/th>\n",
       "      <td>2900<\/td>\n",
       "      <td>0.0<\/td>\n",
       "      <td>71.000000<\/td>\n",
       "      <td>360.0<\/td>\n",
       "      <td>1.0<\/td>\n",
       "      <td>1<\/td>\n",
       "      <td>0<\/td>\n",
       "      <td>1<\/td>\n",
       "      <td>0<\/td>\n",
       "      <td>1<\/td>\n",
       "      <td>...<\/td>\n",
       "      <td>0<\/td>\n",
       "      <td>1<\/td>\n",
       "      <td>0<\/td>\n",
       "      <td>1<\/td>\n",
       "      <td>0<\/td>\n",
       "      <td>1<\/td>\n",
       "      <td>0<\/td>\n",
       "      <td>0<\/td>\n",
       "      <td>0<\/td>\n",
       "      <td>1<\/td>\n",
       "    <\/tr>\n",
       "    <tr>\n",
       "      <th>610<\/th>\n",
       "      <td>4106<\/td>\n",
       "      <td>0.0<\/td>\n",
       "      <td>40.000000<\/td>\n",
       "      <td>180.0<\/td>\n",
       "      <td>1.0<\/td>\n",
       "      <td>0<\/td>\n",
       "      <td>1<\/td>\n",
       "      <td>0<\/td>\n",
       "      <td>1<\/td>\n",
       "      <td>0<\/td>\n",
       "      <td>...<\/td>\n",
       "      <td>1<\/td>\n",
       "      <td>1<\/td>\n",
       "      <td>0<\/td>\n",
       "      <td>1<\/td>\n",
       "      <td>0<\/td>\n",
       "      <td>1<\/td>\n",
       "      <td>0<\/td>\n",
       "      <td>0<\/td>\n",
       "      <td>0<\/td>\n",
       "      <td>1<\/td>\n",
       "    <\/tr>\n",
       "    <tr>\n",
       "      <th>611<\/th>\n",
       "      <td>8072<\/td>\n",
       "      <td>240.0<\/td>\n",
       "      <td>253.000000<\/td>\n",
       "      <td>360.0<\/td>\n",
       "      <td>1.0<\/td>\n",
       "      <td>0<\/td>\n",
       "      <td>1<\/td>\n",
       "      <td>0<\/td>\n",
       "      <td>1<\/td>\n",
       "      <td>0<\/td>\n",
       "      <td>...<\/td>\n",
       "      <td>0<\/td>\n",
       "      <td>1<\/td>\n",
       "      <td>0<\/td>\n",
       "      <td>1<\/td>\n",
       "      <td>0<\/td>\n",
       "      <td>0<\/td>\n",
       "      <td>0<\/td>\n",
       "      <td>1<\/td>\n",
       "      <td>0<\/td>\n",
       "      <td>1<\/td>\n",
       "    <\/tr>\n",
       "    <tr>\n",
       "      <th>612<\/th>\n",
       "      <td>7583<\/td>\n",
       "      <td>0.0<\/td>\n",
       "      <td>187.000000<\/td>\n",
       "      <td>360.0<\/td>\n",
       "      <td>1.0<\/td>\n",
       "      <td>0<\/td>\n",
       "      <td>1<\/td>\n",
       "      <td>0<\/td>\n",
       "      <td>1<\/td>\n",
       "      <td>0<\/td>\n",
       "      <td>...<\/td>\n",
       "      <td>0<\/td>\n",
       "      <td>1<\/td>\n",
       "      <td>0<\/td>\n",
       "      <td>1<\/td>\n",
       "      <td>0<\/td>\n",
       "      <td>0<\/td>\n",
       "      <td>0<\/td>\n",
       "      <td>1<\/td>\n",
       "      <td>0<\/td>\n",
       "      <td>1<\/td>\n",
       "    <\/tr>\n",
       "    <tr>\n",
       "      <th>613<\/th>\n",
       "      <td>4583<\/td>\n",
       "      <td>0.0<\/td>\n",
       "      <td>133.000000<\/td>\n",
       "      <td>360.0<\/td>\n",
       "      <td>0.0<\/td>\n",
       "      <td>1<\/td>\n",
       "      <td>0<\/td>\n",
       "      <td>1<\/td>\n",
       "      <td>0<\/td>\n",
       "      <td>1<\/td>\n",
       "      <td>...<\/td>\n",
       "      <td>0<\/td>\n",
       "      <td>1<\/td>\n",
       "      <td>0<\/td>\n",
       "      <td>0<\/td>\n",
       "      <td>1<\/td>\n",
       "      <td>0<\/td>\n",
       "      <td>1<\/td>\n",
       "      <td>0<\/td>\n",
       "      <td>1<\/td>\n",
       "      <td>0<\/td>\n",
       "    <\/tr>\n",
       "  <\/tbody>\n",
       "<\/table>\n",
       "<p>614 rows × 22 columns<\/p>\n",
       "<\/div>"
      ]
     },
     "metadata":{},
     "output_type":"display_data"
    }
   ],
   "metadata":{
    "datalore":{
     "node_id":"puwzEeYsXbi4ttc7Bu0ojd",
     "type":"CODE",
     "hide_input_from_viewers":true,
     "hide_output_from_viewers":true
    }
   }
  },
  {
   "cell_type":"code",
   "source":[
    "# Drop columns\n",
    "df = df.drop(['Gender_Female', 'Married_No', 'Education_Not Graduate', \n",
    "              'Self_Employed_No', 'Loan_Status_N'], axis = 1)\n",
    "\n",
    "# Rename columns name\n",
    "new = {'Gender_Male': 'Gender', 'Married_Yes': 'Married', \n",
    "       'Education_Graduate': 'Education', 'Self_Employed_Yes': 'Self_Employed',\n",
    "       'Loan_Status_Y': 'Loan_Status'}\n",
    "       \n",
    "df.rename(columns=new, inplace=True)"
   ],
   "execution_count":849,
   "outputs":[],
   "metadata":{
    "datalore":{
     "node_id":"70QFSvZ8Pe7NEHrQBNVIPi",
     "type":"CODE",
     "hide_input_from_viewers":true,
     "hide_output_from_viewers":true
    }
   }
  },
  {
   "cell_type":"code",
   "source":[
    "df"
   ],
   "execution_count":850,
   "outputs":[
    {
     "data":{
      "text\/html":[
       "<div>\n",
       "<style scoped>\n",
       "    .dataframe tbody tr th:only-of-type {\n",
       "        vertical-align: middle;\n",
       "    }\n",
       "\n",
       "    .dataframe tbody tr th {\n",
       "        vertical-align: top;\n",
       "    }\n",
       "\n",
       "    .dataframe thead th {\n",
       "        text-align: right;\n",
       "    }\n",
       "<\/style>\n",
       "<table border=\"1\" class=\"dataframe\">\n",
       "  <thead>\n",
       "    <tr style=\"text-align: right;\">\n",
       "      <th><\/th>\n",
       "      <th>ApplicantIncome<\/th>\n",
       "      <th>CoapplicantIncome<\/th>\n",
       "      <th>LoanAmount<\/th>\n",
       "      <th>Loan_Amount_Term<\/th>\n",
       "      <th>Credit_History<\/th>\n",
       "      <th>Gender<\/th>\n",
       "      <th>Married<\/th>\n",
       "      <th>Dependents_0<\/th>\n",
       "      <th>Dependents_1<\/th>\n",
       "      <th>Dependents_2<\/th>\n",
       "      <th>Dependents_3+<\/th>\n",
       "      <th>Education<\/th>\n",
       "      <th>Self_Employed<\/th>\n",
       "      <th>Property_Area_Rural<\/th>\n",
       "      <th>Property_Area_Semiurban<\/th>\n",
       "      <th>Property_Area_Urban<\/th>\n",
       "      <th>Loan_Status<\/th>\n",
       "    <\/tr>\n",
       "  <\/thead>\n",
       "  <tbody>\n",
       "    <tr>\n",
       "      <th>0<\/th>\n",
       "      <td>5849<\/td>\n",
       "      <td>0.0<\/td>\n",
       "      <td>146.412162<\/td>\n",
       "      <td>360.0<\/td>\n",
       "      <td>1.0<\/td>\n",
       "      <td>1<\/td>\n",
       "      <td>0<\/td>\n",
       "      <td>1<\/td>\n",
       "      <td>0<\/td>\n",
       "      <td>0<\/td>\n",
       "      <td>0<\/td>\n",
       "      <td>1<\/td>\n",
       "      <td>0<\/td>\n",
       "      <td>0<\/td>\n",
       "      <td>0<\/td>\n",
       "      <td>1<\/td>\n",
       "      <td>1<\/td>\n",
       "    <\/tr>\n",
       "    <tr>\n",
       "      <th>1<\/th>\n",
       "      <td>4583<\/td>\n",
       "      <td>1508.0<\/td>\n",
       "      <td>128.000000<\/td>\n",
       "      <td>360.0<\/td>\n",
       "      <td>1.0<\/td>\n",
       "      <td>1<\/td>\n",
       "      <td>1<\/td>\n",
       "      <td>0<\/td>\n",
       "      <td>1<\/td>\n",
       "      <td>0<\/td>\n",
       "      <td>0<\/td>\n",
       "      <td>1<\/td>\n",
       "      <td>0<\/td>\n",
       "      <td>1<\/td>\n",
       "      <td>0<\/td>\n",
       "      <td>0<\/td>\n",
       "      <td>0<\/td>\n",
       "    <\/tr>\n",
       "    <tr>\n",
       "      <th>2<\/th>\n",
       "      <td>3000<\/td>\n",
       "      <td>0.0<\/td>\n",
       "      <td>66.000000<\/td>\n",
       "      <td>360.0<\/td>\n",
       "      <td>1.0<\/td>\n",
       "      <td>1<\/td>\n",
       "      <td>1<\/td>\n",
       "      <td>1<\/td>\n",
       "      <td>0<\/td>\n",
       "      <td>0<\/td>\n",
       "      <td>0<\/td>\n",
       "      <td>1<\/td>\n",
       "      <td>1<\/td>\n",
       "      <td>0<\/td>\n",
       "      <td>0<\/td>\n",
       "      <td>1<\/td>\n",
       "      <td>1<\/td>\n",
       "    <\/tr>\n",
       "    <tr>\n",
       "      <th>3<\/th>\n",
       "      <td>2583<\/td>\n",
       "      <td>2358.0<\/td>\n",
       "      <td>120.000000<\/td>\n",
       "      <td>360.0<\/td>\n",
       "      <td>1.0<\/td>\n",
       "      <td>1<\/td>\n",
       "      <td>1<\/td>\n",
       "      <td>1<\/td>\n",
       "      <td>0<\/td>\n",
       "      <td>0<\/td>\n",
       "      <td>0<\/td>\n",
       "      <td>0<\/td>\n",
       "      <td>0<\/td>\n",
       "      <td>0<\/td>\n",
       "      <td>0<\/td>\n",
       "      <td>1<\/td>\n",
       "      <td>1<\/td>\n",
       "    <\/tr>\n",
       "    <tr>\n",
       "      <th>4<\/th>\n",
       "      <td>6000<\/td>\n",
       "      <td>0.0<\/td>\n",
       "      <td>141.000000<\/td>\n",
       "      <td>360.0<\/td>\n",
       "      <td>1.0<\/td>\n",
       "      <td>1<\/td>\n",
       "      <td>0<\/td>\n",
       "      <td>1<\/td>\n",
       "      <td>0<\/td>\n",
       "      <td>0<\/td>\n",
       "      <td>0<\/td>\n",
       "      <td>1<\/td>\n",
       "      <td>0<\/td>\n",
       "      <td>0<\/td>\n",
       "      <td>0<\/td>\n",
       "      <td>1<\/td>\n",
       "      <td>1<\/td>\n",
       "    <\/tr>\n",
       "    <tr>\n",
       "      <th>...<\/th>\n",
       "      <td>...<\/td>\n",
       "      <td>...<\/td>\n",
       "      <td>...<\/td>\n",
       "      <td>...<\/td>\n",
       "      <td>...<\/td>\n",
       "      <td>...<\/td>\n",
       "      <td>...<\/td>\n",
       "      <td>...<\/td>\n",
       "      <td>...<\/td>\n",
       "      <td>...<\/td>\n",
       "      <td>...<\/td>\n",
       "      <td>...<\/td>\n",
       "      <td>...<\/td>\n",
       "      <td>...<\/td>\n",
       "      <td>...<\/td>\n",
       "      <td>...<\/td>\n",
       "      <td>...<\/td>\n",
       "    <\/tr>\n",
       "    <tr>\n",
       "      <th>609<\/th>\n",
       "      <td>2900<\/td>\n",
       "      <td>0.0<\/td>\n",
       "      <td>71.000000<\/td>\n",
       "      <td>360.0<\/td>\n",
       "      <td>1.0<\/td>\n",
       "      <td>0<\/td>\n",
       "      <td>0<\/td>\n",
       "      <td>1<\/td>\n",
       "      <td>0<\/td>\n",
       "      <td>0<\/td>\n",
       "      <td>0<\/td>\n",
       "      <td>1<\/td>\n",
       "      <td>0<\/td>\n",
       "      <td>1<\/td>\n",
       "      <td>0<\/td>\n",
       "      <td>0<\/td>\n",
       "      <td>1<\/td>\n",
       "    <\/tr>\n",
       "    <tr>\n",
       "      <th>610<\/th>\n",
       "      <td>4106<\/td>\n",
       "      <td>0.0<\/td>\n",
       "      <td>40.000000<\/td>\n",
       "      <td>180.0<\/td>\n",
       "      <td>1.0<\/td>\n",
       "      <td>1<\/td>\n",
       "      <td>1<\/td>\n",
       "      <td>0<\/td>\n",
       "      <td>0<\/td>\n",
       "      <td>0<\/td>\n",
       "      <td>1<\/td>\n",
       "      <td>1<\/td>\n",
       "      <td>0<\/td>\n",
       "      <td>1<\/td>\n",
       "      <td>0<\/td>\n",
       "      <td>0<\/td>\n",
       "      <td>1<\/td>\n",
       "    <\/tr>\n",
       "    <tr>\n",
       "      <th>611<\/th>\n",
       "      <td>8072<\/td>\n",
       "      <td>240.0<\/td>\n",
       "      <td>253.000000<\/td>\n",
       "      <td>360.0<\/td>\n",
       "      <td>1.0<\/td>\n",
       "      <td>1<\/td>\n",
       "      <td>1<\/td>\n",
       "      <td>0<\/td>\n",
       "      <td>1<\/td>\n",
       "      <td>0<\/td>\n",
       "      <td>0<\/td>\n",
       "      <td>1<\/td>\n",
       "      <td>0<\/td>\n",
       "      <td>0<\/td>\n",
       "      <td>0<\/td>\n",
       "      <td>1<\/td>\n",
       "      <td>1<\/td>\n",
       "    <\/tr>\n",
       "    <tr>\n",
       "      <th>612<\/th>\n",
       "      <td>7583<\/td>\n",
       "      <td>0.0<\/td>\n",
       "      <td>187.000000<\/td>\n",
       "      <td>360.0<\/td>\n",
       "      <td>1.0<\/td>\n",
       "      <td>1<\/td>\n",
       "      <td>1<\/td>\n",
       "      <td>0<\/td>\n",
       "      <td>0<\/td>\n",
       "      <td>1<\/td>\n",
       "      <td>0<\/td>\n",
       "      <td>1<\/td>\n",
       "      <td>0<\/td>\n",
       "      <td>0<\/td>\n",
       "      <td>0<\/td>\n",
       "      <td>1<\/td>\n",
       "      <td>1<\/td>\n",
       "    <\/tr>\n",
       "    <tr>\n",
       "      <th>613<\/th>\n",
       "      <td>4583<\/td>\n",
       "      <td>0.0<\/td>\n",
       "      <td>133.000000<\/td>\n",
       "      <td>360.0<\/td>\n",
       "      <td>0.0<\/td>\n",
       "      <td>0<\/td>\n",
       "      <td>0<\/td>\n",
       "      <td>1<\/td>\n",
       "      <td>0<\/td>\n",
       "      <td>0<\/td>\n",
       "      <td>0<\/td>\n",
       "      <td>1<\/td>\n",
       "      <td>1<\/td>\n",
       "      <td>0<\/td>\n",
       "      <td>1<\/td>\n",
       "      <td>0<\/td>\n",
       "      <td>0<\/td>\n",
       "    <\/tr>\n",
       "  <\/tbody>\n",
       "<\/table>\n",
       "<p>614 rows × 17 columns<\/p>\n",
       "<\/div>"
      ]
     },
     "metadata":{},
     "output_type":"display_data"
    }
   ],
   "metadata":{
    "datalore":{
     "node_id":"Lo5tlt6iZ3D0k1PsU8BaHD",
     "type":"CODE",
     "hide_input_from_viewers":true,
     "hide_output_from_viewers":true
    }
   }
  },
  {
   "cell_type":"markdown",
   "source":[
    "4. Remove Outliers & Infinite values"
   ],
   "attachments":{},
   "metadata":{
    "datalore":{
     "node_id":"LlCsS7cU0tE82IG0EG3cge",
     "type":"MD",
     "hide_input_from_viewers":true,
     "hide_output_from_viewers":true
    }
   }
  },
  {
   "cell_type":"code",
   "source":[
    "Q1 = df.quantile(0.25)\n",
    "Q3 = df.quantile(0.75)\n",
    "IQR = Q3 - Q1\n",
    "\n",
    "df = df[~((df < (Q1 - 1.5 * IQR)) |(df > (Q3 + 1.5 * IQR))).any(axis=1)]"
   ],
   "execution_count":851,
   "outputs":[],
   "metadata":{
    "datalore":{
     "node_id":"TY9rn2mRvQ5muZDKTgNwRS",
     "type":"CODE",
     "hide_input_from_viewers":true,
     "hide_output_from_viewers":true
    }
   }
  },
  {
   "cell_type":"markdown",
   "source":[
    "5. Skewed Distribution Treatment\n",
    "\n",
    "In the previous section, it is already shown that\n",
    "**distribution for ApplicantIncome, CoapplicantIncome, and LoanAmount is positively skewed**\n",
    "\n",
    "Apply the **square root transformation** method to normalize the distribution.\n"
   ],
   "attachments":{},
   "metadata":{
    "datalore":{
     "node_id":"vCLwDlJ2COkTuKYb1aUHk7",
     "type":"MD",
     "hide_input_from_viewers":true,
     "hide_output_from_viewers":true
    }
   }
  },
  {
   "cell_type":"code",
   "source":[
    "# Square Root Transformation\n",
    "\n",
    "df.ApplicantIncome = np.sqrt(df.ApplicantIncome)\n",
    "df.CoapplicantIncome = np.sqrt(df.CoapplicantIncome)\n",
    "df.LoanAmount = np.sqrt(df.LoanAmount)"
   ],
   "execution_count":852,
   "outputs":[
    {
     "name":"stderr",
     "text":[
      "<ipython-input-852-2090245e4d6e>:3: SettingWithCopyWarning: \n",
      "A value is trying to be set on a copy of a slice from a DataFrame.\n",
      "Try using .loc[row_indexer,col_indexer] = value instead\n",
      "\n",
      "See the caveats in the documentation: https:\/\/pandas.pydata.org\/pandas-docs\/stable\/user_guide\/indexing.html#returning-a-view-versus-a-copy\n",
      "  df.ApplicantIncome = np.sqrt(df.ApplicantIncome)\n",
      "<ipython-input-852-2090245e4d6e>:4: SettingWithCopyWarning: \n",
      "A value is trying to be set on a copy of a slice from a DataFrame.\n",
      "Try using .loc[row_indexer,col_indexer] = value instead\n",
      "\n",
      "See the caveats in the documentation: https:\/\/pandas.pydata.org\/pandas-docs\/stable\/user_guide\/indexing.html#returning-a-view-versus-a-copy\n",
      "  df.CoapplicantIncome = np.sqrt(df.CoapplicantIncome)\n",
      "<ipython-input-852-2090245e4d6e>:5: SettingWithCopyWarning: \n",
      "A value is trying to be set on a copy of a slice from a DataFrame.\n",
      "Try using .loc[row_indexer,col_indexer] = value instead\n",
      "\n",
      "See the caveats in the documentation: https:\/\/pandas.pydata.org\/pandas-docs\/stable\/user_guide\/indexing.html#returning-a-view-versus-a-copy\n",
      "  df.LoanAmount = np.sqrt(df.LoanAmount)\n"
     ],
     "output_type":"stream"
    }
   ],
   "metadata":{
    "datalore":{
     "node_id":"0z0754zhCbObzAPoeTiGCn",
     "type":"CODE",
     "hide_input_from_viewers":true,
     "hide_output_from_viewers":true
    }
   }
  },
  {
   "cell_type":"code",
   "source":[
    "sns.set(style=\"darkgrid\")\n",
    "fig, axs = plt.subplots(2, 2, figsize=(10, 8))\n",
    "\n",
    "sns.histplot(data=df, x=\"ApplicantIncome\", kde=True, ax=axs[0, 0], color='green')\n",
    "sns.histplot(data=df, x=\"CoapplicantIncome\", kde=True, ax=axs[0, 1], color='skyblue')\n",
    "sns.histplot(data=df, x=\"LoanAmount\", kde=True, ax=axs[1, 0], color='orange');"
   ],
   "execution_count":853,
   "outputs":[
    {
     "data":{
      "image\/png":"[encoded data removed]"
     },
     "metadata":{
      "image\/png":{}
     },
     "output_type":"display_data"
    }
   ],
   "metadata":{
    "datalore":{
     "node_id":"i5Ai3c4GtqdPYzPuS1McRA",
     "type":"CODE",
     "hide_input_from_viewers":true,
     "hide_output_from_viewers":true
    }
   }
  },
  {
   "cell_type":"markdown",
   "source":[
    "- Train Model"
   ],
   "attachments":{},
   "metadata":{
    "datalore":{
     "node_id":"deghu0hwQ477s0Nkj7DFgW",
     "type":"MD",
     "hide_input_from_viewers":true,
     "hide_output_from_viewers":true
    }
   }
  },
  {
   "cell_type":"code",
   "source":[
    "X = df.drop(columns=[\"Loan_Status\"], axis=1)\n",
    "y = df[\"Loan_Status\"]"
   ],
   "execution_count":854,
   "outputs":[],
   "metadata":{
    "datalore":{
     "node_id":"4TAH8BcknTKsG5Fj7xTNkM",
     "type":"CODE",
     "hide_input_from_viewers":true,
     "hide_output_from_viewers":true
    }
   }
  },
  {
   "cell_type":"code",
   "source":[
    "X"
   ],
   "execution_count":855,
   "outputs":[
    {
     "data":{
      "text\/html":[
       "<div>\n",
       "<style scoped>\n",
       "    .dataframe tbody tr th:only-of-type {\n",
       "        vertical-align: middle;\n",
       "    }\n",
       "\n",
       "    .dataframe tbody tr th {\n",
       "        vertical-align: top;\n",
       "    }\n",
       "\n",
       "    .dataframe thead th {\n",
       "        text-align: right;\n",
       "    }\n",
       "<\/style>\n",
       "<table border=\"1\" class=\"dataframe\">\n",
       "  <thead>\n",
       "    <tr style=\"text-align: right;\">\n",
       "      <th><\/th>\n",
       "      <th>ApplicantIncome<\/th>\n",
       "      <th>CoapplicantIncome<\/th>\n",
       "      <th>LoanAmount<\/th>\n",
       "      <th>Loan_Amount_Term<\/th>\n",
       "      <th>Credit_History<\/th>\n",
       "      <th>Gender<\/th>\n",
       "      <th>Married<\/th>\n",
       "      <th>Dependents_0<\/th>\n",
       "      <th>Dependents_1<\/th>\n",
       "      <th>Dependents_2<\/th>\n",
       "      <th>Dependents_3+<\/th>\n",
       "      <th>Education<\/th>\n",
       "      <th>Self_Employed<\/th>\n",
       "      <th>Property_Area_Rural<\/th>\n",
       "      <th>Property_Area_Semiurban<\/th>\n",
       "      <th>Property_Area_Urban<\/th>\n",
       "    <\/tr>\n",
       "  <\/thead>\n",
       "  <tbody>\n",
       "    <tr>\n",
       "      <th>0<\/th>\n",
       "      <td>76.478755<\/td>\n",
       "      <td>0.000000<\/td>\n",
       "      <td>12.100089<\/td>\n",
       "      <td>360.0<\/td>\n",
       "      <td>1.0<\/td>\n",
       "      <td>1<\/td>\n",
       "      <td>0<\/td>\n",
       "      <td>1<\/td>\n",
       "      <td>0<\/td>\n",
       "      <td>0<\/td>\n",
       "      <td>0<\/td>\n",
       "      <td>1<\/td>\n",
       "      <td>0<\/td>\n",
       "      <td>0<\/td>\n",
       "      <td>0<\/td>\n",
       "      <td>1<\/td>\n",
       "    <\/tr>\n",
       "    <tr>\n",
       "      <th>4<\/th>\n",
       "      <td>77.459667<\/td>\n",
       "      <td>0.000000<\/td>\n",
       "      <td>11.874342<\/td>\n",
       "      <td>360.0<\/td>\n",
       "      <td>1.0<\/td>\n",
       "      <td>1<\/td>\n",
       "      <td>0<\/td>\n",
       "      <td>1<\/td>\n",
       "      <td>0<\/td>\n",
       "      <td>0<\/td>\n",
       "      <td>0<\/td>\n",
       "      <td>1<\/td>\n",
       "      <td>0<\/td>\n",
       "      <td>0<\/td>\n",
       "      <td>0<\/td>\n",
       "      <td>1<\/td>\n",
       "    <\/tr>\n",
       "    <tr>\n",
       "      <th>13<\/th>\n",
       "      <td>43.046487<\/td>\n",
       "      <td>53.291650<\/td>\n",
       "      <td>10.677078<\/td>\n",
       "      <td>360.0<\/td>\n",
       "      <td>1.0<\/td>\n",
       "      <td>1<\/td>\n",
       "      <td>0<\/td>\n",
       "      <td>1<\/td>\n",
       "      <td>0<\/td>\n",
       "      <td>0<\/td>\n",
       "      <td>0<\/td>\n",
       "      <td>1<\/td>\n",
       "      <td>0<\/td>\n",
       "      <td>1<\/td>\n",
       "      <td>0<\/td>\n",
       "      <td>0<\/td>\n",
       "    <\/tr>\n",
       "    <tr>\n",
       "      <th>15<\/th>\n",
       "      <td>70.356236<\/td>\n",
       "      <td>0.000000<\/td>\n",
       "      <td>11.180340<\/td>\n",
       "      <td>360.0<\/td>\n",
       "      <td>1.0<\/td>\n",
       "      <td>1<\/td>\n",
       "      <td>0<\/td>\n",
       "      <td>1<\/td>\n",
       "      <td>0<\/td>\n",
       "      <td>0<\/td>\n",
       "      <td>0<\/td>\n",
       "      <td>1<\/td>\n",
       "      <td>0<\/td>\n",
       "      <td>0<\/td>\n",
       "      <td>0<\/td>\n",
       "      <td>1<\/td>\n",
       "    <\/tr>\n",
       "    <tr>\n",
       "      <th>19<\/th>\n",
       "      <td>50.990195<\/td>\n",
       "      <td>59.160798<\/td>\n",
       "      <td>10.723805<\/td>\n",
       "      <td>360.0<\/td>\n",
       "      <td>1.0<\/td>\n",
       "      <td>1<\/td>\n",
       "      <td>1<\/td>\n",
       "      <td>1<\/td>\n",
       "      <td>0<\/td>\n",
       "      <td>0<\/td>\n",
       "      <td>0<\/td>\n",
       "      <td>1<\/td>\n",
       "      <td>0<\/td>\n",
       "      <td>0<\/td>\n",
       "      <td>0<\/td>\n",
       "      <td>1<\/td>\n",
       "    <\/tr>\n",
       "    <tr>\n",
       "      <th>...<\/th>\n",
       "      <td>...<\/td>\n",
       "      <td>...<\/td>\n",
       "      <td>...<\/td>\n",
       "      <td>...<\/td>\n",
       "      <td>...<\/td>\n",
       "      <td>...<\/td>\n",
       "      <td>...<\/td>\n",
       "      <td>...<\/td>\n",
       "      <td>...<\/td>\n",
       "      <td>...<\/td>\n",
       "      <td>...<\/td>\n",
       "      <td>...<\/td>\n",
       "      <td>...<\/td>\n",
       "      <td>...<\/td>\n",
       "      <td>...<\/td>\n",
       "      <td>...<\/td>\n",
       "    <\/tr>\n",
       "    <tr>\n",
       "      <th>579<\/th>\n",
       "      <td>56.409219<\/td>\n",
       "      <td>54.009258<\/td>\n",
       "      <td>12.688578<\/td>\n",
       "      <td>360.0<\/td>\n",
       "      <td>1.0<\/td>\n",
       "      <td>1<\/td>\n",
       "      <td>0<\/td>\n",
       "      <td>1<\/td>\n",
       "      <td>0<\/td>\n",
       "      <td>0<\/td>\n",
       "      <td>0<\/td>\n",
       "      <td>1<\/td>\n",
       "      <td>0<\/td>\n",
       "      <td>0<\/td>\n",
       "      <td>0<\/td>\n",
       "      <td>1<\/td>\n",
       "    <\/tr>\n",
       "    <tr>\n",
       "      <th>586<\/th>\n",
       "      <td>47.927028<\/td>\n",
       "      <td>39.012818<\/td>\n",
       "      <td>10.198039<\/td>\n",
       "      <td>360.0<\/td>\n",
       "      <td>1.0<\/td>\n",
       "      <td>1<\/td>\n",
       "      <td>1<\/td>\n",
       "      <td>1<\/td>\n",
       "      <td>0<\/td>\n",
       "      <td>0<\/td>\n",
       "      <td>0<\/td>\n",
       "      <td>1<\/td>\n",
       "      <td>0<\/td>\n",
       "      <td>0<\/td>\n",
       "      <td>0<\/td>\n",
       "      <td>1<\/td>\n",
       "    <\/tr>\n",
       "    <tr>\n",
       "      <th>588<\/th>\n",
       "      <td>68.920244<\/td>\n",
       "      <td>0.000000<\/td>\n",
       "      <td>9.695360<\/td>\n",
       "      <td>360.0<\/td>\n",
       "      <td>1.0<\/td>\n",
       "      <td>1<\/td>\n",
       "      <td>0<\/td>\n",
       "      <td>1<\/td>\n",
       "      <td>0<\/td>\n",
       "      <td>0<\/td>\n",
       "      <td>0<\/td>\n",
       "      <td>1<\/td>\n",
       "      <td>0<\/td>\n",
       "      <td>0<\/td>\n",
       "      <td>1<\/td>\n",
       "      <td>0<\/td>\n",
       "    <\/tr>\n",
       "    <tr>\n",
       "      <th>603<\/th>\n",
       "      <td>60.630026<\/td>\n",
       "      <td>65.582010<\/td>\n",
       "      <td>13.114877<\/td>\n",
       "      <td>360.0<\/td>\n",
       "      <td>1.0<\/td>\n",
       "      <td>1<\/td>\n",
       "      <td>0<\/td>\n",
       "      <td>1<\/td>\n",
       "      <td>0<\/td>\n",
       "      <td>0<\/td>\n",
       "      <td>0<\/td>\n",
       "      <td>1<\/td>\n",
       "      <td>0<\/td>\n",
       "      <td>1<\/td>\n",
       "      <td>0<\/td>\n",
       "      <td>0<\/td>\n",
       "    <\/tr>\n",
       "    <tr>\n",
       "      <th>608<\/th>\n",
       "      <td>56.850682<\/td>\n",
       "      <td>44.158804<\/td>\n",
       "      <td>10.392305<\/td>\n",
       "      <td>360.0<\/td>\n",
       "      <td>1.0<\/td>\n",
       "      <td>1<\/td>\n",
       "      <td>1<\/td>\n",
       "      <td>1<\/td>\n",
       "      <td>0<\/td>\n",
       "      <td>0<\/td>\n",
       "      <td>0<\/td>\n",
       "      <td>1<\/td>\n",
       "      <td>0<\/td>\n",
       "      <td>1<\/td>\n",
       "      <td>0<\/td>\n",
       "      <td>0<\/td>\n",
       "    <\/tr>\n",
       "  <\/tbody>\n",
       "<\/table>\n",
       "<p>132 rows × 16 columns<\/p>\n",
       "<\/div>"
      ]
     },
     "metadata":{},
     "output_type":"display_data"
    }
   ],
   "metadata":{
    "datalore":{
     "node_id":"6cnLo77nxLz54D6Fru0t8z",
     "type":"CODE",
     "hide_input_from_viewers":true,
     "hide_output_from_viewers":true
    }
   }
  },
  {
   "cell_type":"code",
   "source":[
    "y"
   ],
   "execution_count":856,
   "outputs":[
    {
     "data":{
      "text\/html":[
       "<pre>0      1\n",
       "4      1\n",
       "13     0\n",
       "15     1\n",
       "19     1\n",
       "      ..\n",
       "579    1\n",
       "586    1\n",
       "588    1\n",
       "603    1\n",
       "608    1\n",
       "Name: Loan_Status, Length: 132, dtype: uint8<\/pre>"
      ]
     },
     "metadata":{},
     "output_type":"display_data"
    }
   ],
   "metadata":{
    "datalore":{
     "node_id":"3Ae4a5I5uukpqLZCUc1NJa",
     "type":"CODE",
     "hide_input_from_viewers":true,
     "hide_output_from_viewers":true
    }
   }
  },
  {
   "cell_type":"code",
   "source":[
    "X.shape"
   ],
   "execution_count":857,
   "outputs":[
    {
     "data":{
      "text\/plain":[
       "(132, 16)"
      ]
     },
     "metadata":{},
     "output_type":"display_data"
    }
   ],
   "metadata":{
    "datalore":{
     "node_id":"LDIDuh0fOdcm7jT6TlWeUc",
     "type":"CODE",
     "hide_input_from_viewers":true,
     "hide_output_from_viewers":true
    }
   }
  },
  {
   "cell_type":"code",
   "source":[
    "print(y.value_counts())"
   ],
   "execution_count":858,
   "outputs":[
    {
     "name":"stdout",
     "text":[
      "1    112\n",
      "0     20\n",
      "Name: Loan_Status, dtype: int64\n"
     ],
     "output_type":"stream"
    }
   ],
   "metadata":{
    "datalore":{
     "node_id":"Av0KOHciKQv4j79Wnp1zoJ",
     "type":"CODE",
     "hide_input_from_viewers":true,
     "hide_output_from_viewers":true
    }
   }
  },
  {
   "cell_type":"code",
   "source":[
    "X, y = SMOTE().fit_resample(X, y)\n",
    "\n",
    "sns.set_theme(style=\"darkgrid\")\n",
    "sns.countplot(y=y, data=df, palette=\"coolwarm\")\n",
    "plt.ylabel('Loan Status')\n",
    "plt.xlabel('Total')\n",
    "plt.show()"
   ],
   "execution_count":859,
   "outputs":[
    {
     "name":"stderr",
     "text":[
      "<ipython-input-859-59a7f55f6d13>:4: FutureWarning: \n",
      "\n",
      "Passing `palette` without assigning `hue` is deprecated and will be removed in v0.14.0. Assign the `y` variable to `hue` and set `legend=False` for the same effect.\n",
      "\n",
      "  sns.countplot(y=y, data=df, palette=\"coolwarm\")\n"
     ],
     "output_type":"stream"
    },
    {
     "data":{
      "image\/png":"[encoded data removed]"
     },
     "metadata":{
      "image\/png":{}
     },
     "output_type":"display_data"
    }
   ],
   "metadata":{
    "datalore":{
     "node_id":"YpIvdRv6wufDM2jlzbbjUY",
     "type":"CODE",
     "hide_input_from_viewers":true,
     "hide_output_from_viewers":true
    }
   }
  },
  {
   "cell_type":"code",
   "source":[
    "X.shape"
   ],
   "execution_count":860,
   "outputs":[
    {
     "data":{
      "text\/plain":[
       "(224, 16)"
      ]
     },
     "metadata":{},
     "output_type":"display_data"
    }
   ],
   "metadata":{
    "datalore":{
     "node_id":"M78oVdbHbMVjrURDh8cS93",
     "type":"CODE",
     "hide_input_from_viewers":true,
     "hide_output_from_viewers":true
    }
   }
  },
  {
   "cell_type":"code",
   "source":[
    "print(y.value_counts())"
   ],
   "execution_count":861,
   "outputs":[
    {
     "name":"stdout",
     "text":[
      "1    112\n",
      "0    112\n",
      "Name: Loan_Status, dtype: int64\n"
     ],
     "output_type":"stream"
    }
   ],
   "metadata":{
    "datalore":{
     "node_id":"DsExj6q2LFPLl23QXCmj4F",
     "type":"CODE",
     "hide_input_from_viewers":true,
     "hide_output_from_viewers":true
    }
   }
  },
  {
   "cell_type":"code",
   "source":[
    "X = MinMaxScaler().fit_transform(X)"
   ],
   "execution_count":862,
   "outputs":[],
   "metadata":{
    "datalore":{
     "node_id":"dlIGDAY1Ilftbqlo3HyI1a",
     "type":"CODE",
     "hide_input_from_viewers":true,
     "hide_output_from_viewers":true
    }
   }
  },
  {
   "cell_type":"code",
   "source":[
    "X_train, X_test, y_train, y_test = train_test_split(X, y, test_size = 0.2, random_state = 42)"
   ],
   "execution_count":863,
   "outputs":[],
   "metadata":{
    "datalore":{
     "node_id":"vI4PW7c7Wrd2fZDvWkHPvp",
     "type":"CODE",
     "hide_input_from_viewers":true,
     "hide_output_from_viewers":true
    }
   }
  },
  {
   "cell_type":"code",
   "source":[
    "print(y.value_counts())"
   ],
   "execution_count":864,
   "outputs":[
    {
     "name":"stdout",
     "text":[
      "1    112\n",
      "0    112\n",
      "Name: Loan_Status, dtype: int64\n"
     ],
     "output_type":"stream"
    }
   ],
   "metadata":{
    "datalore":{
     "node_id":"0DHgewVnWTS6MLn6kSufHx",
     "type":"CODE",
     "hide_input_from_viewers":true,
     "hide_output_from_viewers":true
    }
   }
  },
  {
   "cell_type":"markdown",
   "source":[
    "1. LogisticRegression"
   ],
   "attachments":{},
   "metadata":{
    "datalore":{
     "node_id":"WF7BxCM5UiAs76xG39l7Vq",
     "type":"MD",
     "hide_input_from_viewers":true,
     "hide_output_from_viewers":true
    }
   }
  },
  {
   "cell_type":"code",
   "source":[
    "LRclassifier = LogisticRegression(solver='saga', max_iter=500, random_state=0)\n",
    "LRclassifier.fit(X_train, y_train)\n",
    "\n",
    "y_pred = LRclassifier.predict(X_test)\n",
    "\n",
    "print(classification_report(y_test, y_pred))\n",
    "print(confusion_matrix(y_test, y_pred))\n",
    "\n",
    "from sklearn.metrics import accuracy_score\n",
    "LRAcc = accuracy_score(y_pred,y_test)\n",
    "print('LR accuracy: {:.2f}%'.format(LRAcc*100))\n",
    "LRclassifier.score(X_train,y_train)"
   ],
   "execution_count":865,
   "outputs":[
    {
     "name":"stdout",
     "text":[
      "              precision    recall  f1-score   support\n",
      "\n",
      "           0       1.00      0.52      0.68        27\n",
      "           1       0.58      1.00      0.73        18\n",
      "\n",
      "    accuracy                           0.71        45\n",
      "   macro avg       0.79      0.76      0.71        45\n",
      "weighted avg       0.83      0.71      0.70        45\n",
      "\n",
      "[[14 13]\n",
      " [ 0 18]]\n",
      "LR accuracy: 71.11%\n"
     ],
     "output_type":"stream"
    },
    {
     "data":{
      "text\/plain":[
       "0.7318435754189944"
      ]
     },
     "metadata":{},
     "output_type":"display_data"
    }
   ],
   "metadata":{
    "datalore":{
     "node_id":"pvhsP5vTDsdULWjof1kxNp",
     "type":"CODE",
     "hide_input_from_viewers":true,
     "hide_output_from_viewers":true
    }
   }
  },
  {
   "cell_type":"markdown",
   "source":[
    "2. K-Nearest Neighbour (KNN)"
   ],
   "attachments":{},
   "metadata":{
    "datalore":{
     "node_id":"CyQdhEJvF52hZbQ1XfNO8o",
     "type":"MD",
     "hide_input_from_viewers":true,
     "hide_output_from_viewers":true
    }
   }
  },
  {
   "cell_type":"code",
   "source":[
    "scoreListknn = []\n",
    "for i in range(1,21):\n",
    "    KNclassifier = KNeighborsClassifier(n_neighbors = i)\n",
    "    KNclassifier.fit(X_train, y_train)\n",
    "    scoreListknn.append(KNclassifier.score(X_test, y_test))\n",
    "    \n",
    "plt.plot(range(1,21), scoreListknn)\n",
    "plt.xticks(np.arange(1,21,1))\n",
    "plt.xlabel(\"K value\")\n",
    "plt.ylabel(\"Score\")\n",
    "plt.show()\n",
    "KNAcc = max(scoreListknn)\n",
    "print(\"KNN best accuracy: {:.2f}%\".format(KNAcc*100))"
   ],
   "execution_count":866,
   "outputs":[
    {
     "name":"stdout",
     "text":[
      "KNN best accuracy: 91.11%\n"
     ],
     "output_type":"stream"
    },
    {
     "data":{
      "image\/png":"[encoded data removed]"
     },
     "metadata":{
      "image\/png":{}
     },
     "output_type":"display_data"
    }
   ],
   "metadata":{
    "datalore":{
     "node_id":"OHmlFkhMJG2gsf3F29VZ40",
     "type":"CODE",
     "hide_input_from_viewers":true,
     "hide_output_from_viewers":true
    }
   }
  },
  {
   "cell_type":"markdown",
   "source":[
    "3. Support Vector Machine (SVM)"
   ],
   "attachments":{},
   "metadata":{
    "datalore":{
     "node_id":"K494BDgrL1WLlgTjui4ciF",
     "type":"MD",
     "hide_input_from_viewers":true,
     "hide_output_from_viewers":true
    }
   }
  },
  {
   "cell_type":"code",
   "source":[
    "SVCclassifier = SVC(kernel='rbf', max_iter=500)\n",
    "SVCclassifier.fit(X_train, y_train)\n",
    "\n",
    "y_pred = SVCclassifier.predict(X_test)\n",
    "\n",
    "print(classification_report(y_test, y_pred))\n",
    "print(confusion_matrix(y_test, y_pred))\n",
    "\n",
    "from sklearn.metrics import accuracy_score\n",
    "SVCAcc = accuracy_score(y_pred,y_test)\n",
    "print('SVC accuracy: {:.2f}%'.format(SVCAcc*100))"
   ],
   "execution_count":867,
   "outputs":[
    {
     "name":"stdout",
     "text":[
      "              precision    recall  f1-score   support\n",
      "\n",
      "           0       0.93      0.52      0.67        27\n",
      "           1       0.57      0.94      0.71        18\n",
      "\n",
      "    accuracy                           0.69        45\n",
      "   macro avg       0.75      0.73      0.69        45\n",
      "weighted avg       0.79      0.69      0.68        45\n",
      "\n",
      "[[14 13]\n",
      " [ 1 17]]\n",
      "SVC accuracy: 68.89%\n"
     ],
     "output_type":"stream"
    }
   ],
   "metadata":{
    "datalore":{
     "node_id":"2om4K3QjrueAW4TVs5gRIP",
     "type":"CODE",
     "hide_input_from_viewers":true,
     "hide_output_from_viewers":true
    }
   }
  },
  {
   "cell_type":"markdown",
   "source":[
    "4. Naive Bayes"
   ],
   "attachments":{},
   "metadata":{
    "datalore":{
     "node_id":"67tbZA87lNUVjmMxCVYhRj",
     "type":"MD",
     "hide_input_from_viewers":true,
     "hide_output_from_viewers":true
    }
   }
  },
  {
   "cell_type":"code",
   "source":[
    "# Categorical NB\n",
    "NBclassifier1 = CategoricalNB()\n",
    "NBclassifier1.fit(X_train, y_train)\n",
    "\n",
    "y_pred = NBclassifier1.predict(X_test)\n",
    "\n",
    "print(classification_report(y_test, y_pred))\n",
    "print(confusion_matrix(y_test, y_pred))\n",
    "\n",
    "from sklearn.metrics import accuracy_score\n",
    "NBAcc1 = accuracy_score(y_pred,y_test)\n",
    "print('Categorical Naive Bayes accuracy: {:.2f}%'.format(NBAcc1*100))"
   ],
   "execution_count":868,
   "outputs":[
    {
     "name":"stdout",
     "text":[
      "              precision    recall  f1-score   support\n",
      "\n",
      "           0       1.00      0.78      0.88        27\n",
      "           1       0.75      1.00      0.86        18\n",
      "\n",
      "    accuracy                           0.87        45\n",
      "   macro avg       0.88      0.89      0.87        45\n",
      "weighted avg       0.90      0.87      0.87        45\n",
      "\n",
      "[[21  6]\n",
      " [ 0 18]]\n",
      "Categorical Naive Bayes accuracy: 86.67%\n"
     ],
     "output_type":"stream"
    }
   ],
   "metadata":{
    "datalore":{
     "node_id":"a7hCVZXB4LSJ1IYXjsld0k",
     "type":"CODE",
     "hide_input_from_viewers":true,
     "hide_output_from_viewers":true
    }
   }
  },
  {
   "cell_type":"code",
   "source":[
    "# Gaussian NB\n",
    "NBclassifier2 = GaussianNB()\n",
    "NBclassifier2.fit(X_train, y_train)\n",
    "\n",
    "y_pred = NBclassifier2.predict(X_test)\n",
    "\n",
    "print(classification_report(y_test, y_pred))\n",
    "print(confusion_matrix(y_test, y_pred))\n",
    "\n",
    "from sklearn.metrics import accuracy_score\n",
    "NBAcc2 = accuracy_score(y_pred,y_test)\n",
    "print('Gaussian Naive Bayes accuracy: {:.2f}%'.format(NBAcc2*100))"
   ],
   "execution_count":869,
   "outputs":[
    {
     "name":"stdout",
     "text":[
      "              precision    recall  f1-score   support\n",
      "\n",
      "           0       0.90      0.67      0.77        27\n",
      "           1       0.64      0.89      0.74        18\n",
      "\n",
      "    accuracy                           0.76        45\n",
      "   macro avg       0.77      0.78      0.76        45\n",
      "weighted avg       0.80      0.76      0.76        45\n",
      "\n",
      "[[18  9]\n",
      " [ 2 16]]\n",
      "Gaussian Naive Bayes accuracy: 75.56%\n"
     ],
     "output_type":"stream"
    }
   ],
   "metadata":{
    "datalore":{
     "node_id":"2AtLm6YDw1niJtsdJpcX8S",
     "type":"CODE",
     "hide_input_from_viewers":true,
     "hide_output_from_viewers":true
    }
   }
  },
  {
   "cell_type":"markdown",
   "source":[
    "5. Decision Tree"
   ],
   "attachments":{},
   "metadata":{
    "datalore":{
     "node_id":"QnyjiVoJCPo8ZnEcwrZa8z",
     "type":"MD",
     "hide_input_from_viewers":true,
     "hide_output_from_viewers":true
    }
   }
  },
  {
   "cell_type":"code",
   "source":[
    "scoreListDT = []\n",
    "for i in range(2,20):\n",
    "    DTclassifier = DecisionTreeClassifier(max_leaf_nodes=i)\n",
    "    DTclassifier.fit(X_train, y_train)\n",
    "    scoreListDT.append(DTclassifier.score(X_test, y_test))\n",
    "    \n",
    "plt.plot(range(2,20), scoreListDT)\n",
    "plt.xticks(np.arange(2,20,1))\n",
    "plt.xlabel(\"Leaf\")\n",
    "plt.ylabel(\"Score\")\n",
    "plt.show()\n",
    "DTAcc = max(scoreListDT)\n",
    "print(\"Decision Tree Accuracy: {:.2f}%\".format(DTAcc*100))"
   ],
   "execution_count":870,
   "outputs":[
    {
     "name":"stdout",
     "text":[
      "Decision Tree Accuracy: 77.78%\n"
     ],
     "output_type":"stream"
    },
    {
     "data":{
      "image\/png":"[encoded data removed]"
     },
     "metadata":{
      "image\/png":{}
     },
     "output_type":"display_data"
    }
   ],
   "metadata":{
    "datalore":{
     "node_id":"pVG5bIB7W6dCQjUE2QR4dI",
     "type":"CODE",
     "hide_input_from_viewers":true,
     "hide_output_from_viewers":true
    }
   }
  },
  {
   "cell_type":"markdown",
   "source":[
    "6. Random Forest"
   ],
   "attachments":{},
   "metadata":{
    "datalore":{
     "node_id":"1WI6bAR8bOIf0xcKeaPFEW",
     "type":"MD",
     "hide_input_from_viewers":true,
     "hide_output_from_viewers":true
    }
   }
  },
  {
   "cell_type":"code",
   "source":[
    "scoreListRF = []\n",
    "for i in range(2,25):\n",
    "    RFclassifier = RandomForestClassifier(n_estimators = 1000, random_state = 0, max_leaf_nodes=i)\n",
    "    RFclassifier.fit(X_train, y_train)\n",
    "    scoreListRF.append(RFclassifier.score(X_test, y_test))\n",
    "    \n",
    "plt.plot(range(2,25), scoreListRF)\n",
    "plt.xticks(np.arange(2,25,1))\n",
    "plt.xlabel(\"RF Value\")\n",
    "plt.ylabel(\"Score\")\n",
    "plt.show()\n",
    "RFAcc = max(scoreListRF)\n",
    "print(\"Random Forest Accuracy:  {:.2f}%\".format(RFAcc*100))"
   ],
   "execution_count":871,
   "outputs":[
    {
     "name":"stdout",
     "text":[
      "Random Forest Accuracy:  91.11%\n"
     ],
     "output_type":"stream"
    },
    {
     "data":{
      "image\/png":"[encoded data removed]"
     },
     "metadata":{
      "image\/png":{}
     },
     "output_type":"display_data"
    }
   ],
   "metadata":{
    "datalore":{
     "node_id":"Lk2VD1Rxe80refMJgtHKm7",
     "type":"CODE",
     "hide_input_from_viewers":true,
     "hide_output_from_viewers":true
    }
   }
  },
  {
   "cell_type":"markdown",
   "source":[
    "7. Gradient Boosting"
   ],
   "attachments":{},
   "metadata":{
    "datalore":{
     "node_id":"a9EAjlYVXpmVe5xGJ69c5u",
     "type":"MD",
     "hide_input_from_viewers":true,
     "hide_output_from_viewers":true
    }
   }
  },
  {
   "cell_type":"code",
   "source":[
    "paramsGB={'n_estimators':[100,200,300,400,500],\n",
    "      'max_depth':[1,2,3,4,5],\n",
    "      'subsample':[0.5,1],\n",
    "      'max_leaf_nodes':[2,5,10,20,30,40,50]}"
   ],
   "execution_count":872,
   "outputs":[],
   "metadata":{
    "datalore":{
     "node_id":"rmut7IjJt4ABr2NxhDy05O",
     "type":"CODE",
     "hide_input_from_viewers":true,
     "hide_output_from_viewers":true
    }
   }
  },
  {
   "cell_type":"code",
   "source":[
    "GB = RandomizedSearchCV(GradientBoostingClassifier(), paramsGB, cv=5)\n",
    "GB.fit(X_train, y_train)"
   ],
   "execution_count":873,
   "outputs":[
    {
     "data":{
      "text\/html":[
       "<style>#sk-container-id-17 {color: black;}#sk-container-id-17 pre{padding: 0;}#sk-container-id-17 div.sk-toggleable {background-color: white;}#sk-container-id-17 label.sk-toggleable__label {cursor: pointer;display: block;width: 100%;margin-bottom: 0;padding: 0.3em;box-sizing: border-box;text-align: center;}#sk-container-id-17 label.sk-toggleable__label-arrow:before {content: \"▸\";float: left;margin-right: 0.25em;color: #696969;}#sk-container-id-17 label.sk-toggleable__label-arrow:hover:before {color: black;}#sk-container-id-17 div.sk-estimator:hover label.sk-toggleable__label-arrow:before {color: black;}#sk-container-id-17 div.sk-toggleable__content {max-height: 0;max-width: 0;overflow: hidden;text-align: left;background-color: #f0f8ff;}#sk-container-id-17 div.sk-toggleable__content pre {margin: 0.2em;color: black;border-radius: 0.25em;background-color: #f0f8ff;}#sk-container-id-17 input.sk-toggleable__control:checked~div.sk-toggleable__content {max-height: 200px;max-width: 100%;overflow: auto;}#sk-container-id-17 input.sk-toggleable__control:checked~label.sk-toggleable__label-arrow:before {content: \"▾\";}#sk-container-id-17 div.sk-estimator input.sk-toggleable__control:checked~label.sk-toggleable__label {background-color: #d4ebff;}#sk-container-id-17 div.sk-label input.sk-toggleable__control:checked~label.sk-toggleable__label {background-color: #d4ebff;}#sk-container-id-17 input.sk-hidden--visually {border: 0;clip: rect(1px 1px 1px 1px);clip: rect(1px, 1px, 1px, 1px);height: 1px;margin: -1px;overflow: hidden;padding: 0;position: absolute;width: 1px;}#sk-container-id-17 div.sk-estimator {font-family: monospace;background-color: #f0f8ff;border: 1px dotted black;border-radius: 0.25em;box-sizing: border-box;margin-bottom: 0.5em;}#sk-container-id-17 div.sk-estimator:hover {background-color: #d4ebff;}#sk-container-id-17 div.sk-parallel-item::after {content: \"\";width: 100%;border-bottom: 1px solid gray;flex-grow: 1;}#sk-container-id-17 div.sk-label:hover label.sk-toggleable__label {background-color: #d4ebff;}#sk-container-id-17 div.sk-serial::before {content: \"\";position: absolute;border-left: 1px solid gray;box-sizing: border-box;top: 0;bottom: 0;left: 50%;z-index: 0;}#sk-container-id-17 div.sk-serial {display: flex;flex-direction: column;align-items: center;background-color: white;padding-right: 0.2em;padding-left: 0.2em;position: relative;}#sk-container-id-17 div.sk-item {position: relative;z-index: 1;}#sk-container-id-17 div.sk-parallel {display: flex;align-items: stretch;justify-content: center;background-color: white;position: relative;}#sk-container-id-17 div.sk-item::before, #sk-container-id-17 div.sk-parallel-item::before {content: \"\";position: absolute;border-left: 1px solid gray;box-sizing: border-box;top: 0;bottom: 0;left: 50%;z-index: -1;}#sk-container-id-17 div.sk-parallel-item {display: flex;flex-direction: column;z-index: 1;position: relative;background-color: white;}#sk-container-id-17 div.sk-parallel-item:first-child::after {align-self: flex-end;width: 50%;}#sk-container-id-17 div.sk-parallel-item:last-child::after {align-self: flex-start;width: 50%;}#sk-container-id-17 div.sk-parallel-item:only-child::after {width: 0;}#sk-container-id-17 div.sk-dashed-wrapped {border: 1px dashed gray;margin: 0 0.4em 0.5em 0.4em;box-sizing: border-box;padding-bottom: 0.4em;background-color: white;}#sk-container-id-17 div.sk-label label {font-family: monospace;font-weight: bold;display: inline-block;line-height: 1.2em;}#sk-container-id-17 div.sk-label-container {text-align: center;}#sk-container-id-17 div.sk-container {\/* jupyter's `normalize.less` sets `[hidden] { display: none; }` but bootstrap.min.css set `[hidden] { display: none !important; }` so we also need the `!important` here to be able to override the default hidden behavior on the sphinx rendered scikit-learn.org. See: https:\/\/github.com\/scikit-learn\/scikit-learn\/issues\/21755 *\/display: inline-block !important;position: relative;}#sk-container-id-17 div.sk-text-repr-fallback {display: none;}<\/style><div id=\"sk-container-id-17\" class=\"sk-top-container\"><div class=\"sk-text-repr-fallback\"><pre>RandomizedSearchCV(cv=5, estimator=GradientBoostingClassifier(),\n",
       "                   param_distributions={&#x27;max_depth&#x27;: [1, 2, 3, 4, 5],\n",
       "                                        &#x27;max_leaf_nodes&#x27;: [2, 5, 10, 20, 30, 40,\n",
       "                                                           50],\n",
       "                                        &#x27;n_estimators&#x27;: [100, 200, 300, 400,\n",
       "                                                         500],\n",
       "                                        &#x27;subsample&#x27;: [0.5, 1]})<\/pre><b>In a Jupyter environment, please rerun this cell to show the HTML representation or trust the notebook. <br \/>On GitHub, the HTML representation is unable to render, please try loading this page with nbviewer.org.<\/b><\/div><div class=\"sk-container\" hidden><div class=\"sk-item sk-dashed-wrapped\"><div class=\"sk-label-container\"><div class=\"sk-label sk-toggleable\"><input class=\"sk-toggleable__control sk-hidden--visually\" id=\"sk-estimator-id-49\" type=\"checkbox\" ><label for=\"sk-estimator-id-49\" class=\"sk-toggleable__label sk-toggleable__label-arrow\">RandomizedSearchCV<\/label><div class=\"sk-toggleable__content\"><pre>RandomizedSearchCV(cv=5, estimator=GradientBoostingClassifier(),\n",
       "                   param_distributions={&#x27;max_depth&#x27;: [1, 2, 3, 4, 5],\n",
       "                                        &#x27;max_leaf_nodes&#x27;: [2, 5, 10, 20, 30, 40,\n",
       "                                                           50],\n",
       "                                        &#x27;n_estimators&#x27;: [100, 200, 300, 400,\n",
       "                                                         500],\n",
       "                                        &#x27;subsample&#x27;: [0.5, 1]})<\/pre><\/div><\/div><\/div><div class=\"sk-parallel\"><div class=\"sk-parallel-item\"><div class=\"sk-item\"><div class=\"sk-label-container\"><div class=\"sk-label sk-toggleable\"><input class=\"sk-toggleable__control sk-hidden--visually\" id=\"sk-estimator-id-50\" type=\"checkbox\" ><label for=\"sk-estimator-id-50\" class=\"sk-toggleable__label sk-toggleable__label-arrow\">estimator: GradientBoostingClassifier<\/label><div class=\"sk-toggleable__content\"><pre>GradientBoostingClassifier()<\/pre><\/div><\/div><\/div><div class=\"sk-serial\"><div class=\"sk-item\"><div class=\"sk-estimator sk-toggleable\"><input class=\"sk-toggleable__control sk-hidden--visually\" id=\"sk-estimator-id-51\" type=\"checkbox\" ><label for=\"sk-estimator-id-51\" class=\"sk-toggleable__label sk-toggleable__label-arrow\">GradientBoostingClassifier<\/label><div class=\"sk-toggleable__content\"><pre>GradientBoostingClassifier()<\/pre><\/div><\/div><\/div><\/div><\/div><\/div><\/div><\/div><\/div><\/div>"
      ]
     },
     "metadata":{},
     "output_type":"display_data"
    }
   ],
   "metadata":{
    "datalore":{
     "node_id":"ZA8PekaDlDyTW4pW2Lszez",
     "type":"CODE",
     "hide_input_from_viewers":true,
     "hide_output_from_viewers":true
    }
   }
  },
  {
   "cell_type":"code",
   "source":[
    "print(GB.best_estimator_)\n",
    "print(GB.best_score_)\n",
    "print(GB.best_params_)\n",
    "print(GB.best_index_)"
   ],
   "execution_count":874,
   "outputs":[
    {
     "name":"stdout",
     "text":[
      "GradientBoostingClassifier(max_depth=5, max_leaf_nodes=50, n_estimators=500,\n",
      "                           subsample=1)\n",
      "0.8214285714285714\n",
      "{'subsample': 1, 'n_estimators': 500, 'max_leaf_nodes': 50, 'max_depth': 5}\n",
      "6\n"
     ],
     "output_type":"stream"
    }
   ],
   "metadata":{
    "datalore":{
     "node_id":"t86NJVziXPtOCfgAe61Ozq",
     "type":"CODE",
     "hide_input_from_viewers":true,
     "hide_output_from_viewers":true
    }
   }
  },
  {
   "cell_type":"code",
   "source":[
    "GBclassifier = GradientBoostingClassifier(subsample=0.5, n_estimators=400, max_depth=5, max_leaf_nodes=50)\n",
    "GBclassifier.fit(X_train, y_train)\n",
    "\n",
    "y_pred = GBclassifier.predict(X_test)\n",
    "\n",
    "print(classification_report(y_test, y_pred))\n",
    "print(confusion_matrix(y_test, y_pred))\n",
    "\n",
    "from sklearn.metrics import accuracy_score\n",
    "GBAcc = accuracy_score(y_pred,y_test)\n",
    "print('Gradient Boosting accuracy: {:.2f}%'.format(GBAcc*100))"
   ],
   "execution_count":875,
   "outputs":[
    {
     "name":"stdout",
     "text":[
      "              precision    recall  f1-score   support\n",
      "\n",
      "           0       0.78      0.93      0.85        27\n",
      "           1       0.85      0.61      0.71        18\n",
      "\n",
      "    accuracy                           0.80        45\n",
      "   macro avg       0.81      0.77      0.78        45\n",
      "weighted avg       0.81      0.80      0.79        45\n",
      "\n",
      "[[25  2]\n",
      " [ 7 11]]\n",
      "Gradient Boosting accuracy: 80.00%\n"
     ],
     "output_type":"stream"
    }
   ],
   "metadata":{
    "datalore":{
     "node_id":"F7fmH7478KGxhjZL6APMQC",
     "type":"CODE",
     "hide_input_from_viewers":true,
     "hide_output_from_viewers":true
    }
   }
  },
  {
   "cell_type":"markdown",
   "source":[
    "- Model Comparison"
   ],
   "attachments":{},
   "metadata":{
    "datalore":{
     "node_id":"8VD1Ykn9ZOIvNpIZ7XiLqu",
     "type":"MD",
     "hide_input_from_viewers":true,
     "hide_output_from_viewers":true
    }
   }
  },
  {
   "cell_type":"code",
   "source":[
    "compare = pd.DataFrame({'Model': ['Logistic Regression', 'K Neighbors', \n",
    "                                  'SVM', 'Categorical NB', \n",
    "                                  'Gaussian NB', 'Decision Tree', \n",
    "                                  'Random Forest', 'Gradient Boost'], \n",
    "                        'Accuracy': [LRAcc*100, KNAcc*100, SVCAcc*100, \n",
    "                                     NBAcc1*100, NBAcc2*100, DTAcc*100, \n",
    "                                     RFAcc*100, GBAcc*100]})\n",
    "compare.sort_values(by='Accuracy', ascending=False)"
   ],
   "execution_count":876,
   "outputs":[
    {
     "data":{
      "text\/html":[
       "<div>\n",
       "<style scoped>\n",
       "    .dataframe tbody tr th:only-of-type {\n",
       "        vertical-align: middle;\n",
       "    }\n",
       "\n",
       "    .dataframe tbody tr th {\n",
       "        vertical-align: top;\n",
       "    }\n",
       "\n",
       "    .dataframe thead th {\n",
       "        text-align: right;\n",
       "    }\n",
       "<\/style>\n",
       "<table border=\"1\" class=\"dataframe\">\n",
       "  <thead>\n",
       "    <tr style=\"text-align: right;\">\n",
       "      <th><\/th>\n",
       "      <th>Model<\/th>\n",
       "      <th>Accuracy<\/th>\n",
       "    <\/tr>\n",
       "  <\/thead>\n",
       "  <tbody>\n",
       "    <tr>\n",
       "      <th>1<\/th>\n",
       "      <td>K Neighbors<\/td>\n",
       "      <td>91.111111<\/td>\n",
       "    <\/tr>\n",
       "    <tr>\n",
       "      <th>6<\/th>\n",
       "      <td>Random Forest<\/td>\n",
       "      <td>91.111111<\/td>\n",
       "    <\/tr>\n",
       "    <tr>\n",
       "      <th>3<\/th>\n",
       "      <td>Categorical NB<\/td>\n",
       "      <td>86.666667<\/td>\n",
       "    <\/tr>\n",
       "    <tr>\n",
       "      <th>7<\/th>\n",
       "      <td>Gradient Boost<\/td>\n",
       "      <td>80.000000<\/td>\n",
       "    <\/tr>\n",
       "    <tr>\n",
       "      <th>5<\/th>\n",
       "      <td>Decision Tree<\/td>\n",
       "      <td>77.777778<\/td>\n",
       "    <\/tr>\n",
       "    <tr>\n",
       "      <th>4<\/th>\n",
       "      <td>Gaussian NB<\/td>\n",
       "      <td>75.555556<\/td>\n",
       "    <\/tr>\n",
       "    <tr>\n",
       "      <th>0<\/th>\n",
       "      <td>Logistic Regression<\/td>\n",
       "      <td>71.111111<\/td>\n",
       "    <\/tr>\n",
       "    <tr>\n",
       "      <th>2<\/th>\n",
       "      <td>SVM<\/td>\n",
       "      <td>68.888889<\/td>\n",
       "    <\/tr>\n",
       "  <\/tbody>\n",
       "<\/table>\n",
       "<\/div>"
      ]
     },
     "metadata":{},
     "output_type":"display_data"
    }
   ],
   "metadata":{
    "datalore":{
     "node_id":"MfSr1XCsdNokpvYwj6iZts",
     "type":"CODE",
     "hide_input_from_viewers":true,
     "hide_output_from_viewers":true
    }
   }
  }
 ],
 "metadata":{
  "kernelspec":{
   "display_name":"Python",
   "language":"python",
   "name":"python"
  },
  "datalore":{
   "computation_mode":"JUPYTER",
   "package_manager":"pip",
   "base_environment":"default",
   "packages":[],
   "report_row_ids":[],
   "version":3
  }
 },
 "nbformat":4,
 "nbformat_minor":4
}