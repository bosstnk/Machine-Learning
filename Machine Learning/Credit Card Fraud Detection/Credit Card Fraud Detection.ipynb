{
 "cells":[
  {
   "cell_type":"markdown",
   "source":[
    "## Importing libraries"
   ],
   "attachments":{},
   "metadata":{
    "datalore":{
     "node_id":"yZIKUB4inAt8mxi5wNFQWB",
     "type":"MD",
     "hide_input_from_viewers":true,
     "hide_output_from_viewers":true
    }
   }
  },
  {
   "cell_type":"code",
   "source":[
    "import pandas as pd\n",
    "import numpy as np\n",
    "import seaborn as sns\n",
    "from sklearn.model_selection import train_test_split\n",
    "from sklearn.linear_model import LogisticRegression\n",
    "from sklearn.metrics import accuracy_score"
   ],
   "execution_count":27,
   "outputs":[],
   "metadata":{
    "datalore":{
     "node_id":"OjNoCb5Q1lLprIf9yl6w9W",
     "type":"CODE",
     "hide_input_from_viewers":true,
     "hide_output_from_viewers":true
    }
   }
  },
  {
   "cell_type":"markdown",
   "source":[
    "## Loading and checking the data set"
   ],
   "attachments":{},
   "metadata":{
    "datalore":{
     "node_id":"F5zpFN1EV0zQoUaDoZMIc7",
     "type":"MD",
     "hide_input_from_viewers":true,
     "hide_output_from_viewers":true
    }
   }
  },
  {
   "cell_type":"code",
   "source":[
    "# Loading the dataset to a Pandas DataFrame\n",
    "credits_card_data = pd.read_csv(\"creditcard.csv\")\n",
    "\n",
    "# Print First 5 rows of our DataFrame\n",
    "credits_card_data.head()"
   ],
   "execution_count":28,
   "outputs":[
    {
     "data":{
      "text\/html":[
       "<div>\n",
       "<style scoped>\n",
       "    .dataframe tbody tr th:only-of-type {\n",
       "        vertical-align: middle;\n",
       "    }\n",
       "\n",
       "    .dataframe tbody tr th {\n",
       "        vertical-align: top;\n",
       "    }\n",
       "\n",
       "    .dataframe thead th {\n",
       "        text-align: right;\n",
       "    }\n",
       "<\/style>\n",
       "<table border=\"1\" class=\"dataframe\">\n",
       "  <thead>\n",
       "    <tr style=\"text-align: right;\">\n",
       "      <th><\/th>\n",
       "      <th>Time<\/th>\n",
       "      <th>V1<\/th>\n",
       "      <th>V2<\/th>\n",
       "      <th>V3<\/th>\n",
       "      <th>V4<\/th>\n",
       "      <th>V5<\/th>\n",
       "      <th>V6<\/th>\n",
       "      <th>V7<\/th>\n",
       "      <th>V8<\/th>\n",
       "      <th>V9<\/th>\n",
       "      <th>...<\/th>\n",
       "      <th>V21<\/th>\n",
       "      <th>V22<\/th>\n",
       "      <th>V23<\/th>\n",
       "      <th>V24<\/th>\n",
       "      <th>V25<\/th>\n",
       "      <th>V26<\/th>\n",
       "      <th>V27<\/th>\n",
       "      <th>V28<\/th>\n",
       "      <th>Amount<\/th>\n",
       "      <th>Class<\/th>\n",
       "    <\/tr>\n",
       "  <\/thead>\n",
       "  <tbody>\n",
       "    <tr>\n",
       "      <th>0<\/th>\n",
       "      <td>0.0<\/td>\n",
       "      <td>-1.359807<\/td>\n",
       "      <td>-0.072781<\/td>\n",
       "      <td>2.536347<\/td>\n",
       "      <td>1.378155<\/td>\n",
       "      <td>-0.338321<\/td>\n",
       "      <td>0.462388<\/td>\n",
       "      <td>0.239599<\/td>\n",
       "      <td>0.098698<\/td>\n",
       "      <td>0.363787<\/td>\n",
       "      <td>...<\/td>\n",
       "      <td>-0.018307<\/td>\n",
       "      <td>0.277838<\/td>\n",
       "      <td>-0.110474<\/td>\n",
       "      <td>0.066928<\/td>\n",
       "      <td>0.128539<\/td>\n",
       "      <td>-0.189115<\/td>\n",
       "      <td>0.133558<\/td>\n",
       "      <td>-0.021053<\/td>\n",
       "      <td>149.62<\/td>\n",
       "      <td>0<\/td>\n",
       "    <\/tr>\n",
       "    <tr>\n",
       "      <th>1<\/th>\n",
       "      <td>0.0<\/td>\n",
       "      <td>1.191857<\/td>\n",
       "      <td>0.266151<\/td>\n",
       "      <td>0.166480<\/td>\n",
       "      <td>0.448154<\/td>\n",
       "      <td>0.060018<\/td>\n",
       "      <td>-0.082361<\/td>\n",
       "      <td>-0.078803<\/td>\n",
       "      <td>0.085102<\/td>\n",
       "      <td>-0.255425<\/td>\n",
       "      <td>...<\/td>\n",
       "      <td>-0.225775<\/td>\n",
       "      <td>-0.638672<\/td>\n",
       "      <td>0.101288<\/td>\n",
       "      <td>-0.339846<\/td>\n",
       "      <td>0.167170<\/td>\n",
       "      <td>0.125895<\/td>\n",
       "      <td>-0.008983<\/td>\n",
       "      <td>0.014724<\/td>\n",
       "      <td>2.69<\/td>\n",
       "      <td>0<\/td>\n",
       "    <\/tr>\n",
       "    <tr>\n",
       "      <th>2<\/th>\n",
       "      <td>1.0<\/td>\n",
       "      <td>-1.358354<\/td>\n",
       "      <td>-1.340163<\/td>\n",
       "      <td>1.773209<\/td>\n",
       "      <td>0.379780<\/td>\n",
       "      <td>-0.503198<\/td>\n",
       "      <td>1.800499<\/td>\n",
       "      <td>0.791461<\/td>\n",
       "      <td>0.247676<\/td>\n",
       "      <td>-1.514654<\/td>\n",
       "      <td>...<\/td>\n",
       "      <td>0.247998<\/td>\n",
       "      <td>0.771679<\/td>\n",
       "      <td>0.909412<\/td>\n",
       "      <td>-0.689281<\/td>\n",
       "      <td>-0.327642<\/td>\n",
       "      <td>-0.139097<\/td>\n",
       "      <td>-0.055353<\/td>\n",
       "      <td>-0.059752<\/td>\n",
       "      <td>378.66<\/td>\n",
       "      <td>0<\/td>\n",
       "    <\/tr>\n",
       "    <tr>\n",
       "      <th>3<\/th>\n",
       "      <td>1.0<\/td>\n",
       "      <td>-0.966272<\/td>\n",
       "      <td>-0.185226<\/td>\n",
       "      <td>1.792993<\/td>\n",
       "      <td>-0.863291<\/td>\n",
       "      <td>-0.010309<\/td>\n",
       "      <td>1.247203<\/td>\n",
       "      <td>0.237609<\/td>\n",
       "      <td>0.377436<\/td>\n",
       "      <td>-1.387024<\/td>\n",
       "      <td>...<\/td>\n",
       "      <td>-0.108300<\/td>\n",
       "      <td>0.005274<\/td>\n",
       "      <td>-0.190321<\/td>\n",
       "      <td>-1.175575<\/td>\n",
       "      <td>0.647376<\/td>\n",
       "      <td>-0.221929<\/td>\n",
       "      <td>0.062723<\/td>\n",
       "      <td>0.061458<\/td>\n",
       "      <td>123.50<\/td>\n",
       "      <td>0<\/td>\n",
       "    <\/tr>\n",
       "    <tr>\n",
       "      <th>4<\/th>\n",
       "      <td>2.0<\/td>\n",
       "      <td>-1.158233<\/td>\n",
       "      <td>0.877737<\/td>\n",
       "      <td>1.548718<\/td>\n",
       "      <td>0.403034<\/td>\n",
       "      <td>-0.407193<\/td>\n",
       "      <td>0.095921<\/td>\n",
       "      <td>0.592941<\/td>\n",
       "      <td>-0.270533<\/td>\n",
       "      <td>0.817739<\/td>\n",
       "      <td>...<\/td>\n",
       "      <td>-0.009431<\/td>\n",
       "      <td>0.798278<\/td>\n",
       "      <td>-0.137458<\/td>\n",
       "      <td>0.141267<\/td>\n",
       "      <td>-0.206010<\/td>\n",
       "      <td>0.502292<\/td>\n",
       "      <td>0.219422<\/td>\n",
       "      <td>0.215153<\/td>\n",
       "      <td>69.99<\/td>\n",
       "      <td>0<\/td>\n",
       "    <\/tr>\n",
       "  <\/tbody>\n",
       "<\/table>\n",
       "<p>5 rows × 31 columns<\/p>\n",
       "<\/div>"
      ]
     },
     "metadata":{},
     "output_type":"display_data"
    }
   ],
   "metadata":{
    "datalore":{
     "node_id":"Defm5z4TM6MSf8kBCPj0Zz",
     "type":"CODE",
     "hide_input_from_viewers":true,
     "hide_output_from_viewers":true
    }
   }
  },
  {
   "cell_type":"markdown",
   "source":[
    "## EDA (Exploratory Data Analysis)"
   ],
   "attachments":{},
   "metadata":{
    "datalore":{
     "node_id":"tHZK54mjGbTaQ2l8Kbqt3q",
     "type":"MD",
     "hide_input_from_viewers":true,
     "hide_output_from_viewers":true
    }
   }
  },
  {
   "cell_type":"markdown",
   "source":[
    "### Data exploration"
   ],
   "attachments":{},
   "metadata":{
    "datalore":{
     "node_id":"jH0r3iDjl14xBuwqZWjcKA",
     "type":"MD",
     "hide_input_from_viewers":true,
     "hide_output_from_viewers":true
    }
   }
  },
  {
   "cell_type":"code",
   "source":[
    "credits_card_data.shape"
   ],
   "execution_count":29,
   "outputs":[
    {
     "data":{
      "text\/plain":[
       "(284807, 31)"
      ]
     },
     "metadata":{},
     "output_type":"display_data"
    }
   ],
   "metadata":{
    "datalore":{
     "node_id":"Id9DP3nWjgNrszr2cchbah",
     "type":"CODE",
     "hide_input_from_viewers":true,
     "hide_output_from_viewers":true
    }
   }
  },
  {
   "cell_type":"code",
   "source":[
    "credits_card_data.columns"
   ],
   "execution_count":30,
   "outputs":[
    {
     "data":{
      "text\/plain":[
       "Index(['Time', 'V1', 'V2', 'V3', 'V4', 'V5', 'V6', 'V7', 'V8', 'V9', 'V10',\n",
       "       'V11', 'V12', 'V13', 'V14', 'V15', 'V16', 'V17', 'V18', 'V19', 'V20',\n",
       "       'V21', 'V22', 'V23', 'V24', 'V25', 'V26', 'V27', 'V28', 'Amount',\n",
       "       'Class'],\n",
       "      dtype='object')"
      ]
     },
     "metadata":{},
     "output_type":"display_data"
    }
   ],
   "metadata":{
    "datalore":{
     "node_id":"cg380WfUssxopucLsKu7OX",
     "type":"CODE",
     "hide_input_from_viewers":true,
     "hide_output_from_viewers":true
    }
   }
  },
  {
   "cell_type":"code",
   "source":[
    "credits_card_data.info()"
   ],
   "execution_count":31,
   "outputs":[
    {
     "name":"stdout",
     "text":[
      "<class 'pandas.core.frame.DataFrame'>\n",
      "RangeIndex: 284807 entries, 0 to 284806\n",
      "Data columns (total 31 columns):\n",
      " #   Column  Non-Null Count   Dtype  \n",
      "---  ------  --------------   -----  \n",
      " 0   Time    284807 non-null  float64\n",
      " 1   V1      284807 non-null  float64\n",
      " 2   V2      284807 non-null  float64\n",
      " 3   V3      284807 non-null  float64\n",
      " 4   V4      284807 non-null  float64\n",
      " 5   V5      284807 non-null  float64\n",
      " 6   V6      284807 non-null  float64\n",
      " 7   V7      284807 non-null  float64\n",
      " 8   V8      284807 non-null  float64\n",
      " 9   V9      284807 non-null  float64\n",
      " 10  V10     284807 non-null  float64\n",
      " 11  V11     284807 non-null  float64\n",
      " 12  V12     284807 non-null  float64\n",
      " 13  V13     284807 non-null  float64\n",
      " 14  V14     284807 non-null  float64\n",
      " 15  V15     284807 non-null  float64\n",
      " 16  V16     284807 non-null  float64\n",
      " 17  V17     284807 non-null  float64\n",
      " 18  V18     284807 non-null  float64\n",
      " 19  V19     284807 non-null  float64\n",
      " 20  V20     284807 non-null  float64\n",
      " 21  V21     284807 non-null  float64\n",
      " 22  V22     284807 non-null  float64\n",
      " 23  V23     284807 non-null  float64\n",
      " 24  V24     284807 non-null  float64\n",
      " 25  V25     284807 non-null  float64\n",
      " 26  V26     284807 non-null  float64\n",
      " 27  V27     284807 non-null  float64\n",
      " 28  V28     284807 non-null  float64\n",
      " 29  Amount  284807 non-null  float64\n",
      " 30  Class   284807 non-null  int64  \n",
      "dtypes: float64(30), int64(1)\n",
      "memory usage: 67.4 MB\n"
     ],
     "output_type":"stream"
    }
   ],
   "metadata":{
    "datalore":{
     "node_id":"tVxp5RUQpcodTPygzun9br",
     "type":"CODE",
     "hide_input_from_viewers":true,
     "hide_output_from_viewers":true
    }
   }
  },
  {
   "cell_type":"markdown",
   "source":[
    "1. Missing values"
   ],
   "attachments":{},
   "metadata":{
    "datalore":{
     "node_id":"txDKuxVDfZWGmsQEroiR6R",
     "type":"MD",
     "hide_input_from_viewers":true,
     "hide_output_from_viewers":true
    }
   }
  },
  {
   "cell_type":"code",
   "source":[
    "credits_card_data.isnull().sum()"
   ],
   "execution_count":32,
   "outputs":[
    {
     "data":{
      "text\/html":[
       "<pre>Time      0\n",
       "V1        0\n",
       "V2        0\n",
       "V3        0\n",
       "V4        0\n",
       "V5        0\n",
       "V6        0\n",
       "V7        0\n",
       "V8        0\n",
       "V9        0\n",
       "V10       0\n",
       "V11       0\n",
       "V12       0\n",
       "V13       0\n",
       "V14       0\n",
       "V15       0\n",
       "V16       0\n",
       "V17       0\n",
       "V18       0\n",
       "V19       0\n",
       "V20       0\n",
       "V21       0\n",
       "V22       0\n",
       "V23       0\n",
       "V24       0\n",
       "V25       0\n",
       "V26       0\n",
       "V27       0\n",
       "V28       0\n",
       "Amount    0\n",
       "Class     0\n",
       "dtype: int64<\/pre>"
      ]
     },
     "metadata":{},
     "output_type":"display_data"
    }
   ],
   "metadata":{
    "datalore":{
     "node_id":"RZAtqcERHuXda0VPm1PZ3F",
     "type":"CODE",
     "hide_input_from_viewers":true,
     "hide_output_from_viewers":true
    }
   }
  },
  {
   "cell_type":"markdown",
   "source":[
    "2.Categorical variable"
   ],
   "attachments":{},
   "metadata":{
    "datalore":{
     "node_id":"QGYYQ4bWfqvcVUxyCzdHIq",
     "type":"MD",
     "hide_input_from_viewers":true,
     "hide_output_from_viewers":true
    }
   }
  },
  {
   "cell_type":"code",
   "source":[
    "count_class = credits_card_data[\"Class\"].value_counts(dropna=False)\n",
    "print(count_class)\n",
    "sns.countplot(x=\"Class\", data=credits_card_data, palette=\"hls\", hue=\"Class\", legend=False )"
   ],
   "execution_count":33,
   "outputs":[
    {
     "name":"stdout",
     "text":[
      "0    284315\n",
      "1       492\n",
      "Name: Class, dtype: int64\n"
     ],
     "output_type":"stream"
    },
    {
     "data":{
      "text\/plain":[
       "<Axes: xlabel='Class', ylabel='count'>"
      ]
     },
     "metadata":{},
     "output_type":"display_data"
    },
    {
     "data":{
      "image\/png":"[encoded data removed]"
     },
     "metadata":{
      "image\/png":{}
     },
     "output_type":"display_data"
    }
   ],
   "metadata":{
    "datalore":{
     "node_id":"ptP3yE8vj6RcrrCl04bCfy",
     "type":"CODE",
     "hide_input_from_viewers":true,
     "hide_output_from_viewers":true
    }
   }
  },
  {
   "cell_type":"markdown",
   "source":[
    "This Dataset is highly imbalanced"
   ],
   "attachments":{},
   "metadata":{
    "datalore":{
     "node_id":"xkdHVGVsLW2sdy3tFlTqR8",
     "type":"MD",
     "hide_input_from_viewers":true,
     "hide_output_from_viewers":true
    }
   }
  },
  {
   "cell_type":"markdown",
   "source":[
    "3. Numerical variable"
   ],
   "attachments":{},
   "metadata":{
    "datalore":{
     "node_id":"yb2QwfVOgFoyKbDrCE7ZYL",
     "type":"MD",
     "hide_input_from_viewers":true,
     "hide_output_from_viewers":true
    }
   }
  },
  {
   "cell_type":"markdown",
   "source":[
    "0 -> Normal Transection\n",
    "\n",
    "1 -> Fraudulent Transection"
   ],
   "attachments":{},
   "metadata":{
    "datalore":{
     "node_id":"D05rZhzV7a99N2jGfJa6Ux",
     "type":"MD",
     "hide_input_from_viewers":true,
     "hide_output_from_viewers":true
    }
   }
  },
  {
   "cell_type":"code",
   "source":[
    "# separating data for analysis\n",
    "legit = credits_card_data[credits_card_data[\"Class\"] == 0]\n",
    "fraud = credits_card_data[credits_card_data[\"Class\"] == 1]"
   ],
   "execution_count":34,
   "outputs":[],
   "metadata":{
    "datalore":{
     "node_id":"JHZK1ljBSqxSl7bUZ9SJyr",
     "type":"CODE",
     "hide_input_from_viewers":true,
     "hide_output_from_viewers":true
    }
   }
  },
  {
   "cell_type":"code",
   "source":[
    "print(legit.shape)\n",
    "print(fraud.shape)"
   ],
   "execution_count":35,
   "outputs":[
    {
     "name":"stdout",
     "text":[
      "(284315, 31)\n",
      "(492, 31)\n"
     ],
     "output_type":"stream"
    }
   ],
   "metadata":{
    "datalore":{
     "node_id":"lgpE1Bf68n7lcdRlMzSE0m",
     "type":"CODE",
     "hide_input_from_viewers":true,
     "hide_output_from_viewers":true
    }
   }
  },
  {
   "cell_type":"code",
   "source":[
    "legit.Amount.describe()"
   ],
   "execution_count":36,
   "outputs":[
    {
     "data":{
      "text\/html":[
       "<pre>count    284315.000000\n",
       "mean         88.291022\n",
       "std         250.105092\n",
       "min           0.000000\n",
       "25%           5.650000\n",
       "50%          22.000000\n",
       "75%          77.050000\n",
       "max       25691.160000\n",
       "Name: Amount, dtype: float64<\/pre>"
      ]
     },
     "metadata":{},
     "output_type":"display_data"
    }
   ],
   "metadata":{
    "datalore":{
     "node_id":"Wx1fjDmX2lp1YHGsRDNhcu",
     "type":"CODE",
     "hide_input_from_viewers":true,
     "hide_output_from_viewers":true
    }
   }
  },
  {
   "cell_type":"code",
   "source":[
    "fraud.Amount.describe()"
   ],
   "execution_count":37,
   "outputs":[
    {
     "data":{
      "text\/html":[
       "<pre>count     492.000000\n",
       "mean      122.211321\n",
       "std       256.683288\n",
       "min         0.000000\n",
       "25%         1.000000\n",
       "50%         9.250000\n",
       "75%       105.890000\n",
       "max      2125.870000\n",
       "Name: Amount, dtype: float64<\/pre>"
      ]
     },
     "metadata":{},
     "output_type":"display_data"
    }
   ],
   "metadata":{
    "datalore":{
     "node_id":"jiE0Urt99xDq9VVbXZcVr0",
     "type":"CODE",
     "hide_input_from_viewers":true,
     "hide_output_from_viewers":true
    }
   }
  },
  {
   "cell_type":"code",
   "source":[
    "# compare the values for both transactions\n",
    "credits_card_data.groupby('Class').mean()"
   ],
   "execution_count":38,
   "outputs":[
    {
     "data":{
      "text\/html":[
       "<div>\n",
       "<style scoped>\n",
       "    .dataframe tbody tr th:only-of-type {\n",
       "        vertical-align: middle;\n",
       "    }\n",
       "\n",
       "    .dataframe tbody tr th {\n",
       "        vertical-align: top;\n",
       "    }\n",
       "\n",
       "    .dataframe thead th {\n",
       "        text-align: right;\n",
       "    }\n",
       "<\/style>\n",
       "<table border=\"1\" class=\"dataframe\">\n",
       "  <thead>\n",
       "    <tr style=\"text-align: right;\">\n",
       "      <th><\/th>\n",
       "      <th>Time<\/th>\n",
       "      <th>V1<\/th>\n",
       "      <th>V2<\/th>\n",
       "      <th>V3<\/th>\n",
       "      <th>V4<\/th>\n",
       "      <th>V5<\/th>\n",
       "      <th>V6<\/th>\n",
       "      <th>V7<\/th>\n",
       "      <th>V8<\/th>\n",
       "      <th>V9<\/th>\n",
       "      <th>...<\/th>\n",
       "      <th>V20<\/th>\n",
       "      <th>V21<\/th>\n",
       "      <th>V22<\/th>\n",
       "      <th>V23<\/th>\n",
       "      <th>V24<\/th>\n",
       "      <th>V25<\/th>\n",
       "      <th>V26<\/th>\n",
       "      <th>V27<\/th>\n",
       "      <th>V28<\/th>\n",
       "      <th>Amount<\/th>\n",
       "    <\/tr>\n",
       "    <tr>\n",
       "      <th>Class<\/th>\n",
       "      <th><\/th>\n",
       "      <th><\/th>\n",
       "      <th><\/th>\n",
       "      <th><\/th>\n",
       "      <th><\/th>\n",
       "      <th><\/th>\n",
       "      <th><\/th>\n",
       "      <th><\/th>\n",
       "      <th><\/th>\n",
       "      <th><\/th>\n",
       "      <th><\/th>\n",
       "      <th><\/th>\n",
       "      <th><\/th>\n",
       "      <th><\/th>\n",
       "      <th><\/th>\n",
       "      <th><\/th>\n",
       "      <th><\/th>\n",
       "      <th><\/th>\n",
       "      <th><\/th>\n",
       "      <th><\/th>\n",
       "      <th><\/th>\n",
       "    <\/tr>\n",
       "  <\/thead>\n",
       "  <tbody>\n",
       "    <tr>\n",
       "      <th>0<\/th>\n",
       "      <td>94838.202258<\/td>\n",
       "      <td>0.008258<\/td>\n",
       "      <td>-0.006271<\/td>\n",
       "      <td>0.012171<\/td>\n",
       "      <td>-0.007860<\/td>\n",
       "      <td>0.005453<\/td>\n",
       "      <td>0.002419<\/td>\n",
       "      <td>0.009637<\/td>\n",
       "      <td>-0.000987<\/td>\n",
       "      <td>0.004467<\/td>\n",
       "      <td>...<\/td>\n",
       "      <td>-0.000644<\/td>\n",
       "      <td>-0.001235<\/td>\n",
       "      <td>-0.000024<\/td>\n",
       "      <td>0.000070<\/td>\n",
       "      <td>0.000182<\/td>\n",
       "      <td>-0.000072<\/td>\n",
       "      <td>-0.000089<\/td>\n",
       "      <td>-0.000295<\/td>\n",
       "      <td>-0.000131<\/td>\n",
       "      <td>88.291022<\/td>\n",
       "    <\/tr>\n",
       "    <tr>\n",
       "      <th>1<\/th>\n",
       "      <td>80746.806911<\/td>\n",
       "      <td>-4.771948<\/td>\n",
       "      <td>3.623778<\/td>\n",
       "      <td>-7.033281<\/td>\n",
       "      <td>4.542029<\/td>\n",
       "      <td>-3.151225<\/td>\n",
       "      <td>-1.397737<\/td>\n",
       "      <td>-5.568731<\/td>\n",
       "      <td>0.570636<\/td>\n",
       "      <td>-2.581123<\/td>\n",
       "      <td>...<\/td>\n",
       "      <td>0.372319<\/td>\n",
       "      <td>0.713588<\/td>\n",
       "      <td>0.014049<\/td>\n",
       "      <td>-0.040308<\/td>\n",
       "      <td>-0.105130<\/td>\n",
       "      <td>0.041449<\/td>\n",
       "      <td>0.051648<\/td>\n",
       "      <td>0.170575<\/td>\n",
       "      <td>0.075667<\/td>\n",
       "      <td>122.211321<\/td>\n",
       "    <\/tr>\n",
       "  <\/tbody>\n",
       "<\/table>\n",
       "<p>2 rows × 30 columns<\/p>\n",
       "<\/div>"
      ]
     },
     "metadata":{},
     "output_type":"display_data"
    }
   ],
   "metadata":{
    "datalore":{
     "node_id":"CUi6eVSlMTMQAYxZe4p8pQ",
     "type":"CODE",
     "hide_input_from_viewers":true,
     "hide_output_from_viewers":true
    }
   }
  },
  {
   "cell_type":"markdown",
   "source":[
    "### Data preprocessing"
   ],
   "attachments":{},
   "metadata":{
    "datalore":{
     "node_id":"3VVaa2Md6N7N9YF2xyV2tJ",
     "type":"MD",
     "hide_input_from_viewers":true,
     "hide_output_from_viewers":true
    }
   }
  },
  {
   "cell_type":"markdown",
   "source":[
    "Build a sample dataset containing similar distribution of Normal Transactions and Fraudulent Transactions\n",
    "\n",
    "Number of Fraudulent Transactions -> 492"
   ],
   "attachments":{},
   "metadata":{
    "datalore":{
     "node_id":"gS2XubHw4H1UWauvN7xFCn",
     "type":"MD",
     "hide_input_from_viewers":true,
     "hide_output_from_viewers":true
    }
   }
  },
  {
   "cell_type":"code",
   "source":[
    "legit_sample = legit.sample(n=492)"
   ],
   "execution_count":39,
   "outputs":[],
   "metadata":{
    "datalore":{
     "node_id":"Bqb59ExQZKkCJeKDjvXPJx",
     "type":"CODE",
     "hide_input_from_viewers":true,
     "hide_output_from_viewers":true
    }
   }
  },
  {
   "cell_type":"markdown",
   "source":[
    "Concatenating two DataFrames"
   ],
   "attachments":{},
   "metadata":{
    "datalore":{
     "node_id":"Gx2xODYOj8XxcH7xcKRvKb",
     "type":"MD",
     "hide_input_from_viewers":true,
     "hide_output_from_viewers":true
    }
   }
  },
  {
   "cell_type":"code",
   "source":[
    "sample_df = pd.concat([legit_sample,fraud], axis=0)"
   ],
   "execution_count":40,
   "outputs":[],
   "metadata":{
    "datalore":{
     "node_id":"1MKjF0c2jUT8kRauyIiYac",
     "type":"CODE",
     "hide_input_from_viewers":true,
     "hide_output_from_viewers":true
    }
   }
  },
  {
   "cell_type":"code",
   "source":[
    "sample_df.head()"
   ],
   "execution_count":41,
   "outputs":[
    {
     "data":{
      "text\/html":[
       "<div>\n",
       "<style scoped>\n",
       "    .dataframe tbody tr th:only-of-type {\n",
       "        vertical-align: middle;\n",
       "    }\n",
       "\n",
       "    .dataframe tbody tr th {\n",
       "        vertical-align: top;\n",
       "    }\n",
       "\n",
       "    .dataframe thead th {\n",
       "        text-align: right;\n",
       "    }\n",
       "<\/style>\n",
       "<table border=\"1\" class=\"dataframe\">\n",
       "  <thead>\n",
       "    <tr style=\"text-align: right;\">\n",
       "      <th><\/th>\n",
       "      <th>Time<\/th>\n",
       "      <th>V1<\/th>\n",
       "      <th>V2<\/th>\n",
       "      <th>V3<\/th>\n",
       "      <th>V4<\/th>\n",
       "      <th>V5<\/th>\n",
       "      <th>V6<\/th>\n",
       "      <th>V7<\/th>\n",
       "      <th>V8<\/th>\n",
       "      <th>V9<\/th>\n",
       "      <th>...<\/th>\n",
       "      <th>V21<\/th>\n",
       "      <th>V22<\/th>\n",
       "      <th>V23<\/th>\n",
       "      <th>V24<\/th>\n",
       "      <th>V25<\/th>\n",
       "      <th>V26<\/th>\n",
       "      <th>V27<\/th>\n",
       "      <th>V28<\/th>\n",
       "      <th>Amount<\/th>\n",
       "      <th>Class<\/th>\n",
       "    <\/tr>\n",
       "  <\/thead>\n",
       "  <tbody>\n",
       "    <tr>\n",
       "      <th>109996<\/th>\n",
       "      <td>71632.0<\/td>\n",
       "      <td>-0.814740<\/td>\n",
       "      <td>0.876843<\/td>\n",
       "      <td>0.695514<\/td>\n",
       "      <td>-1.142758<\/td>\n",
       "      <td>-0.068441<\/td>\n",
       "      <td>-0.250029<\/td>\n",
       "      <td>0.091057<\/td>\n",
       "      <td>0.680802<\/td>\n",
       "      <td>-0.326577<\/td>\n",
       "      <td>...<\/td>\n",
       "      <td>0.231412<\/td>\n",
       "      <td>0.594398<\/td>\n",
       "      <td>-0.091223<\/td>\n",
       "      <td>-0.259163<\/td>\n",
       "      <td>-0.524970<\/td>\n",
       "      <td>0.932075<\/td>\n",
       "      <td>0.181148<\/td>\n",
       "      <td>0.126247<\/td>\n",
       "      <td>2.92<\/td>\n",
       "      <td>0<\/td>\n",
       "    <\/tr>\n",
       "    <tr>\n",
       "      <th>40380<\/th>\n",
       "      <td>40214.0<\/td>\n",
       "      <td>0.946700<\/td>\n",
       "      <td>-1.033902<\/td>\n",
       "      <td>0.375471<\/td>\n",
       "      <td>0.496829<\/td>\n",
       "      <td>-0.770650<\/td>\n",
       "      <td>0.624706<\/td>\n",
       "      <td>-0.527027<\/td>\n",
       "      <td>0.059080<\/td>\n",
       "      <td>-0.531855<\/td>\n",
       "      <td>...<\/td>\n",
       "      <td>-0.146400<\/td>\n",
       "      <td>-0.129070<\/td>\n",
       "      <td>-0.303127<\/td>\n",
       "      <td>-0.755655<\/td>\n",
       "      <td>0.521510<\/td>\n",
       "      <td>-0.163292<\/td>\n",
       "      <td>0.062966<\/td>\n",
       "      <td>0.056905<\/td>\n",
       "      <td>198.00<\/td>\n",
       "      <td>0<\/td>\n",
       "    <\/tr>\n",
       "    <tr>\n",
       "      <th>62642<\/th>\n",
       "      <td>50353.0<\/td>\n",
       "      <td>-0.221735<\/td>\n",
       "      <td>-0.766816<\/td>\n",
       "      <td>2.259537<\/td>\n",
       "      <td>-1.680219<\/td>\n",
       "      <td>-1.915137<\/td>\n",
       "      <td>-0.113896<\/td>\n",
       "      <td>-0.632622<\/td>\n",
       "      <td>0.081851<\/td>\n",
       "      <td>-1.648334<\/td>\n",
       "      <td>...<\/td>\n",
       "      <td>-0.121190<\/td>\n",
       "      <td>0.057461<\/td>\n",
       "      <td>0.102844<\/td>\n",
       "      <td>0.355996<\/td>\n",
       "      <td>-0.185425<\/td>\n",
       "      <td>-0.238002<\/td>\n",
       "      <td>0.104556<\/td>\n",
       "      <td>0.077106<\/td>\n",
       "      <td>85.65<\/td>\n",
       "      <td>0<\/td>\n",
       "    <\/tr>\n",
       "    <tr>\n",
       "      <th>265272<\/th>\n",
       "      <td>161812.0<\/td>\n",
       "      <td>1.965847<\/td>\n",
       "      <td>-0.330738<\/td>\n",
       "      <td>-0.233208<\/td>\n",
       "      <td>0.498125<\/td>\n",
       "      <td>-0.646443<\/td>\n",
       "      <td>-0.464018<\/td>\n",
       "      <td>-0.519823<\/td>\n",
       "      <td>-0.110768<\/td>\n",
       "      <td>1.271905<\/td>\n",
       "      <td>...<\/td>\n",
       "      <td>0.212353<\/td>\n",
       "      <td>0.936407<\/td>\n",
       "      <td>0.098674<\/td>\n",
       "      <td>-0.022016<\/td>\n",
       "      <td>-0.059078<\/td>\n",
       "      <td>-0.210480<\/td>\n",
       "      <td>0.052929<\/td>\n",
       "      <td>-0.034146<\/td>\n",
       "      <td>12.99<\/td>\n",
       "      <td>0<\/td>\n",
       "    <\/tr>\n",
       "    <tr>\n",
       "      <th>63555<\/th>\n",
       "      <td>50771.0<\/td>\n",
       "      <td>0.826778<\/td>\n",
       "      <td>-0.961233<\/td>\n",
       "      <td>0.949810<\/td>\n",
       "      <td>0.147371<\/td>\n",
       "      <td>-0.945919<\/td>\n",
       "      <td>0.915418<\/td>\n",
       "      <td>-0.773996<\/td>\n",
       "      <td>0.476525<\/td>\n",
       "      <td>1.004354<\/td>\n",
       "      <td>...<\/td>\n",
       "      <td>-0.052679<\/td>\n",
       "      <td>-0.182368<\/td>\n",
       "      <td>0.019008<\/td>\n",
       "      <td>-0.208181<\/td>\n",
       "      <td>-0.107892<\/td>\n",
       "      <td>0.971789<\/td>\n",
       "      <td>-0.032746<\/td>\n",
       "      <td>0.019181<\/td>\n",
       "      <td>140.00<\/td>\n",
       "      <td>0<\/td>\n",
       "    <\/tr>\n",
       "  <\/tbody>\n",
       "<\/table>\n",
       "<p>5 rows × 31 columns<\/p>\n",
       "<\/div>"
      ]
     },
     "metadata":{},
     "output_type":"display_data"
    }
   ],
   "metadata":{
    "datalore":{
     "node_id":"YRoawaVUUFU6mbDPpq7qWZ",
     "type":"CODE",
     "hide_input_from_viewers":true,
     "hide_output_from_viewers":true
    }
   }
  },
  {
   "cell_type":"code",
   "source":[
    "sample_df.tail()"
   ],
   "execution_count":42,
   "outputs":[
    {
     "data":{
      "text\/html":[
       "<div>\n",
       "<style scoped>\n",
       "    .dataframe tbody tr th:only-of-type {\n",
       "        vertical-align: middle;\n",
       "    }\n",
       "\n",
       "    .dataframe tbody tr th {\n",
       "        vertical-align: top;\n",
       "    }\n",
       "\n",
       "    .dataframe thead th {\n",
       "        text-align: right;\n",
       "    }\n",
       "<\/style>\n",
       "<table border=\"1\" class=\"dataframe\">\n",
       "  <thead>\n",
       "    <tr style=\"text-align: right;\">\n",
       "      <th><\/th>\n",
       "      <th>Time<\/th>\n",
       "      <th>V1<\/th>\n",
       "      <th>V2<\/th>\n",
       "      <th>V3<\/th>\n",
       "      <th>V4<\/th>\n",
       "      <th>V5<\/th>\n",
       "      <th>V6<\/th>\n",
       "      <th>V7<\/th>\n",
       "      <th>V8<\/th>\n",
       "      <th>V9<\/th>\n",
       "      <th>...<\/th>\n",
       "      <th>V21<\/th>\n",
       "      <th>V22<\/th>\n",
       "      <th>V23<\/th>\n",
       "      <th>V24<\/th>\n",
       "      <th>V25<\/th>\n",
       "      <th>V26<\/th>\n",
       "      <th>V27<\/th>\n",
       "      <th>V28<\/th>\n",
       "      <th>Amount<\/th>\n",
       "      <th>Class<\/th>\n",
       "    <\/tr>\n",
       "  <\/thead>\n",
       "  <tbody>\n",
       "    <tr>\n",
       "      <th>279863<\/th>\n",
       "      <td>169142.0<\/td>\n",
       "      <td>-1.927883<\/td>\n",
       "      <td>1.125653<\/td>\n",
       "      <td>-4.518331<\/td>\n",
       "      <td>1.749293<\/td>\n",
       "      <td>-1.566487<\/td>\n",
       "      <td>-2.010494<\/td>\n",
       "      <td>-0.882850<\/td>\n",
       "      <td>0.697211<\/td>\n",
       "      <td>-2.064945<\/td>\n",
       "      <td>...<\/td>\n",
       "      <td>0.778584<\/td>\n",
       "      <td>-0.319189<\/td>\n",
       "      <td>0.639419<\/td>\n",
       "      <td>-0.294885<\/td>\n",
       "      <td>0.537503<\/td>\n",
       "      <td>0.788395<\/td>\n",
       "      <td>0.292680<\/td>\n",
       "      <td>0.147968<\/td>\n",
       "      <td>390.00<\/td>\n",
       "      <td>1<\/td>\n",
       "    <\/tr>\n",
       "    <tr>\n",
       "      <th>280143<\/th>\n",
       "      <td>169347.0<\/td>\n",
       "      <td>1.378559<\/td>\n",
       "      <td>1.289381<\/td>\n",
       "      <td>-5.004247<\/td>\n",
       "      <td>1.411850<\/td>\n",
       "      <td>0.442581<\/td>\n",
       "      <td>-1.326536<\/td>\n",
       "      <td>-1.413170<\/td>\n",
       "      <td>0.248525<\/td>\n",
       "      <td>-1.127396<\/td>\n",
       "      <td>...<\/td>\n",
       "      <td>0.370612<\/td>\n",
       "      <td>0.028234<\/td>\n",
       "      <td>-0.145640<\/td>\n",
       "      <td>-0.081049<\/td>\n",
       "      <td>0.521875<\/td>\n",
       "      <td>0.739467<\/td>\n",
       "      <td>0.389152<\/td>\n",
       "      <td>0.186637<\/td>\n",
       "      <td>0.76<\/td>\n",
       "      <td>1<\/td>\n",
       "    <\/tr>\n",
       "    <tr>\n",
       "      <th>280149<\/th>\n",
       "      <td>169351.0<\/td>\n",
       "      <td>-0.676143<\/td>\n",
       "      <td>1.126366<\/td>\n",
       "      <td>-2.213700<\/td>\n",
       "      <td>0.468308<\/td>\n",
       "      <td>-1.120541<\/td>\n",
       "      <td>-0.003346<\/td>\n",
       "      <td>-2.234739<\/td>\n",
       "      <td>1.210158<\/td>\n",
       "      <td>-0.652250<\/td>\n",
       "      <td>...<\/td>\n",
       "      <td>0.751826<\/td>\n",
       "      <td>0.834108<\/td>\n",
       "      <td>0.190944<\/td>\n",
       "      <td>0.032070<\/td>\n",
       "      <td>-0.739695<\/td>\n",
       "      <td>0.471111<\/td>\n",
       "      <td>0.385107<\/td>\n",
       "      <td>0.194361<\/td>\n",
       "      <td>77.89<\/td>\n",
       "      <td>1<\/td>\n",
       "    <\/tr>\n",
       "    <tr>\n",
       "      <th>281144<\/th>\n",
       "      <td>169966.0<\/td>\n",
       "      <td>-3.113832<\/td>\n",
       "      <td>0.585864<\/td>\n",
       "      <td>-5.399730<\/td>\n",
       "      <td>1.817092<\/td>\n",
       "      <td>-0.840618<\/td>\n",
       "      <td>-2.943548<\/td>\n",
       "      <td>-2.208002<\/td>\n",
       "      <td>1.058733<\/td>\n",
       "      <td>-1.632333<\/td>\n",
       "      <td>...<\/td>\n",
       "      <td>0.583276<\/td>\n",
       "      <td>-0.269209<\/td>\n",
       "      <td>-0.456108<\/td>\n",
       "      <td>-0.183659<\/td>\n",
       "      <td>-0.328168<\/td>\n",
       "      <td>0.606116<\/td>\n",
       "      <td>0.884876<\/td>\n",
       "      <td>-0.253700<\/td>\n",
       "      <td>245.00<\/td>\n",
       "      <td>1<\/td>\n",
       "    <\/tr>\n",
       "    <tr>\n",
       "      <th>281674<\/th>\n",
       "      <td>170348.0<\/td>\n",
       "      <td>1.991976<\/td>\n",
       "      <td>0.158476<\/td>\n",
       "      <td>-2.583441<\/td>\n",
       "      <td>0.408670<\/td>\n",
       "      <td>1.151147<\/td>\n",
       "      <td>-0.096695<\/td>\n",
       "      <td>0.223050<\/td>\n",
       "      <td>-0.068384<\/td>\n",
       "      <td>0.577829<\/td>\n",
       "      <td>...<\/td>\n",
       "      <td>-0.164350<\/td>\n",
       "      <td>-0.295135<\/td>\n",
       "      <td>-0.072173<\/td>\n",
       "      <td>-0.450261<\/td>\n",
       "      <td>0.313267<\/td>\n",
       "      <td>-0.289617<\/td>\n",
       "      <td>0.002988<\/td>\n",
       "      <td>-0.015309<\/td>\n",
       "      <td>42.53<\/td>\n",
       "      <td>1<\/td>\n",
       "    <\/tr>\n",
       "  <\/tbody>\n",
       "<\/table>\n",
       "<p>5 rows × 31 columns<\/p>\n",
       "<\/div>"
      ]
     },
     "metadata":{},
     "output_type":"display_data"
    }
   ],
   "metadata":{
    "datalore":{
     "node_id":"lpltCyvc5jtNpcr8gImMIx",
     "type":"CODE",
     "hide_input_from_viewers":true,
     "hide_output_from_viewers":true
    }
   }
  },
  {
   "cell_type":"code",
   "source":[
    "sample_df['Class'].value_counts()"
   ],
   "execution_count":43,
   "outputs":[
    {
     "data":{
      "text\/html":[
       "<pre>0    492\n",
       "1    492\n",
       "Name: Class, dtype: int64<\/pre>"
      ]
     },
     "metadata":{},
     "output_type":"display_data"
    }
   ],
   "metadata":{
    "datalore":{
     "node_id":"N8EnIEXT5pBLzY7m8bElsy",
     "type":"CODE",
     "hide_input_from_viewers":true,
     "hide_output_from_viewers":true
    }
   }
  },
  {
   "cell_type":"code",
   "source":[
    "sample_df.groupby('Class').mean()"
   ],
   "execution_count":44,
   "outputs":[
    {
     "data":{
      "text\/html":[
       "<div>\n",
       "<style scoped>\n",
       "    .dataframe tbody tr th:only-of-type {\n",
       "        vertical-align: middle;\n",
       "    }\n",
       "\n",
       "    .dataframe tbody tr th {\n",
       "        vertical-align: top;\n",
       "    }\n",
       "\n",
       "    .dataframe thead th {\n",
       "        text-align: right;\n",
       "    }\n",
       "<\/style>\n",
       "<table border=\"1\" class=\"dataframe\">\n",
       "  <thead>\n",
       "    <tr style=\"text-align: right;\">\n",
       "      <th><\/th>\n",
       "      <th>Time<\/th>\n",
       "      <th>V1<\/th>\n",
       "      <th>V2<\/th>\n",
       "      <th>V3<\/th>\n",
       "      <th>V4<\/th>\n",
       "      <th>V5<\/th>\n",
       "      <th>V6<\/th>\n",
       "      <th>V7<\/th>\n",
       "      <th>V8<\/th>\n",
       "      <th>V9<\/th>\n",
       "      <th>...<\/th>\n",
       "      <th>V20<\/th>\n",
       "      <th>V21<\/th>\n",
       "      <th>V22<\/th>\n",
       "      <th>V23<\/th>\n",
       "      <th>V24<\/th>\n",
       "      <th>V25<\/th>\n",
       "      <th>V26<\/th>\n",
       "      <th>V27<\/th>\n",
       "      <th>V28<\/th>\n",
       "      <th>Amount<\/th>\n",
       "    <\/tr>\n",
       "    <tr>\n",
       "      <th>Class<\/th>\n",
       "      <th><\/th>\n",
       "      <th><\/th>\n",
       "      <th><\/th>\n",
       "      <th><\/th>\n",
       "      <th><\/th>\n",
       "      <th><\/th>\n",
       "      <th><\/th>\n",
       "      <th><\/th>\n",
       "      <th><\/th>\n",
       "      <th><\/th>\n",
       "      <th><\/th>\n",
       "      <th><\/th>\n",
       "      <th><\/th>\n",
       "      <th><\/th>\n",
       "      <th><\/th>\n",
       "      <th><\/th>\n",
       "      <th><\/th>\n",
       "      <th><\/th>\n",
       "      <th><\/th>\n",
       "      <th><\/th>\n",
       "      <th><\/th>\n",
       "    <\/tr>\n",
       "  <\/thead>\n",
       "  <tbody>\n",
       "    <tr>\n",
       "      <th>0<\/th>\n",
       "      <td>91061.662602<\/td>\n",
       "      <td>-0.061105<\/td>\n",
       "      <td>-0.023044<\/td>\n",
       "      <td>0.153638<\/td>\n",
       "      <td>-0.042023<\/td>\n",
       "      <td>-0.063402<\/td>\n",
       "      <td>0.081043<\/td>\n",
       "      <td>-0.033000<\/td>\n",
       "      <td>0.049380<\/td>\n",
       "      <td>0.078983<\/td>\n",
       "      <td>...<\/td>\n",
       "      <td>0.012955<\/td>\n",
       "      <td>-0.018518<\/td>\n",
       "      <td>0.014959<\/td>\n",
       "      <td>0.026925<\/td>\n",
       "      <td>0.042344<\/td>\n",
       "      <td>-0.023731<\/td>\n",
       "      <td>0.038410<\/td>\n",
       "      <td>0.005322<\/td>\n",
       "      <td>0.008691<\/td>\n",
       "      <td>83.318435<\/td>\n",
       "    <\/tr>\n",
       "    <tr>\n",
       "      <th>1<\/th>\n",
       "      <td>80746.806911<\/td>\n",
       "      <td>-4.771948<\/td>\n",
       "      <td>3.623778<\/td>\n",
       "      <td>-7.033281<\/td>\n",
       "      <td>4.542029<\/td>\n",
       "      <td>-3.151225<\/td>\n",
       "      <td>-1.397737<\/td>\n",
       "      <td>-5.568731<\/td>\n",
       "      <td>0.570636<\/td>\n",
       "      <td>-2.581123<\/td>\n",
       "      <td>...<\/td>\n",
       "      <td>0.372319<\/td>\n",
       "      <td>0.713588<\/td>\n",
       "      <td>0.014049<\/td>\n",
       "      <td>-0.040308<\/td>\n",
       "      <td>-0.105130<\/td>\n",
       "      <td>0.041449<\/td>\n",
       "      <td>0.051648<\/td>\n",
       "      <td>0.170575<\/td>\n",
       "      <td>0.075667<\/td>\n",
       "      <td>122.211321<\/td>\n",
       "    <\/tr>\n",
       "  <\/tbody>\n",
       "<\/table>\n",
       "<p>2 rows × 30 columns<\/p>\n",
       "<\/div>"
      ]
     },
     "metadata":{},
     "output_type":"display_data"
    }
   ],
   "metadata":{
    "datalore":{
     "node_id":"Q8BVZx7tLXpXhEGgJjrVZC",
     "type":"CODE",
     "hide_input_from_viewers":true,
     "hide_output_from_viewers":true
    }
   }
  },
  {
   "cell_type":"code",
   "source":[
    "X = sample_df.drop(columns=['Class'], axis=1)\n",
    "y = sample_df['Class']"
   ],
   "execution_count":45,
   "outputs":[],
   "metadata":{
    "datalore":{
     "node_id":"sxbJuupmQCkQ1SNe5aJN4j",
     "type":"CODE",
     "hide_input_from_viewers":true,
     "hide_output_from_viewers":true
    }
   }
  },
  {
   "cell_type":"code",
   "source":[
    "print(X)"
   ],
   "execution_count":46,
   "outputs":[
    {
     "name":"stdout",
     "text":[
      "            Time        V1        V2        V3        V4        V5        V6  \\\n",
      "109996   71632.0 -0.814740  0.876843  0.695514 -1.142758 -0.068441 -0.250029   \n",
      "40380    40214.0  0.946700 -1.033902  0.375471  0.496829 -0.770650  0.624706   \n",
      "62642    50353.0 -0.221735 -0.766816  2.259537 -1.680219 -1.915137 -0.113896   \n",
      "265272  161812.0  1.965847 -0.330738 -0.233208  0.498125 -0.646443 -0.464018   \n",
      "63555    50771.0  0.826778 -0.961233  0.949810  0.147371 -0.945919  0.915418   \n",
      "...          ...       ...       ...       ...       ...       ...       ...   \n",
      "279863  169142.0 -1.927883  1.125653 -4.518331  1.749293 -1.566487 -2.010494   \n",
      "280143  169347.0  1.378559  1.289381 -5.004247  1.411850  0.442581 -1.326536   \n",
      "280149  169351.0 -0.676143  1.126366 -2.213700  0.468308 -1.120541 -0.003346   \n",
      "281144  169966.0 -3.113832  0.585864 -5.399730  1.817092 -0.840618 -2.943548   \n",
      "281674  170348.0  1.991976  0.158476 -2.583441  0.408670  1.151147 -0.096695   \n",
      "\n",
      "              V7        V8        V9  ...       V20       V21       V22  \\\n",
      "109996  0.091057  0.680802 -0.326577  ... -0.182136  0.231412  0.594398   \n",
      "40380  -0.527027  0.059080 -0.531855  ... -0.112151 -0.146400 -0.129070   \n",
      "62642  -0.632622  0.081851 -1.648334  ... -0.123519 -0.121190  0.057461   \n",
      "265272 -0.519823 -0.110768  1.271905  ... -0.134812  0.212353  0.936407   \n",
      "63555  -0.773996  0.476525  1.004354  ...  0.102357 -0.052679 -0.182368   \n",
      "...          ...       ...       ...  ...       ...       ...       ...   \n",
      "279863 -0.882850  0.697211 -2.064945  ...  1.252967  0.778584 -0.319189   \n",
      "280143 -1.413170  0.248525 -1.127396  ...  0.226138  0.370612  0.028234   \n",
      "280149 -2.234739  1.210158 -0.652250  ...  0.247968  0.751826  0.834108   \n",
      "281144 -2.208002  1.058733 -1.632333  ...  0.306271  0.583276 -0.269209   \n",
      "281674  0.223050 -0.068384  0.577829  ... -0.017652 -0.164350 -0.295135   \n",
      "\n",
      "             V23       V24       V25       V26       V27       V28  Amount  \n",
      "109996 -0.091223 -0.259163 -0.524970  0.932075  0.181148  0.126247    2.92  \n",
      "40380  -0.303127 -0.755655  0.521510 -0.163292  0.062966  0.056905  198.00  \n",
      "62642   0.102844  0.355996 -0.185425 -0.238002  0.104556  0.077106   85.65  \n",
      "265272  0.098674 -0.022016 -0.059078 -0.210480  0.052929 -0.034146   12.99  \n",
      "63555   0.019008 -0.208181 -0.107892  0.971789 -0.032746  0.019181  140.00  \n",
      "...          ...       ...       ...       ...       ...       ...     ...  \n",
      "279863  0.639419 -0.294885  0.537503  0.788395  0.292680  0.147968  390.00  \n",
      "280143 -0.145640 -0.081049  0.521875  0.739467  0.389152  0.186637    0.76  \n",
      "280149  0.190944  0.032070 -0.739695  0.471111  0.385107  0.194361   77.89  \n",
      "281144 -0.456108 -0.183659 -0.328168  0.606116  0.884876 -0.253700  245.00  \n",
      "281674 -0.072173 -0.450261  0.313267 -0.289617  0.002988 -0.015309   42.53  \n",
      "\n",
      "[984 rows x 30 columns]\n"
     ],
     "output_type":"stream"
    }
   ],
   "metadata":{
    "datalore":{
     "node_id":"h98HHZKltactNY7YuVlg09",
     "type":"CODE",
     "hide_input_from_viewers":true,
     "hide_output_from_viewers":true
    }
   }
  },
  {
   "cell_type":"code",
   "source":[
    "print(y)"
   ],
   "execution_count":47,
   "outputs":[
    {
     "name":"stdout",
     "text":[
      "109996    0\n",
      "40380     0\n",
      "62642     0\n",
      "265272    0\n",
      "63555     0\n",
      "         ..\n",
      "279863    1\n",
      "280143    1\n",
      "280149    1\n",
      "281144    1\n",
      "281674    1\n",
      "Name: Class, Length: 984, dtype: int64\n"
     ],
     "output_type":"stream"
    }
   ],
   "metadata":{
    "datalore":{
     "node_id":"PYfye0V5HzQWVoLydmA2lc",
     "type":"CODE",
     "hide_input_from_viewers":true,
     "hide_output_from_viewers":true
    }
   }
  },
  {
   "cell_type":"markdown",
   "source":[
    "## Train Model"
   ],
   "attachments":{},
   "metadata":{
    "datalore":{
     "node_id":"MOteqJbFB5Neas7Tkgipw4",
     "type":"MD",
     "hide_input_from_viewers":true,
     "hide_output_from_viewers":true
    }
   }
  },
  {
   "cell_type":"code",
   "source":[
    "X_train, X_test,y_train,y_test = train_test_split(X,y,test_size=0.2,random_state=2)\n",
    "print(X.shape, X_train.shape, X_test.shape)"
   ],
   "execution_count":48,
   "outputs":[
    {
     "name":"stdout",
     "text":[
      "(984, 30) (787, 30) (197, 30)\n"
     ],
     "output_type":"stream"
    }
   ],
   "metadata":{
    "datalore":{
     "node_id":"7BtYMtf87KPYjiphPsT0YB",
     "type":"CODE",
     "hide_input_from_viewers":true,
     "hide_output_from_viewers":true
    }
   }
  },
  {
   "cell_type":"code",
   "source":[
    "print(X.shape, X_train.shape, X_test.shape)"
   ],
   "execution_count":49,
   "outputs":[
    {
     "name":"stdout",
     "text":[
      "(984, 30) (787, 30) (197, 30)\n"
     ],
     "output_type":"stream"
    }
   ],
   "metadata":{
    "datalore":{
     "node_id":"cKK1WN0ZbSJdShWsnojvLo",
     "type":"CODE",
     "hide_input_from_viewers":true,
     "hide_output_from_viewers":true
    }
   }
  },
  {
   "cell_type":"code",
   "source":[
    "model = LogisticRegression()\n",
    "model.fit(X_train,y_train)"
   ],
   "execution_count":50,
   "outputs":[
    {
     "data":{
      "text\/html":[
       "<style>#sk-container-id-2 {color: black;}#sk-container-id-2 pre{padding: 0;}#sk-container-id-2 div.sk-toggleable {background-color: white;}#sk-container-id-2 label.sk-toggleable__label {cursor: pointer;display: block;width: 100%;margin-bottom: 0;padding: 0.3em;box-sizing: border-box;text-align: center;}#sk-container-id-2 label.sk-toggleable__label-arrow:before {content: \"▸\";float: left;margin-right: 0.25em;color: #696969;}#sk-container-id-2 label.sk-toggleable__label-arrow:hover:before {color: black;}#sk-container-id-2 div.sk-estimator:hover label.sk-toggleable__label-arrow:before {color: black;}#sk-container-id-2 div.sk-toggleable__content {max-height: 0;max-width: 0;overflow: hidden;text-align: left;background-color: #f0f8ff;}#sk-container-id-2 div.sk-toggleable__content pre {margin: 0.2em;color: black;border-radius: 0.25em;background-color: #f0f8ff;}#sk-container-id-2 input.sk-toggleable__control:checked~div.sk-toggleable__content {max-height: 200px;max-width: 100%;overflow: auto;}#sk-container-id-2 input.sk-toggleable__control:checked~label.sk-toggleable__label-arrow:before {content: \"▾\";}#sk-container-id-2 div.sk-estimator input.sk-toggleable__control:checked~label.sk-toggleable__label {background-color: #d4ebff;}#sk-container-id-2 div.sk-label input.sk-toggleable__control:checked~label.sk-toggleable__label {background-color: #d4ebff;}#sk-container-id-2 input.sk-hidden--visually {border: 0;clip: rect(1px 1px 1px 1px);clip: rect(1px, 1px, 1px, 1px);height: 1px;margin: -1px;overflow: hidden;padding: 0;position: absolute;width: 1px;}#sk-container-id-2 div.sk-estimator {font-family: monospace;background-color: #f0f8ff;border: 1px dotted black;border-radius: 0.25em;box-sizing: border-box;margin-bottom: 0.5em;}#sk-container-id-2 div.sk-estimator:hover {background-color: #d4ebff;}#sk-container-id-2 div.sk-parallel-item::after {content: \"\";width: 100%;border-bottom: 1px solid gray;flex-grow: 1;}#sk-container-id-2 div.sk-label:hover label.sk-toggleable__label {background-color: #d4ebff;}#sk-container-id-2 div.sk-serial::before {content: \"\";position: absolute;border-left: 1px solid gray;box-sizing: border-box;top: 0;bottom: 0;left: 50%;z-index: 0;}#sk-container-id-2 div.sk-serial {display: flex;flex-direction: column;align-items: center;background-color: white;padding-right: 0.2em;padding-left: 0.2em;position: relative;}#sk-container-id-2 div.sk-item {position: relative;z-index: 1;}#sk-container-id-2 div.sk-parallel {display: flex;align-items: stretch;justify-content: center;background-color: white;position: relative;}#sk-container-id-2 div.sk-item::before, #sk-container-id-2 div.sk-parallel-item::before {content: \"\";position: absolute;border-left: 1px solid gray;box-sizing: border-box;top: 0;bottom: 0;left: 50%;z-index: -1;}#sk-container-id-2 div.sk-parallel-item {display: flex;flex-direction: column;z-index: 1;position: relative;background-color: white;}#sk-container-id-2 div.sk-parallel-item:first-child::after {align-self: flex-end;width: 50%;}#sk-container-id-2 div.sk-parallel-item:last-child::after {align-self: flex-start;width: 50%;}#sk-container-id-2 div.sk-parallel-item:only-child::after {width: 0;}#sk-container-id-2 div.sk-dashed-wrapped {border: 1px dashed gray;margin: 0 0.4em 0.5em 0.4em;box-sizing: border-box;padding-bottom: 0.4em;background-color: white;}#sk-container-id-2 div.sk-label label {font-family: monospace;font-weight: bold;display: inline-block;line-height: 1.2em;}#sk-container-id-2 div.sk-label-container {text-align: center;}#sk-container-id-2 div.sk-container {\/* jupyter's `normalize.less` sets `[hidden] { display: none; }` but bootstrap.min.css set `[hidden] { display: none !important; }` so we also need the `!important` here to be able to override the default hidden behavior on the sphinx rendered scikit-learn.org. See: https:\/\/github.com\/scikit-learn\/scikit-learn\/issues\/21755 *\/display: inline-block !important;position: relative;}#sk-container-id-2 div.sk-text-repr-fallback {display: none;}<\/style><div id=\"sk-container-id-2\" class=\"sk-top-container\"><div class=\"sk-text-repr-fallback\"><pre>LogisticRegression()<\/pre><b>In a Jupyter environment, please rerun this cell to show the HTML representation or trust the notebook. <br \/>On GitHub, the HTML representation is unable to render, please try loading this page with nbviewer.org.<\/b><\/div><div class=\"sk-container\" hidden><div class=\"sk-item\"><div class=\"sk-estimator sk-toggleable\"><input class=\"sk-toggleable__control sk-hidden--visually\" id=\"sk-estimator-id-2\" type=\"checkbox\" checked><label for=\"sk-estimator-id-2\" class=\"sk-toggleable__label sk-toggleable__label-arrow\">LogisticRegression<\/label><div class=\"sk-toggleable__content\"><pre>LogisticRegression()<\/pre><\/div><\/div><\/div><\/div><\/div>"
      ]
     },
     "metadata":{},
     "output_type":"display_data"
    }
   ],
   "metadata":{
    "datalore":{
     "node_id":"F3vmKQ4zH26PBPfT2u7mSY",
     "type":"CODE",
     "hide_input_from_viewers":true,
     "hide_output_from_viewers":true
    }
   }
  },
  {
   "cell_type":"code",
   "source":[
    "model.score(X_train,y_train)"
   ],
   "execution_count":51,
   "outputs":[
    {
     "data":{
      "text\/plain":[
       "0.9351969504447268"
      ]
     },
     "metadata":{},
     "output_type":"display_data"
    }
   ],
   "metadata":{
    "datalore":{
     "node_id":"yI22pjlCY3ZbtZAxvThn0c",
     "type":"CODE",
     "hide_input_from_viewers":true,
     "hide_output_from_viewers":true
    }
   }
  },
  {
   "cell_type":"code",
   "source":[
    "# accuracy on test data\n",
    "test_data_prediction = model.predict(X_test)\n",
    "test_data_accuracy = accuracy_score(test_data_prediction, y_test)\n",
    "print('Accuracy score on Test Data : ', test_data_accuracy)"
   ],
   "execution_count":52,
   "outputs":[
    {
     "name":"stdout",
     "text":[
      "Accuracy score on Test Data :  0.949238578680203\n"
     ],
     "output_type":"stream"
    }
   ],
   "metadata":{
    "datalore":{
     "node_id":"dvUsKqDeYVPoa6e7YaQYJS",
     "type":"CODE",
     "hide_input_from_viewers":true,
     "hide_output_from_viewers":true
    }
   }
  }
 ],
 "metadata":{
  "kernelspec":{
   "display_name":"Python",
   "language":"python",
   "name":"python"
  },
  "datalore":{
   "computation_mode":"JUPYTER",
   "package_manager":"pip",
   "base_environment":"default",
   "packages":[],
   "report_row_ids":[],
   "version":3
  }
 },
 "nbformat":4,
 "nbformat_minor":4
}